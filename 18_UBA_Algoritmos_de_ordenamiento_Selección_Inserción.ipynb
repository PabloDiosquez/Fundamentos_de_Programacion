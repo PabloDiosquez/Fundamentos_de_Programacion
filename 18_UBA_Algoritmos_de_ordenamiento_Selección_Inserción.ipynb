{
  "nbformat": 4,
  "nbformat_minor": 0,
  "metadata": {
    "colab": {
      "provenance": [],
      "authorship_tag": "ABX9TyMrUIsnaezE22AHbrGgggKO",
      "include_colab_link": true
    },
    "kernelspec": {
      "name": "python3",
      "display_name": "Python 3"
    },
    "language_info": {
      "name": "python"
    }
  },
  "cells": [
    {
      "cell_type": "markdown",
      "metadata": {
        "id": "view-in-github",
        "colab_type": "text"
      },
      "source": [
        "<a href=\"https://colab.research.google.com/github/PabloDiosquez/Fundamentos_de_Programacion/blob/main/18_UBA_Algoritmos_de_ordenamiento_Selecci%C3%B3n_Inserci%C3%B3n.ipynb\" target=\"_parent\"><img src=\"https://colab.research.google.com/assets/colab-badge.svg\" alt=\"Open In Colab\"/></a>"
      ]
    },
    {
      "cell_type": "markdown",
      "source": [
        "# **Ordenamiento por Selección ☢**\n",
        "\n",
        "```\n",
        "# algoritmo selección(L):\n",
        "    para i = 0, 1..., N-2:\n",
        "      p = buscar la posición del elemento mínimo en L[i]..., L[N-1]\n",
        "      intercambiar L[p] con L[i]\n",
        "```\n",
        "\n",
        "**Invariantes**\n",
        "\n",
        "✅ La sublista L[0], L[1],...,L[i-1] está ordenada\n",
        "\n",
        "✅ Todos los elementos L[i], L[i+1],..., L[N-1] son mayores.\n"
      ],
      "metadata": {
        "id": "IV2jB_Ly278_"
      }
    },
    {
      "cell_type": "code",
      "source": [
        "def ord_seleccion(L): \n",
        "  '''Ordena una lista de elementos según el método de selección.\n",
        "  Pre: Los elementos de la lista deben ser comparables.\n",
        "  Post: La lista está ordenada.\n",
        "  '''\n",
        "  for i in range(len(L)-1):\n",
        "    p = buscar_elemento_minimo(L, i)\n",
        "    L[p], L[i] = L[i], L[p]\n",
        "\n",
        "def buscar_elemento_minimo(L, i):\n",
        "  min = L[i]\n",
        "  min_p = i\n",
        "  for j in range(i+1,len(L)):\n",
        "    if L[j] < min:\n",
        "      min = L[j]\n",
        "      min_p = j\n",
        "  return min_p\n",
        "\n",
        "L = ['f','g','a','c','d','e','b']\n",
        "\n",
        "print(f'Antes: {L}')\n",
        "ord_seleccion(L)\n",
        "print(f'Después: {L}')"
      ],
      "metadata": {
        "colab": {
          "base_uri": "https://localhost:8080/"
        },
        "id": "A9EzH4Pl1esZ",
        "outputId": "83abe11e-b735-438d-bdb6-d543e053b690"
      },
      "execution_count": 7,
      "outputs": [
        {
          "output_type": "stream",
          "name": "stdout",
          "text": [
            "Antes: ['f', 'g', 'a', 'c', 'd', 'e', 'b']\n",
            "Después: ['a', 'b', 'c', 'd', 'e', 'f', 'g']\n"
          ]
        }
      ]
    },
    {
      "cell_type": "markdown",
      "source": [
        "**¿Cuánto tarda todo esto? 🧐**\n",
        "\n",
        "**T(N) = N + (N-1) + (N-2) + ... + 2 + 1 = N(N+1)/2**\n",
        "\n",
        "**T(N) ∊ O(N^2)**\n",
        "\n",
        "**¿Cuánta memoria necesito para ejecutar este algoritmo?**\n",
        "\n",
        "Si duplico esl tamaño de la lista, ¿necesito más memoria para ejecutar el algoritmo? 👉 NO\n",
        "\n",
        "**E(N) ∊ O(1)** "
      ],
      "metadata": {
        "id": "zkBBu8mq-PCE"
      }
    },
    {
      "cell_type": "markdown",
      "source": [
        "# Ordenamiento por Inserción ☢\n",
        "\n",
        "```\n",
        "algoritmo inserción(L):\n",
        "  para i = 1, 2,..., N-1\n",
        "      insertar_ordenado(L,i)\n",
        "```"
      ],
      "metadata": {
        "id": "ifOoXdrVC195"
      }
    },
    {
      "cell_type": "code",
      "source": [
        "def ord_insercion(L):\n",
        "  '''Ordena una lista de elementos según el método de inserción.\n",
        "  Pre: Los elementos de la lista deben ser comparables.\n",
        "  Post: La lista está ordenada.\n",
        "  '''\n",
        "  for i in range(1,len(L)):\n",
        "    insertar_ordenado(L,i)\n",
        "\n",
        "def insertar_ordenado(L, i):\n",
        "  '''Pre: La lista L[:i] está ordenada.\n",
        "  Post: La lista L[:i+1] está ordenada y contiene los mismos elementos que la \n",
        "  lista L[:i] más el elemento que estaba en i.\n",
        "  '''\n",
        "  aux = L[i]\n",
        "  j = i - 1\n",
        "  while j >= 0 and L[j] > aux:\n",
        "    L[j+1] = L[j]\n",
        "    j -= 1\n",
        "  L[j+1] = aux\n",
        "\n",
        "L = ['f', 'g', 'a', 'c', 'd', 'e', 'b']\n",
        "print(f'Antes: {L}')\n",
        "ord_insercion(L)\n",
        "print(f'Después: {L}')"
      ],
      "metadata": {
        "colab": {
          "base_uri": "https://localhost:8080/"
        },
        "id": "qowxMKI1C__i",
        "outputId": "fb727030-f5d8-47df-ce88-82d1114669b7"
      },
      "execution_count": 8,
      "outputs": [
        {
          "output_type": "stream",
          "name": "stdout",
          "text": [
            "Antes: ['f', 'g', 'a', 'c', 'd', 'e', 'b']\n",
            "Después: ['a', 'b', 'c', 'd', 'e', 'f', 'g']\n"
          ]
        }
      ]
    },
    {
      "cell_type": "markdown",
      "source": [
        "**¿Cuánto tarda todo esto?**\n",
        "\n",
        "😥 Peor caso >>> Lista ordenada al revés >>> **T(N) ∊ O(N^2)**\n",
        "\n",
        "🥳 Mejor caso >>> Lista ordenada (o cuasi ordenada) >>> **T(N) ∊ O(N)**\n",
        "\n",
        "**¿Y en espacio??**\n",
        "\n",
        "**E(N) ∊ O(1)**"
      ],
      "metadata": {
        "id": "bz8NJvwzLsRG"
      }
    }
  ]
}