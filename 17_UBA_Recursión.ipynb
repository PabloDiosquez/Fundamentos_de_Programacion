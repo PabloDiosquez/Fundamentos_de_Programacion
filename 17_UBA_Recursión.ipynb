{
  "nbformat": 4,
  "nbformat_minor": 0,
  "metadata": {
    "colab": {
      "provenance": [],
      "authorship_tag": "ABX9TyMMu2o6as+YRBVVHpB4MvJQ",
      "include_colab_link": true
    },
    "kernelspec": {
      "name": "python3",
      "display_name": "Python 3"
    },
    "language_info": {
      "name": "python"
    }
  },
  "cells": [
    {
      "cell_type": "markdown",
      "metadata": {
        "id": "view-in-github",
        "colab_type": "text"
      },
      "source": [
        "<a href=\"https://colab.research.google.com/github/PabloDiosquez/Fundamentos_de_Programacion/blob/main/17_UBA_Recursi%C3%B3n.ipynb\" target=\"_parent\"><img src=\"https://colab.research.google.com/assets/colab-badge.svg\" alt=\"Open In Colab\"/></a>"
      ]
    },
    {
      "cell_type": "markdown",
      "source": [
        "# **Recursión 🎳**\n",
        "\n",
        "La recursión ocurre cuando algo está definido en términos de sí mismo o su tipo.\n",
        "\n",
        "```\n",
        "algoritmo buscar(palabra):\n",
        "  leer entrada en el diccionario\n",
        "  si todas las palabras son conocidas\n",
        "    fin                    #caso base  \n",
        "  por cada palabra no conocida\n",
        "    buscar(palabra)        #caso recursivo\n",
        "```\n",
        "\n",
        "```\n",
        "algoritmo contar(fila):\n",
        "\tsi es la última fila:\n",
        "\t\tdevolver 1\n",
        "\tdevolver contar(fila siguiente) + 1\n",
        "\n",
        "```\n",
        "\n",
        "\n",
        "\n"
      ],
      "metadata": {
        "id": "6vIChwIbGSJZ"
      }
    },
    {
      "cell_type": "markdown",
      "source": [
        "![Sierpinsky.png](data:image/png;base64,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)"
      ],
      "metadata": {
        "id": "8hZQhHEDUV_v"
      }
    },
    {
      "cell_type": "code",
      "source": [
        "import turtle\n",
        "\n",
        "def sierpinski(t, orden, tam):\n",
        "    if orden == 0:\n",
        "        for _ in range(3):\n",
        "            t.forward(tam)\n",
        "            t.left(120)\n",
        "    else:\n",
        "        paso = tam / 2\n",
        "        for t1, m1, t2, m2 in [(0, paso, 0, 0),\n",
        "                               (120, paso, -120, 0),\n",
        "                               (-60, paso, 60, -(paso))]:\n",
        "            sierpinski(t, orden - 1, paso)\n",
        "            t.left(t1)\n",
        "            t.forward(m1)\n",
        "            t.left(t2)\n",
        "            t.forward(m2)\n",
        "\n",
        "if __name__ == '__main__':\n",
        "    screen = turtle.Screen()\n",
        "    t = turtle.Turtle()\n",
        "    t.speed(0)\n",
        "    sierpinski(t, 4, 300)\n",
        "    screen.mainloop()"
      ],
      "metadata": {
        "id": "ANj32efoSt45"
      },
      "execution_count": null,
      "outputs": []
    },
    {
      "cell_type": "markdown",
      "source": [
        "# **Estrellas 🌟**\n",
        "\n",
        "```\n",
        "algoritmo imprimir_estrellas(n):\n",
        "\trepetir n veces:\n",
        "imprimir('★')\n",
        "\n",
        "```\n",
        "\n",
        "```\n",
        "algoritmo imprimir_estrellas(n):\n",
        "\tsi n = 0:\n",
        "    fin\n",
        "    en caso contrario:\n",
        "\t  imprimir('★')\n",
        "\t  imprimir_estrellas(n - 1)\n",
        "```\n",
        "\n",
        "\n"
      ],
      "metadata": {
        "id": "c__GRZsASyx6"
      }
    },
    {
      "cell_type": "code",
      "source": [
        "def imprimir_estrellas(n):\n",
        "  for i in range(n):\n",
        "    print('🌟')\n",
        "\n",
        "imprimir_estrellas(10)"
      ],
      "metadata": {
        "colab": {
          "base_uri": "https://localhost:8080/"
        },
        "id": "-7ZaPSagWIu7",
        "outputId": "53507aa4-4ddb-4127-fb57-8ef7f33e3525"
      },
      "execution_count": 3,
      "outputs": [
        {
          "output_type": "stream",
          "name": "stdout",
          "text": [
            "🌟\n",
            "🌟\n",
            "🌟\n",
            "🌟\n",
            "🌟\n",
            "🌟\n",
            "🌟\n",
            "🌟\n",
            "🌟\n",
            "🌟\n"
          ]
        }
      ]
    },
    {
      "cell_type": "code",
      "source": [
        "def imprimir_estrellas(n):\n",
        "  if n == 1:\n",
        "    print('🌟')\n",
        "  else:\n",
        "    print('🌟')\n",
        "    imprimir_estrellas(n-1)\n",
        "\n",
        "imprimir_estrellas(10)"
      ],
      "metadata": {
        "colab": {
          "base_uri": "https://localhost:8080/"
        },
        "id": "0uc5JV_VWslR",
        "outputId": "b473c071-bcb4-481d-b7ea-e3d76393d766"
      },
      "execution_count": 4,
      "outputs": [
        {
          "output_type": "stream",
          "name": "stdout",
          "text": [
            "🌟\n",
            "🌟\n",
            "🌟\n",
            "🌟\n",
            "🌟\n",
            "🌟\n",
            "🌟\n",
            "🌟\n",
            "🌟\n",
            "🌟\n"
          ]
        }
      ]
    }
  ]
}