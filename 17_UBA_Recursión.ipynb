{
  "nbformat": 4,
  "nbformat_minor": 0,
  "metadata": {
    "colab": {
      "provenance": [],
      "authorship_tag": "ABX9TyOsOiNwvhRK1f0+LichaQUu",
      "include_colab_link": true
    },
    "kernelspec": {
      "name": "python3",
      "display_name": "Python 3"
    },
    "language_info": {
      "name": "python"
    }
  },
  "cells": [
    {
      "cell_type": "markdown",
      "metadata": {
        "id": "view-in-github",
        "colab_type": "text"
      },
      "source": [
        "<a href=\"https://colab.research.google.com/github/PabloDiosquez/Fundamentos_de_Programacion/blob/main/17_UBA_Recursi%C3%B3n.ipynb\" target=\"_parent\"><img src=\"https://colab.research.google.com/assets/colab-badge.svg\" alt=\"Open In Colab\"/></a>"
      ]
    },
    {
      "cell_type": "markdown",
      "source": [
        "# **Recursión 🎳**\n",
        "\n",
        "La recursión ocurre cuando algo está definido en términos de sí mismo o su tipo.\n",
        "\n",
        "```\n",
        "algoritmo buscar(palabra):\n",
        "  leer entrada en el diccionario\n",
        "  si todas las palabras son conocidas\n",
        "    fin                    #caso base  \n",
        "  por cada palabra no conocida\n",
        "    buscar(palabra)        #caso recursivo\n",
        "```\n",
        "\n",
        "```\n",
        "algoritmo contar(fila):\n",
        "\tsi es la última fila:\n",
        "\t\tdevolver 1\n",
        "\tdevolver contar(fila siguiente) + 1\n",
        "\n",
        "```\n",
        "\n",
        "\n",
        "\n"
      ],
      "metadata": {
        "id": "6vIChwIbGSJZ"
      }
    },
    {
      "cell_type": "code",
      "source": [
        "import turtle\n",
        "\n",
        "def sierpinski(t, orden, tam):\n",
        "    if orden == 0:\n",
        "        for _ in range(3):\n",
        "            t.forward(tam)\n",
        "            t.left(120)\n",
        "    else:\n",
        "        paso = tam / 2\n",
        "        for t1, m1, t2, m2 in [(0, paso, 0, 0),\n",
        "                               (120, paso, -120, 0),\n",
        "                               (-60, paso, 60, -(paso))]:\n",
        "            sierpinski(t, orden - 1, paso)\n",
        "            t.left(t1)\n",
        "            t.forward(m1)\n",
        "            t.left(t2)\n",
        "            t.forward(m2)\n",
        "\n",
        "if __name__ == '__main__':\n",
        "    screen = turtle.Screen()\n",
        "    t = turtle.Turtle()\n",
        "    t.speed(0)\n",
        "    sierpinski(t, 4, 300)\n",
        "    screen.mainloop()"
      ],
      "metadata": {
        "id": "ANj32efoSt45"
      },
      "execution_count": null,
      "outputs": []
    },
    {
      "cell_type": "markdown",
      "source": [
        "# **Estrellas 🌟**\n",
        "\n",
        "```\n",
        "algoritmo imprimir_estrellas(n):\n",
        "\trepetir n veces:\n",
        "imprimir('★')\n",
        "\n",
        "```\n",
        "\n",
        "```\n",
        "algoritmo imprimir_estrellas(n):\n",
        "\tsi n = 0:\n",
        "    fin\n",
        "    en caso contrario:\n",
        "\t  imprimir('★')\n",
        "\t  imprimir_estrellas(n - 1)\n",
        "```\n",
        "\n",
        "\n"
      ],
      "metadata": {
        "id": "c__GRZsASyx6"
      }
    }
  ]
}