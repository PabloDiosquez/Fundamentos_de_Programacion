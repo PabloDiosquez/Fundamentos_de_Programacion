{
  "nbformat": 4,
  "nbformat_minor": 0,
  "metadata": {
    "colab": {
      "provenance": [],
      "authorship_tag": "ABX9TyOke0EeBCue6dg/QLDAo0Ms",
      "include_colab_link": true
    },
    "kernelspec": {
      "name": "python3",
      "display_name": "Python 3"
    },
    "language_info": {
      "name": "python"
    }
  },
  "cells": [
    {
      "cell_type": "markdown",
      "metadata": {
        "id": "view-in-github",
        "colab_type": "text"
      },
      "source": [
        "<a href=\"https://colab.research.google.com/github/PabloDiosquez/Fundamentos_de_Programacion/blob/main/Ejercicios_sueltos_00ipynb.ipynb\" target=\"_parent\"><img src=\"https://colab.research.google.com/assets/colab-badge.svg\" alt=\"Open In Colab\"/></a>"
      ]
    },
    {
      "cell_type": "markdown",
      "source": [
        "Solicitar números al usuario hasta que ingrese el cero. Por cada uno, mostrar la suma de sus dígitos (utilizando una función que realice dicha suma)."
      ],
      "metadata": {
        "id": "FlBgrnopmeZW"
      }
    },
    {
      "cell_type": "code",
      "execution_count": null,
      "metadata": {
        "colab": {
          "base_uri": "https://localhost:8080/"
        },
        "id": "xSmEMH_ImZQP",
        "outputId": "e9d96b38-1c7f-47f0-a682-89b7147a5c77"
      },
      "outputs": [
        {
          "output_type": "stream",
          "name": "stdout",
          "text": [
            "Ingrese un número: 12\n",
            "Suma de los dígitos de 12: 3\n",
            "Ingrese un número: 43\n",
            "Suma de los dígitos de 43: 7\n",
            "Ingrese un número: 1234\n",
            "Suma de los dígitos de 1234: 10\n",
            "Ingrese un número: 654\n",
            "Suma de los dígitos de 654: 15\n",
            "Ingrese un número: 789\n",
            "Suma de los dígitos de 789: 24\n",
            "Ingrese un número: 0\n",
            "\n",
            "Fin del programa.\n"
          ]
        }
      ],
      "source": [
        "def suma_dig(n):\n",
        "  sum = 0\n",
        "  while n > 0:\n",
        "    dig = n % 10\n",
        "    sum += dig\n",
        "    n = n // 10\n",
        "  \n",
        "  return sum\n",
        "\n",
        "def main():\n",
        "  while True:\n",
        "    n = int(input('Ingrese un número: '))\n",
        "    if n == 0:\n",
        "      break\n",
        "    \n",
        "    print(f'Suma de los dígitos de {n}: {suma_dig(n)}')\n",
        "  print('\\nFin del programa.')\n",
        "\n",
        "main()"
      ]
    },
    {
      "cell_type": "markdown",
      "source": [
        "Solicitar números al usuario hasta que ingrese el cero. Por cada uno, mostrar la suma de sus dígitos. Al finalizar, mostrar la sumatoria de todos los números ingresados y la suma de sus dígitos. Reutilizar la misma función realizada en el ejercicio anterior."
      ],
      "metadata": {
        "id": "zebqrvBnnz7r"
      }
    },
    {
      "cell_type": "code",
      "source": [
        "def main():\n",
        "  suma = 0\n",
        "  while True:\n",
        "    n = int(input('Ingrese un número: '))\n",
        "    if n == 0: break\n",
        "\n",
        "    suma += n\n",
        "    print(f'Suma dígitos de {n}: {suma_dig(n)}')\n",
        "  \n",
        "  print(f'Sumatoria de los números ingresados: {suma}')\n",
        "  print('\\nFin del programa.')\n",
        "\n",
        "main()"
      ],
      "metadata": {
        "colab": {
          "base_uri": "https://localhost:8080/"
        },
        "id": "jY6oJP5Wn6Tf",
        "outputId": "c9ac4499-1ef5-4331-89f0-63c3a9310e01"
      },
      "execution_count": null,
      "outputs": [
        {
          "output_type": "stream",
          "name": "stdout",
          "text": [
            "Ingrese un número: 12\n",
            "Suma dígitos de 12: 3\n",
            "Ingrese un número: 32\n",
            "Suma dígitos de 32: 5\n",
            "Ingrese un número: 45\n",
            "Suma dígitos de 45: 9\n",
            "Ingrese un número: 10\n",
            "Suma dígitos de 10: 1\n",
            "Ingrese un número: 1002\n",
            "Suma dígitos de 1002: 3\n",
            "Ingrese un número: 0\n",
            "Sumatoria de los números ingresados: 1101\n",
            "\n",
            "Fin del programa.\n"
          ]
        }
      ]
    },
    {
      "cell_type": "markdown",
      "source": [
        "Requerir al usuario que ingrese un número entero e informar si es primo o no, utilizando una función booleana que lo decida."
      ],
      "metadata": {
        "id": "bFm6Hc_YpYsA"
      }
    },
    {
      "cell_type": "code",
      "source": [
        "# Solución A\n",
        "def tiene_divisores_propios(n):\n",
        "  medio = n // 2\n",
        "  for i in range(2,medio + 1):\n",
        "    if not n % i:\n",
        "      return True\n",
        "  return False\n",
        "\n",
        "def es_primo(n):\n",
        "  return (n > 1) and not (tiene_divisores_propios(n))\n",
        "\n",
        "assert es_primo(2)\n",
        "assert es_primo(3)\n",
        "assert es_primo(19)\n",
        "assert es_primo(23)\n",
        "assert es_primo(101)\n",
        "assert es_primo(467)\n",
        "assert not es_primo(1)\n",
        "assert not es_primo(1001)"
      ],
      "metadata": {
        "id": "4p-sCEp2pZrQ"
      },
      "execution_count": null,
      "outputs": []
    },
    {
      "cell_type": "code",
      "source": [
        "# Solución B\n",
        "def es_primo(n):\n",
        "  medio = n // 2\n",
        "  divisor = 2\n",
        "\n",
        "  while (n % divisor) and (divisor <= medio):\n",
        "    divisor += 1\n",
        "\n",
        "  if (n > 1) and (divisor > medio): return True\n",
        "  return False\n",
        "\n",
        "assert es_primo(2)\n",
        "assert es_primo(3)\n",
        "assert es_primo(19)\n",
        "assert es_primo(23)\n",
        "assert es_primo(101)\n",
        "assert es_primo(467)\n",
        "assert not es_primo(1)\n",
        "assert not es_primo(1001)\n",
        "assert es_primo(104479)"
      ],
      "metadata": {
        "id": "xR9uP_T1qnia"
      },
      "execution_count": null,
      "outputs": []
    },
    {
      "cell_type": "markdown",
      "source": [
        "Solicitar al usuario un número entero y luego un dígito. Informar la cantidad de ocurrencias del dígito en el número, utilizando para ello una función que calcule la frecuencia."
      ],
      "metadata": {
        "id": "Z3R92AQ0sed7"
      }
    },
    {
      "cell_type": "code",
      "source": [
        "def frecuencia(n,e):\n",
        "  c = 0\n",
        "  while n > 0:\n",
        "    d = n % 10\n",
        "    if d == e:\n",
        "      c += 1\n",
        "    n = n // 10\n",
        "  return c \n",
        "\n",
        "def main():\n",
        "  n = int(input('Ingrese un número: '))\n",
        "  d = int(input('Ingrese un dígito: '))\n",
        "  ocurrencias = frecuencia(n,d)\n",
        "  if ocurrencias:\n",
        "    print(f'La cantidad de ocurrencias de {d} en {n} es: {ocurrencias}')\n",
        "  else:\n",
        "    print(f'No hay ocurrencias de {d} en {n}')\n",
        "\n",
        "main()"
      ],
      "metadata": {
        "colab": {
          "base_uri": "https://localhost:8080/"
        },
        "id": "5wWrBqZjsfO0",
        "outputId": "63f4c955-37e4-4f7d-a788-7064500efb44"
      },
      "execution_count": null,
      "outputs": [
        {
          "output_type": "stream",
          "name": "stdout",
          "text": [
            "Ingrese un número: 1222322223222\n",
            "Ingrese un dígito: 2\n",
            "La cantidad de ocurrencias de 2 en 1222322223222 es: 10\n"
          ]
        }
      ]
    },
    {
      "cell_type": "markdown",
      "source": [
        "Escribir un programa que pida números al usuario, motrar el factorial de cada uno y, al finalizar, la cantidad total de números leídos en total. Utilizar una o más funciones, según sea necesario."
      ],
      "metadata": {
        "id": "flFbEvhVuDZT"
      }
    },
    {
      "cell_type": "code",
      "source": [
        "def factorial(n):\n",
        "  if n == 0: return 1\n",
        "  return factorial(n-1)*n\n",
        "\n",
        "def main():\n",
        "  cant = 0\n",
        "  while True:\n",
        "    n = int(input('Ingrese un número: '))\n",
        "    if n == 0: break\n",
        "\n",
        "    print(f'Factorial de {n}: {factorial(n)}')\n",
        "    cant += 1\n",
        "\n",
        "  print(f'La cantidad de números ingresados es {cant}')\n",
        "\n",
        "main()"
      ],
      "metadata": {
        "colab": {
          "base_uri": "https://localhost:8080/"
        },
        "id": "cF2eS3VZuERS",
        "outputId": "444f2dd8-e71d-4c61-8ee0-16bb861917cc"
      },
      "execution_count": null,
      "outputs": [
        {
          "output_type": "stream",
          "name": "stdout",
          "text": [
            "Ingrese un número: 2\n",
            "Factorial de 2: 2\n",
            "Ingrese un número: 3\n",
            "Factorial de 3: 6\n",
            "Ingrese un número: 4\n",
            "Factorial de 4: 24\n",
            "Ingrese un número: 5\n",
            "Factorial de 5: 120\n",
            "Ingrese un número: 6\n",
            "Factorial de 6: 720\n",
            "Ingrese un número: 1\n",
            "Factorial de 1: 1\n",
            "Ingrese un número: 0\n",
            "La cantidad de números ingresados es 6\n"
          ]
        }
      ]
    },
    {
      "cell_type": "markdown",
      "source": [
        "Escribir un programa que pida números positivos al usuario. Mostrar el número cuya sumatoria de dígitos fue mayor y la cantidad de números cuya sumatoria de dígitos fue menor que 10. Utilizar una o más funciones, según sea necesario."
      ],
      "metadata": {
        "id": "aml-Cf4zwMJt"
      }
    },
    {
      "cell_type": "code",
      "source": [
        "def cargar_numeros():\n",
        "  numeros = []\n",
        "  while True:\n",
        "    n = int(input('Ingrese un número: '))\n",
        "    if n == 0: break\n",
        "    numeros.append(n)\n",
        "\n",
        "  return numeros\n",
        "\n",
        "def suma_dig_mayor(numeros):\n",
        "  max = numeros[0]\n",
        "  sumaDigMax = suma_dig(numeros[0])\n",
        "  for numero in numeros:\n",
        "    if suma_dig(numero) > sumaDigMax:\n",
        "      sumaDigMax = suma_dig(numero)\n",
        "      max = numero\n",
        "\n",
        "  return max, sumaDigMax\n",
        "\n",
        "def main():\n",
        "  numeros = cargar_numeros()\n",
        "  max, sumaDigMax = suma_dig_mayor(numeros)\n",
        "\n",
        "  cant = 0\n",
        "  for numero in numeros:\n",
        "    if suma_dig(numero) < 10:\n",
        "      cant += 1\n",
        "\n",
        "  print(f'Número cuya sumatoria de dígitos fue mayor: {max} 👉 Sumatoria: {sumaDigMax}')\n",
        "  print(f'Cantidad de números cuya sumatoria de dígitos es menor a 10 👉 {cant}')\n",
        "  \n",
        "main()"
      ],
      "metadata": {
        "colab": {
          "base_uri": "https://localhost:8080/"
        },
        "id": "v5sd24-UwMs2",
        "outputId": "c9dbf29d-5fcb-4757-97dc-bfc953310970"
      },
      "execution_count": null,
      "outputs": [
        {
          "output_type": "stream",
          "name": "stdout",
          "text": [
            "Ingrese un número: 12\n",
            "Ingrese un número: 32\n",
            "Ingrese un número: 45\n",
            "Ingrese un número: 1092\n",
            "Ingrese un número: 32\n",
            "Ingrese un número: 44\n",
            "Ingrese un número: 0\n",
            "Número cuya sumatoria de dígitos fue mayor: 1092 👉 Sumatoria: 12\n",
            "Cantidad de números cuya sumatoria de dígitos es menor a 10 👉 5\n"
          ]
        }
      ]
    },
    {
      "cell_type": "markdown",
      "source": [
        "Solicitar al usuario el ingreso de números primos. La lectura finalizará cuando ingrese un número que no sea primo. Por cada número, mostrar la suma de sus dígitos. También solicitar al usuario un dígito e informar la cantidad de veces que aparece en el número (frecuencia). Al finalizar el programa, mostrar el factorial del mayor número ingresado."
      ],
      "metadata": {
        "id": "BDRSl6822Iif"
      }
    },
    {
      "cell_type": "code",
      "source": [
        "\n",
        "def main():\n",
        "  while True:\n",
        "    p = int(input('Ingrese números primos -- Corta con un compuesto '))\n",
        "    if not es_primo(p): break\n",
        "\n",
        "    d = int(input('Ingrese un dígito: '))\n",
        "    print(f'Suma de los dígitos de {p} 👉 {suma_dig(p)}')\n",
        "    print(f'Cantidad de ocurrencias de {d} en {p} 👉 {frecuencia(p,d)}')\n",
        "\n",
        "  print('\\nFin del programa.')\n",
        "main()"
      ],
      "metadata": {
        "colab": {
          "base_uri": "https://localhost:8080/"
        },
        "id": "ZGTbEQPy2JHR",
        "outputId": "bd5815bf-2f98-4c5f-8c14-bdfd8ea573fc"
      },
      "execution_count": null,
      "outputs": [
        {
          "output_type": "stream",
          "name": "stdout",
          "text": [
            "Ingrese números primos -- Corta con un compuesto 101\n",
            "Ingrese un dígito: 1\n",
            "Suma de los dígitos de 101 👉 2\n",
            "Cantidad de ocurrencias de 1 en 101 👉 2\n",
            "Ingrese números primos -- Corta con un compuesto 467\n",
            "Ingrese un dígito: 7\n",
            "Suma de los dígitos de 467 👉 17\n",
            "Cantidad de ocurrencias de 7 en 467 👉 1\n",
            "Ingrese números primos -- Corta con un compuesto 23\n",
            "Ingrese un dígito: 4\n",
            "Suma de los dígitos de 23 👉 5\n",
            "Cantidad de ocurrencias de 4 en 23 👉 0\n",
            "Ingrese números primos -- Corta con un compuesto 0\n",
            "\n",
            "Fin del programa.\n"
          ]
        }
      ]
    },
    {
      "cell_type": "markdown",
      "source": [
        "Escribir una función que, dado un número de DNI, retorne True si el número es válido y False si no lo es. Para que un número de DNI sea válido debe tener entre 7 y 8 dígitos."
      ],
      "metadata": {
        "id": "0YuqkZXz4UQA"
      }
    },
    {
      "cell_type": "code",
      "source": [
        "def cant_digitos(n):\n",
        "  cant = 0\n",
        "  while n > 0:\n",
        "    n = n // 10\n",
        "    cant += 1\n",
        "  return cant\n",
        "\n",
        "def dni_valido(dni):\n",
        "  return 7 <= cant_digitos(dni) <= 8\n",
        "\n",
        "assert dni_valido(23412567)\n",
        "assert dni_valido(2341257)\n",
        "assert not dni_valido(212567)\n",
        "assert not dni_valido(2)"
      ],
      "metadata": {
        "id": "RvcSM5Do4jNR"
      },
      "execution_count": null,
      "outputs": []
    },
    {
      "cell_type": "markdown",
      "source": [
        "A) Solicitar al usuario que ingrese números, los cuales se guardarán en una lista. Finalizar al ingresar el número 0, el cual no debe guardarse.\n",
        "\n",
        "\n",
        "B) A continuación, solicitar al usuario que ingrese un número y, si el número está en la lista, eliminar su primera ocurrencia. Mostrar un mensaje si no es posible eliminar.\n",
        "\n",
        "\n",
        "C) Recorrer la lista para imprimir la sumatoria de todos los elementos.\n",
        "\n",
        "\n",
        "D) Solicitar al usuario otro número y crear una lista con los elementos de la lista original que sean menores que el número dado. Imprimir esta nueva lista, iterando por ella.\n",
        "\n",
        "\n",
        "E) Generar e imprimir una nueva lista que contenga como elementos a tuplas de dos elementos, cada una compuesta por un número de la lista original y la cantidad de veces que aparece en ella. Por ejemplo, si la lista original es [5,16,2,5,57,5,2] la nueva lista contendrá: [(5,3), (16,1), (2,2), (57,1)]"
      ],
      "metadata": {
        "id": "lpvM3kDY5pX0"
      }
    },
    {
      "cell_type": "code",
      "source": [
        "# núeros 👉 lista de números\n",
        "def cargar_numeros():\n",
        "  numeros = []\n",
        "  while True:\n",
        "    numero = int(input('Ingrese un número: '))\n",
        "    if cargar_numeros == 0: break\n",
        "    numeros.append(numero)\n",
        "\n",
        "  return numeros\n",
        "\n",
        "def eliminar_primera_aparicion(numeros,numero):\n",
        "  _numeros = []\n",
        "  bandera = False\n",
        "  for _numero in numeros:\n",
        "    if _numero != numero or bandera:\n",
        "      _numeros.append(_numero)\n",
        "    else:\n",
        "      bandera = True\n",
        "\n",
        "  return _numeros\n",
        "\n",
        "def sumatoria_numeros(numeros):\n",
        "  suma = 0\n",
        "  for numero in numeros:\n",
        "    suma += numero\n",
        "  return suma\n",
        "\n",
        "def menores_que(numeros,numero):\n",
        "  _numeros = []\n",
        "  for _numero in numeros:\n",
        "    if _numero < numero:\n",
        "      _numeros.append(_numero)\n",
        "\n",
        "  return _numeros"
      ],
      "metadata": {
        "id": "-TgPfat_6Kim"
      },
      "execution_count": null,
      "outputs": []
    },
    {
      "cell_type": "markdown",
      "source": [
        "Se dispone de una lista de 10 grupos de números enteros separados entre ellos\n",
        "por ceros. Se pide determinar e informar:\n",
        "\n",
        "a. El número de grupo con mayor porcentaje de números impares\n",
        "positivos respecto al total de números que forman el grupo.\n",
        "\n",
        "b. Para cada grupo, el último número primo y en qué orden apareció en\n",
        "ese grupo. Si en un grupo no hubiera números primos, informarlo con\n",
        "un cartel aclaratorio.\n",
        "\n",
        "c. Informar cuántos grupos están formados por todos números ordenados\n",
        "de mayor a menor."
      ],
      "metadata": {
        "id": "sFB04j5AIAif"
      }
    },
    {
      "cell_type": "code",
      "source": [
        "def es_primo_(n):\n",
        "  divisores = 0\n",
        "  d = 1\n",
        "  while d <= n:\n",
        "    if not n % d:\n",
        "      divisores += 1\n",
        "    d += 1\n",
        "\n",
        "  if divisores == 2:\n",
        "    return True\n",
        "  return False\n",
        "\n",
        "def main():\n",
        "  for i in range(3):\n",
        "    grupo = i+1\n",
        "    print(f'Grupo N° {grupo}')\n",
        "    total = 0\n",
        "    impares = 0\n",
        "    ultimoPrimo = 0\n",
        "    while True:\n",
        "      n = int(input('Ingrese un número: '))\n",
        "      if n == 0: break\n",
        "      total += 1\n",
        "      if n % 2 and n > 0:\n",
        "        impares += 1\n",
        "\n",
        "      if es_primo(n):\n",
        "        ultimoPrimo = n\n",
        "        posUltimoPrimo = total \n",
        "    \n",
        "    if total != 0:\n",
        "      porc_impares = 100*(impares / total)\n",
        "    else:\n",
        "      porc_impares = 0\n",
        "\n",
        "    if not i:\n",
        "      porc_impares_max = porc_impares\n",
        "      grupo_max = grupo\n",
        "    else:\n",
        "      if porc_impares > porc_impares_max:\n",
        "        porc_impares_max = porc_impares\n",
        "        grupo_max = grupo\n",
        "\n",
        "    if ultimoPrimo != 0:\n",
        "      print(f'Último primo: {ultimoPrimo} 👉🏼 Posición: {posUltimoPrimo}')\n",
        "    else:\n",
        "      print('No se ingresaron primos')\n",
        "  \n",
        "  print(f'\\nEl grupo con mayor porcentaje de impares positivos es el N° {grupo_max}') \n",
        "\n",
        "\n",
        "main()"
      ],
      "metadata": {
        "colab": {
          "base_uri": "https://localhost:8080/"
        },
        "id": "0Dh_hc0wIFxk",
        "outputId": "2d0e1036-b64e-4cfb-e52a-84302b4e09fd"
      },
      "execution_count": null,
      "outputs": [
        {
          "output_type": "stream",
          "name": "stdout",
          "text": [
            "Grupo N° 1\n",
            "Ingrese un número: 2\n",
            "Ingrese un número: 3\n",
            "Ingrese un número: 4\n",
            "Ingrese un número: 5\n",
            "Ingrese un número: 0\n",
            "Último primo: 5 👉🏼 Posición: 4\n",
            "Grupo N° 2\n",
            "Ingrese un número: 12\n",
            "Ingrese un número: 2\n",
            "Ingrese un número: 23\n",
            "Ingrese un número: 0\n",
            "Último primo: 23 👉🏼 Posición: 3\n",
            "Grupo N° 3\n",
            "Ingrese un número: 101\n",
            "Ingrese un número: 567\n",
            "Ingrese un número: 467\n",
            "Ingrese un número: 0\n",
            "Último primo: 467 👉🏼 Posición: 3\n",
            "\n",
            "El grupo con mayor porcentaje de impares positivos es el N° 3\n"
          ]
        }
      ]
    },
    {
      "cell_type": "markdown",
      "source": [
        "Requerir al usuario que ingrese un número entero positivo e imprimir todos los números correlativos entre el ingresado por el usuario y uno menos del doble del mismo."
      ],
      "metadata": {
        "id": "XnUoqIOZ-wHW"
      }
    },
    {
      "cell_type": "code",
      "source": [
        "n = int(input('Ingrese un entero positivo: '))\n",
        "for x in range(n,2*n):\n",
        "  print(x) "
      ],
      "metadata": {
        "colab": {
          "base_uri": "https://localhost:8080/"
        },
        "id": "n4L_Yav0_A6G",
        "outputId": "b8f77c73-8954-4372-c46f-9dd9899cd773"
      },
      "execution_count": null,
      "outputs": [
        {
          "output_type": "stream",
          "name": "stdout",
          "text": [
            "Ingrese un entero positivo: 12\n",
            "12\n",
            "13\n",
            "14\n",
            "15\n",
            "16\n",
            "17\n",
            "18\n",
            "19\n",
            "20\n",
            "21\n",
            "22\n",
            "23\n"
          ]
        }
      ]
    },
    {
      "cell_type": "markdown",
      "source": [
        "Escribir un programa que solicite al usuario una cantidad y luego itere la cantidad de veces dada. En cada iteración, solicitar al usuario que ingrese un número. Al finalizar, mostrar la suma de todos los números ingresados."
      ],
      "metadata": {
        "id": "l9PDjMe6_awO"
      }
    },
    {
      "cell_type": "code",
      "source": [
        "def iteraciones():\n",
        "  cantidad = int(input('Ingrese cantidad de iteraciones: '))\n",
        "  suma = 0\n",
        "  for i in range(cantidad):\n",
        "    n = int(input('Ingrese un número: '))\n",
        "    suma += n\n",
        "  \n",
        "  return suma\n",
        "\n",
        "def main():\n",
        "  suma = iteraciones()\n",
        "  print(f'La suma de todos los números ingresados es {suma}')\n",
        "\n",
        "main()"
      ],
      "metadata": {
        "colab": {
          "base_uri": "https://localhost:8080/"
        },
        "id": "ljOwfu8a_bgW",
        "outputId": "471d09b7-235b-4526-f13f-7855a57f1055"
      },
      "execution_count": null,
      "outputs": [
        {
          "output_type": "stream",
          "name": "stdout",
          "text": [
            "Ingrese cantidad de iteraciones: 3\n",
            "Ingrese un número: 12\n",
            "Ingrese un número: 10\n",
            "Ingrese un número: 5\n",
            "La suma de todos los números ingresados es 27\n"
          ]
        }
      ]
    },
    {
      "cell_type": "markdown",
      "source": [
        "Solicitar al usuario que ingrese una frase y luego imprimir un listado de las vocales que aparecen en esa frase (sin repetirlas)."
      ],
      "metadata": {
        "id": "YQgBUA-bI3c1"
      }
    },
    {
      "cell_type": "code",
      "source": [
        "def listado_vocales(frase):\n",
        "  print(f'Listado de vocales que aparecen en {frase}:')\n",
        "  for vocal in ['a','e','i','o','u']:\n",
        "    if vocal in frase:\n",
        "      print(vocal)\n",
        "\n",
        "def main():\n",
        "  listado_vocales(input('Ingrese una frase: '))\n",
        "\n",
        "main()"
      ],
      "metadata": {
        "id": "FnYsLu07J5G2",
        "colab": {
          "base_uri": "https://localhost:8080/"
        },
        "outputId": "62733ce0-e907-4f47-88e2-af665440a3fa"
      },
      "execution_count": 3,
      "outputs": [
        {
          "output_type": "stream",
          "name": "stdout",
          "text": [
            "Ingrese una frase: Hola Mundo! \n",
            "Listado de vocales que aparecen en Hola Mundo! :\n",
            "a\n",
            "o\n",
            "u\n"
          ]
        }
      ]
    },
    {
      "cell_type": "markdown",
      "source": [
        "Solicitar al usuario que ingrese una frase y luego imprimir la cantidad de vocales que se encuentran en dicha frase."
      ],
      "metadata": {
        "id": "qpkPEKQ-udag"
      }
    },
    {
      "cell_type": "code",
      "source": [
        "# def cantidad_vocales(frase):\n",
        "#   cant = 0\n",
        "#   for letra in frase:\n",
        "#     if letra in 'aeiouáéíoú'´:\n",
        "#       cant += 1\n",
        "  \n",
        "#   return cant\n",
        "\n",
        "def cantidad_vocales(frase):\n",
        "  total = 0\n",
        "  vocales = {\n",
        "      'a': 0,\n",
        "      'e': 0,\n",
        "      'i': 0,\n",
        "      'o': 0,\n",
        "      'u': 0,\n",
        "  }\n",
        "\n",
        "  for letra in frase.lower():\n",
        "    if letra in 'aeiou':\n",
        "      vocales[letra] += 1\n",
        "      total += 1\n",
        "\n",
        "  return vocales, total"
      ],
      "metadata": {
        "id": "TxcHg9fBueFn"
      },
      "execution_count": 9,
      "outputs": []
    }
  ]
}