{
  "nbformat": 4,
  "nbformat_minor": 0,
  "metadata": {
    "colab": {
      "provenance": [],
      "authorship_tag": "ABX9TyPDpW4GwjmGc7qp45JzLpMB",
      "include_colab_link": true
    },
    "kernelspec": {
      "name": "python3",
      "display_name": "Python 3"
    },
    "language_info": {
      "name": "python"
    }
  },
  "cells": [
    {
      "cell_type": "markdown",
      "metadata": {
        "id": "view-in-github",
        "colab_type": "text"
      },
      "source": [
        "<a href=\"https://colab.research.google.com/github/PabloDiosquez/Fundamentos_de_Programacion/blob/main/Pr%C3%A1ctica_04.ipynb\" target=\"_parent\"><img src=\"https://colab.research.google.com/assets/colab-badge.svg\" alt=\"Open In Colab\"/></a>"
      ]
    },
    {
      "cell_type": "markdown",
      "source": [
        "Ejercicio 1: \n",
        "\n",
        "Definir una función que reciba como parámetro un número e imprima por\n",
        "pantalla si es positivo, negativo o cero. Utilice esta función para escribir un programa que\n",
        "lee un número ingresado por el usuario y muestre si es positivo, negativo o cero."
      ],
      "metadata": {
        "id": "ab8clmtN7uSt"
      }
    },
    {
      "cell_type": "code",
      "source": [
        "def signo(e):\n",
        "  if e > 0:\n",
        "    print('Positivo')\n",
        "  elif e < 0:\n",
        "      print('Negativo')\n",
        "  else:\n",
        "    print('Cero')\n",
        "\n",
        "def main():\n",
        "  signo(float(input('Ingrese un número: ')))\n",
        "\n",
        "main()"
      ],
      "metadata": {
        "colab": {
          "base_uri": "https://localhost:8080/"
        },
        "id": "L6EsOMGN70ix",
        "outputId": "5e56a2d8-b989-44f2-9a2d-c2fa8cd615a2"
      },
      "execution_count": 8,
      "outputs": [
        {
          "output_type": "stream",
          "name": "stdout",
          "text": [
            "Ingrese un número: 12\n",
            "Positivo\n"
          ]
        }
      ]
    },
    {
      "cell_type": "markdown",
      "source": [
        "Ejercicio 2: \n",
        "\n",
        "Escribir un programa que lea dos números “n” y “m” y determine si n es\n",
        "divisible por m, mostrando el siguiente mensaje por pantalla: “El número n es/no es\n",
        "divisible por m”. Reemplazar n y m por los números correspondientes."
      ],
      "metadata": {
        "id": "-rVVb95q9IY5"
      }
    },
    {
      "cell_type": "code",
      "source": [
        "def es_divisible(n,m):\n",
        "  return not n % m\n",
        "\n",
        "def main():\n",
        "  n = int(input('Ingrese un número: '))\n",
        "  m = int(input('Ingrese otro número: '))\n",
        "\n",
        "  if es_divisible(n,m):\n",
        "    return f\"El número {n} es divisible por {m}\"\n",
        "  return f\"El número {n} NO es divisible por {m}\"\n",
        "\n",
        "main()"
      ],
      "metadata": {
        "colab": {
          "base_uri": "https://localhost:8080/",
          "height": 72
        },
        "id": "z55m0Olm-Etg",
        "outputId": "a72d8abf-0d1f-4fcd-eb39-ba8fedfca3af"
      },
      "execution_count": 15,
      "outputs": [
        {
          "name": "stdout",
          "output_type": "stream",
          "text": [
            "Ingrese un número: 14\n",
            "Ingrese otro número: 3\n"
          ]
        },
        {
          "output_type": "execute_result",
          "data": {
            "text/plain": [
              "'El número 14 NO es divisible por 3'"
            ],
            "application/vnd.google.colaboratory.intrinsic+json": {
              "type": "string"
            }
          },
          "metadata": {},
          "execution_count": 15
        }
      ]
    },
    {
      "cell_type": "markdown",
      "source": [
        "Ejercicio 3:\n",
        "\n",
        "Escribir un programa que me indique si un número es divisible por 6,\n",
        "mostrando un mensaje por pantalla: “El número xx elegido es/no es divisible por 6”\n",
        "Ayuda: puede hacerlo usando la función definida en el ejercicio anterior."
      ],
      "metadata": {
        "id": "jzkX6qHk_ddR"
      }
    },
    {
      "cell_type": "code",
      "source": [
        "def es_divisible_por_seis(n):\n",
        "  return es_divisible(n,6)\n",
        "\n",
        "def main():\n",
        "  n = int(input('Ingrese un número: '))\n",
        "  if es_divisible_por_seis(n):\n",
        "    print(f'{n} es divisible por 6')\n",
        "  else:\n",
        "    print(f'{n} NO es divisible por 6')\n",
        "\n",
        "main()"
      ],
      "metadata": {
        "colab": {
          "base_uri": "https://localhost:8080/"
        },
        "id": "gPu3QZV6_mAg",
        "outputId": "94d9c29e-a217-4255-b684-3da36df80c94"
      },
      "execution_count": 19,
      "outputs": [
        {
          "output_type": "stream",
          "name": "stdout",
          "text": [
            "Ingrese un número: 216\n",
            "216 es divisible por 6\n"
          ]
        }
      ]
    },
    {
      "cell_type": "markdown",
      "source": [
        "Ejercicio 4:\n",
        "\n",
        "Diseñar un programa que dado un número de 1 a 7 determine el día de la\n",
        "semana que representa: 1- Domingo a 7 – Sábado. ¿Qué pasa si ingreso un número\n",
        "mayor que 7?\n",
        "Ayuda: defina una función que reciba un número y retorne el día de la semana."
      ],
      "metadata": {
        "id": "WhaNdERNBODS"
      }
    },
    {
      "cell_type": "code",
      "source": [
        "def dia_de_semana(n):\n",
        "  \"\"\"Recibe un número y retorna el día de la semana correspondiente\"\"\"\n",
        "  dias = {\n",
        "      1:'Lunes',\n",
        "      2:'Martes',\n",
        "      3:'Miércoles',\n",
        "      4:'Jueves',\n",
        "      5:'Viernes',\n",
        "      6:'Sábado',\n",
        "      7:'Domingo',\n",
        "  }\n",
        "\n",
        "  return dias[n]\n",
        "\n",
        "def main():\n",
        "  while True: \n",
        "    n = int(input('Ingrese un número: '))\n",
        "\n",
        "    if 1 <= n <= 7:\n",
        "       break\n",
        "    print(\"\"\"Error -- Debe ingresar un número del 1 al 7.\\nIntente de nuevo.\n",
        "    \"\"\")\n",
        "  print(f\"Día de la semana N°{n}: {dia_de_semana(n)}\")\n",
        "\n",
        "main()"
      ],
      "metadata": {
        "colab": {
          "base_uri": "https://localhost:8080/"
        },
        "id": "R9ntDEb0BY-N",
        "outputId": "119f275c-b1c8-44bb-8d44-7305bfb81cbd"
      },
      "execution_count": 43,
      "outputs": [
        {
          "output_type": "stream",
          "name": "stdout",
          "text": [
            "Ingrese un número: 12\n",
            "Error -- Debe ingresar un número del 1 al 7.\n",
            "Intente de nuevo.\n",
            "    \n",
            "Ingrese un número: 0\n",
            "Error -- Debe ingresar un número del 1 al 7.\n",
            "Intente de nuevo.\n",
            "    \n",
            "Ingrese un número: -1\n",
            "Error -- Debe ingresar un número del 1 al 7.\n",
            "Intente de nuevo.\n",
            "    \n",
            "Ingrese un número: 4\n",
            "Día de la semana N°4: Jueves\n"
          ]
        }
      ]
    },
    {
      "cell_type": "markdown",
      "source": [
        "Ejercicio 8:\n",
        "\n",
        "Diseña un programa que, dado un número entero, determine si éste es el\n",
        "doble de un número impar. (Ejemplo: 14 es el doble de 7, que es impar).\n",
        "Ayuda: Defina una función que reciba como parámetro un número entero y retorne un\n",
        "valor booleano indicando si ese número es el doble de un número impar."
      ],
      "metadata": {
        "id": "dirEbiLyDTNH"
      }
    },
    {
      "cell_type": "code",
      "source": [
        "def es_doble_de_un_impar(n):\n",
        "  \"\"\"Requiere: Un número entero\n",
        "      Retorna True si es el doble de un número impar.\n",
        "      De otra manera, retorna False.\n",
        "  \"\"\"\n",
        "  for i in range(1,n//2 + 1,2):\n",
        "    if n == i*2:\n",
        "      return True\n",
        "  return False\n",
        "\n",
        "def main():\n",
        "  # Algunas pruebas...\n",
        "  assert es_doble_de_un_impar(14)  \n",
        "  assert not es_doble_de_un_impar(0)  \n",
        "  assert es_doble_de_un_impar(18)  \n",
        "  assert not es_doble_de_un_impar(15)  \n",
        "  assert not es_doble_de_un_impar(1)  \n",
        "  \n",
        "  n = input('Ingrese un número: ')\n",
        "  print(f'¿Es el doble de un número impar? {es_doble_de_un_impar(int(n))}')\n",
        "\n",
        "main()"
      ],
      "metadata": {
        "colab": {
          "base_uri": "https://localhost:8080/"
        },
        "id": "MJBN_BESDUtc",
        "outputId": "d801b4ce-65f3-4b8d-e418-0089e0d5bb2b"
      },
      "execution_count": 45,
      "outputs": [
        {
          "output_type": "stream",
          "name": "stdout",
          "text": [
            "Ingrese un número: 12\n",
            "¿Es el doble de un número impar? False\n"
          ]
        }
      ]
    },
    {
      "cell_type": "markdown",
      "source": [
        "Ejercicio 10:\n",
        "\n",
        "Dadas 3 longitudes, decir mediante un mensaje si se forma o no un\n",
        "triángulo (cada lado tiene que ser menor que la suma de los otros dos). Escriba una\n",
        "función que recibe 3 parámetros para resolver el problema. Invoque la función en un\n",
        "programa."
      ],
      "metadata": {
        "id": "ov7_ZH3WMkiy"
      }
    },
    {
      "cell_type": "code",
      "source": [
        "def es_un_triangulo(lado1,lado2,lado3):\n",
        "  return lado1 < lado2 + lado3 and lado2 < lado1 + lado3 and lado3 < lado1 + lado2\n",
        "\n",
        "print('Ingrese 3 longitudes: ')\n",
        "lado1 = float(input('Lado 1: '))\n",
        "lado2 = float(input('Lado 2: '))\n",
        "lado3 = float(input('Lado 3: '))\n",
        "\n",
        "if es_un_triangulo(lado1,lado2,lado3):\n",
        "  print('Se forma un triángulo')\n",
        "else:\n",
        "  print('NO se forma un triángulo')"
      ],
      "metadata": {
        "colab": {
          "base_uri": "https://localhost:8080/"
        },
        "id": "MQTwHuE8MmPp",
        "outputId": "99e17c0a-7fe9-4fbf-b102-badea1965bd4"
      },
      "execution_count": 48,
      "outputs": [
        {
          "output_type": "stream",
          "name": "stdout",
          "text": [
            "Ingrese 3 longitudes: \n",
            "Lado 1: 3\n",
            "Lado 2: 4\n",
            "Lado 3: 5\n",
            "Se forma un triángulo\n"
          ]
        }
      ]
    }
  ]
}