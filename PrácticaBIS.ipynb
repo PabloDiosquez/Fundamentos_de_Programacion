{
  "nbformat": 4,
  "nbformat_minor": 0,
  "metadata": {
    "colab": {
      "provenance": [],
      "authorship_tag": "ABX9TyOfplA9aW+1A3ARJLf7ycis",
      "include_colab_link": true
    },
    "kernelspec": {
      "name": "python3",
      "display_name": "Python 3"
    },
    "language_info": {
      "name": "python"
    }
  },
  "cells": [
    {
      "cell_type": "markdown",
      "metadata": {
        "id": "view-in-github",
        "colab_type": "text"
      },
      "source": [
        "<a href=\"https://colab.research.google.com/github/PabloDiosquez/Fundamentos_de_Programacion/blob/main/Pr%C3%A1cticaBIS.ipynb\" target=\"_parent\"><img src=\"https://colab.research.google.com/assets/colab-badge.svg\" alt=\"Open In Colab\"/></a>"
      ]
    },
    {
      "cell_type": "markdown",
      "source": [
        "1. Solicitar al usuario un número de cliente. Si el número es el 1000, imprimir \"Ganaste un premio\"."
      ],
      "metadata": {
        "id": "ppS1WHAZD32q"
      }
    },
    {
      "cell_type": "code",
      "source": [
        "def main():\n",
        "  nroCliente = input('Ingrese un número: ')\n",
        "  if nroCliente == '1000':\n",
        "    print('Ganaste un premio 🤡')\n",
        "\n",
        "main()"
      ],
      "metadata": {
        "colab": {
          "base_uri": "https://localhost:8080/"
        },
        "id": "zpgBMxeeD5Ri",
        "outputId": "e03e88b3-c616-496e-e13f-8c58c8ba9646"
      },
      "execution_count": null,
      "outputs": [
        {
          "output_type": "stream",
          "name": "stdout",
          "text": [
            "Ingrese un número: 1000\n",
            "Ganaste un premio 🤡\n"
          ]
        }
      ]
    },
    {
      "cell_type": "markdown",
      "source": [
        "2. Solicitar al usuario que ingrese dos números y mostrar cuál de los dos es menor. No considerar el caso en que ambos números son iguales."
      ],
      "metadata": {
        "id": "kXW8bW1REceh"
      }
    },
    {
      "cell_type": "code",
      "source": [
        "def menor(num1, num2):\n",
        "  if num1 < num2: return num1\n",
        "  return num2\n",
        "\n",
        "def main():\n",
        "  while True:\n",
        "    try:\n",
        "      num1 = int(input('Ingrese un número: '))\n",
        "      num2 = int(input('Ingrese otro número: '))\n",
        "      break\n",
        "    except:\n",
        "      print('Asegúrese de ingresar números. Intente de nuevo 🖖🏼')\n",
        "      continue\n",
        "  \n",
        "  print(f'\\nMenor: {menor(num1,num2)}')\n",
        "  print('Programa terminado 💣')\n",
        "    \n",
        "main()"
      ],
      "metadata": {
        "colab": {
          "base_uri": "https://localhost:8080/"
        },
        "id": "eVyv6D1TEdly",
        "outputId": "7fe1f0d6-a85d-4002-b5fa-831f2c8bebab"
      },
      "execution_count": null,
      "outputs": [
        {
          "output_type": "stream",
          "name": "stdout",
          "text": [
            "Ingrese un número: 2\n",
            "Ingrese otro número: g\n",
            "Asegúrese de ingresar números. Intente de nuevo 🖖🏼\n",
            "Ingrese un número: 2\n",
            "Ingrese otro número: 5\n",
            "\n",
            "Menor: 2\n",
            "Programa terminado 💣\n"
          ]
        }
      ]
    },
    {
      "cell_type": "markdown",
      "source": [
        "3. Solicitar al usuario que ingrese dos números y mostrar cuál de los dos es menor. Considerar el caso en que ambos números son iguales."
      ],
      "metadata": {
        "id": "ZtguTnH0Fmhz"
      }
    },
    {
      "cell_type": "code",
      "source": [
        "def menor(num1, num2):\n",
        "  if num1 == num2:  return None\n",
        "  elif num1 < num2: return num1\n",
        "  return num2\n",
        "\n",
        "def main():\n",
        "  while True:\n",
        "    try:\n",
        "      num1 = int(input('Ingrese un número: '))\n",
        "      num2 = int(input('Ingrese otro número: '))\n",
        "      break\n",
        "    except:\n",
        "      print('Asegúrese de ingresar números. Intente de nuevo 🖖🏼')\n",
        "      continue\n",
        "  \n",
        "  if menor(num1,num2) is None:\n",
        "    print('\\nLos números ingresados son iguales 🙊')\n",
        "  else:\n",
        "    print(f'\\nMenor: {menor(num1,num2)}')\n",
        "  print('Programa terminado 💣')\n",
        "    \n",
        "main()"
      ],
      "metadata": {
        "colab": {
          "base_uri": "https://localhost:8080/"
        },
        "id": "Z7SFL2DVFnbC",
        "outputId": "f12cecd8-dc68-44b4-8347-899c1690bec3"
      },
      "execution_count": null,
      "outputs": [
        {
          "output_type": "stream",
          "name": "stdout",
          "text": [
            "Ingrese un número: 4\n",
            "Ingrese otro número: g\n",
            "Asegúrese de ingresar números. Intente de nuevo 🖖🏼\n",
            "Ingrese un número: 4\n",
            "Ingrese otro número: 4\n",
            "\n",
            "Los números ingresados son iguales 🙊\n",
            "Programa terminado 💣\n"
          ]
        }
      ]
    },
    {
      "cell_type": "markdown",
      "source": [
        "4. Requerir al usuario que ingrese un día de la semana e imprimir un mensaje si es lunes, otro mensaje diferente si es viernes, otro mensaje diferente si es sábado o domingo. Si el día ingresado no es ninguno de esos, imprimir otro mensaje."
      ],
      "metadata": {
        "id": "8nQHKoHLGreT"
      }
    },
    {
      "cell_type": "code",
      "source": [],
      "metadata": {
        "id": "FfIEy9Gs0HO6"
      },
      "execution_count": null,
      "outputs": []
    },
    {
      "cell_type": "markdown",
      "source": [
        "5. Escribir un programa que, dado un número entero, muestre su valor absoluto. Nota: para los números positivos su valor absoluto es igual al número (el valor absoluto de 52 es 52), mientras que, para los negativos, su valor absoluto es el número multiplicado por -1 (el valor absoluto de -52 es 52)."
      ],
      "metadata": {
        "id": "0MLbv6iH0YJR"
      }
    },
    {
      "cell_type": "code",
      "source": [
        "def valorAbs(num: int) -> int:\n",
        "  if num >= 0: return num\n",
        "  return -num\n",
        "\n",
        "def main():\n",
        "  while True:\n",
        "    try:\n",
        "      num = int(input('Ingrese un número: '))\n",
        "      break\n",
        "    except:\n",
        "      print('Asegúrese de ingresar un número entero. Intente de nuevo!')\n",
        "      continue\n",
        "  print(f'Valor absoluto de {num}: {valorAbs(num)}')\n",
        "\n",
        "main()"
      ],
      "metadata": {
        "colab": {
          "base_uri": "https://localhost:8080/"
        },
        "id": "ZGyBxlop0ZWF",
        "outputId": "508daa00-be2d-420b-df69-e442b6797034"
      },
      "execution_count": 1,
      "outputs": [
        {
          "output_type": "stream",
          "name": "stdout",
          "text": [
            "Ingrese un número: r\n",
            "Asegúrese de ingresar un número entero. Intente de nuevo!\n",
            "Ingrese un número: -21\n",
            "Valor absoluto de -21: 21\n"
          ]
        }
      ]
    },
    {
      "cell_type": "markdown",
      "source": [
        "6. Solicitar al usuario que ingrese los nombres de dos personas, los cuales se almacenarán en dos variables. A continuación, imprimir “coincidencia” si los nombres de ambas personas comienzan con la misma letra ó si terminan con la misma letra. Si no es así, imprimir “no hay coincidencia”."
      ],
      "metadata": {
        "id": "JDq4ATD-1grN"
      }
    },
    {
      "cell_type": "code",
      "source": [
        "def coincidencia(nombre1: str,nombre2: str) -> bool:\n",
        "  return nombre1[0] == nombre2[0] or nombre1[-1] == nombre2[-1]\n",
        "\n",
        "def main():\n",
        "  nombre1 = input('Ingrese el primer nombre: ').lower()\n",
        "  nombre2 = input('Ingrese otro nombre: ').lower()\n",
        "  if coincidencia(nombre1,nombre2):\n",
        "    print('Coincidencia 👏')\n",
        "  else:\n",
        "    print('No hay coincidencia 🤔')\n",
        "\n",
        "main()"
      ],
      "metadata": {
        "colab": {
          "base_uri": "https://localhost:8080/"
        },
        "id": "Btxj5Qth1jgK",
        "outputId": "8e5450db-7736-46be-d2ac-bf81a19de73b"
      },
      "execution_count": 6,
      "outputs": [
        {
          "output_type": "stream",
          "name": "stdout",
          "text": [
            "Ingrese el primer nombre: Giuliana\n",
            "Ingrese otro nombre: Sofía\n",
            "Coincidencia 👏\n"
          ]
        }
      ]
    }
  ]
}