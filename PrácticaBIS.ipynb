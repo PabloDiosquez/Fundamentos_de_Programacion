{
  "nbformat": 4,
  "nbformat_minor": 0,
  "metadata": {
    "colab": {
      "provenance": [],
      "authorship_tag": "ABX9TyMyaVZiyV6r3SGa4kINzr67",
      "include_colab_link": true
    },
    "kernelspec": {
      "name": "python3",
      "display_name": "Python 3"
    },
    "language_info": {
      "name": "python"
    }
  },
  "cells": [
    {
      "cell_type": "markdown",
      "metadata": {
        "id": "view-in-github",
        "colab_type": "text"
      },
      "source": [
        "<a href=\"https://colab.research.google.com/github/PabloDiosquez/Fundamentos_de_Programacion/blob/main/Pr%C3%A1cticaBIS.ipynb\" target=\"_parent\"><img src=\"https://colab.research.google.com/assets/colab-badge.svg\" alt=\"Open In Colab\"/></a>"
      ]
    },
    {
      "cell_type": "markdown",
      "source": [
        "**Pequeños ejercicios de decisión 👉 IF -- ELSE -- ELIF**\n",
        "\n"
      ],
      "metadata": {
        "id": "6zseWUO39e4b"
      }
    },
    {
      "cell_type": "markdown",
      "source": [
        "1. Solicitar al usuario un número de cliente. Si el número es el 1000, imprimir \"Ganaste un premio\"."
      ],
      "metadata": {
        "id": "ppS1WHAZD32q"
      }
    },
    {
      "cell_type": "code",
      "source": [
        "def main():\n",
        "  nroCliente = input('Ingrese un número: ')\n",
        "  if nroCliente == '1000':\n",
        "    print('Ganaste un premio 🤡')\n",
        "\n",
        "main()"
      ],
      "metadata": {
        "colab": {
          "base_uri": "https://localhost:8080/"
        },
        "id": "zpgBMxeeD5Ri",
        "outputId": "e03e88b3-c616-496e-e13f-8c58c8ba9646"
      },
      "execution_count": null,
      "outputs": [
        {
          "output_type": "stream",
          "name": "stdout",
          "text": [
            "Ingrese un número: 1000\n",
            "Ganaste un premio 🤡\n"
          ]
        }
      ]
    },
    {
      "cell_type": "markdown",
      "source": [
        "2. Solicitar al usuario que ingrese dos números y mostrar cuál de los dos es menor. No considerar el caso en que ambos números son iguales."
      ],
      "metadata": {
        "id": "kXW8bW1REceh"
      }
    },
    {
      "cell_type": "code",
      "source": [
        "def menor(num1, num2):\n",
        "  if num1 < num2: return num1\n",
        "  return num2\n",
        "\n",
        "def main():\n",
        "  while True:\n",
        "    try:\n",
        "      num1 = int(input('Ingrese un número: '))\n",
        "      num2 = int(input('Ingrese otro número: '))\n",
        "      break\n",
        "    except:\n",
        "      print('Asegúrese de ingresar números. Intente de nuevo 🖖🏼')\n",
        "      continue\n",
        "  \n",
        "  print(f'\\nMenor: {menor(num1,num2)}')\n",
        "  print('Programa terminado 💣')\n",
        "    \n",
        "main()"
      ],
      "metadata": {
        "colab": {
          "base_uri": "https://localhost:8080/"
        },
        "id": "eVyv6D1TEdly",
        "outputId": "7fe1f0d6-a85d-4002-b5fa-831f2c8bebab"
      },
      "execution_count": null,
      "outputs": [
        {
          "output_type": "stream",
          "name": "stdout",
          "text": [
            "Ingrese un número: 2\n",
            "Ingrese otro número: g\n",
            "Asegúrese de ingresar números. Intente de nuevo 🖖🏼\n",
            "Ingrese un número: 2\n",
            "Ingrese otro número: 5\n",
            "\n",
            "Menor: 2\n",
            "Programa terminado 💣\n"
          ]
        }
      ]
    },
    {
      "cell_type": "markdown",
      "source": [
        "3. Solicitar al usuario que ingrese dos números y mostrar cuál de los dos es menor. Considerar el caso en que ambos números son iguales."
      ],
      "metadata": {
        "id": "ZtguTnH0Fmhz"
      }
    },
    {
      "cell_type": "code",
      "source": [
        "def menor(num1, num2):\n",
        "  if num1 == num2:  return None\n",
        "  elif num1 < num2: return num1\n",
        "  return num2\n",
        "\n",
        "def main():\n",
        "  while True:\n",
        "    try:\n",
        "      num1 = int(input('Ingrese un número: '))\n",
        "      num2 = int(input('Ingrese otro número: '))\n",
        "      break\n",
        "    except:\n",
        "      print('Asegúrese de ingresar números. Intente de nuevo 🖖🏼')\n",
        "      continue\n",
        "  \n",
        "  if menor(num1,num2) is None:\n",
        "    print('\\nLos números ingresados son iguales 🙊')\n",
        "  else:\n",
        "    print(f'\\nMenor: {menor(num1,num2)}')\n",
        "  print('Programa terminado 💣')\n",
        "    \n",
        "main()"
      ],
      "metadata": {
        "colab": {
          "base_uri": "https://localhost:8080/"
        },
        "id": "Z7SFL2DVFnbC",
        "outputId": "f12cecd8-dc68-44b4-8347-899c1690bec3"
      },
      "execution_count": null,
      "outputs": [
        {
          "output_type": "stream",
          "name": "stdout",
          "text": [
            "Ingrese un número: 4\n",
            "Ingrese otro número: g\n",
            "Asegúrese de ingresar números. Intente de nuevo 🖖🏼\n",
            "Ingrese un número: 4\n",
            "Ingrese otro número: 4\n",
            "\n",
            "Los números ingresados son iguales 🙊\n",
            "Programa terminado 💣\n"
          ]
        }
      ]
    },
    {
      "cell_type": "markdown",
      "source": [
        "4. Requerir al usuario que ingrese un día de la semana e imprimir un mensaje si es lunes, otro mensaje diferente si es viernes, otro mensaje diferente si es sábado o domingo. Si el día ingresado no es ninguno de esos, imprimir otro mensaje."
      ],
      "metadata": {
        "id": "8nQHKoHLGreT"
      }
    },
    {
      "cell_type": "code",
      "source": [
        "def diasSemana() -> str:\n",
        "  dias = {\n",
        "      'lunes': 'Empieza la semana 😢',\n",
        "      'viernes': '¡Al fin! 🎉',\n",
        "      'sábado': '¡Moscato, pizza y faina! 🥳',\n",
        "      'domingo': 'Descanso 😴',\n",
        "  }\n",
        "  dia = input('Ingrese día de la semana: ').lower()\n",
        "  if dia in dias.keys():\n",
        "    return f'{dias[dia]}'\n",
        "  else:\n",
        "    return 'Entre semana 🤔'\n",
        "\n",
        "diasSemana()"
      ],
      "metadata": {
        "colab": {
          "base_uri": "https://localhost:8080/",
          "height": 53
        },
        "id": "FfIEy9Gs0HO6",
        "outputId": "5c703931-e8c4-4cdf-c336-77f734bf8b86"
      },
      "execution_count": null,
      "outputs": [
        {
          "name": "stdout",
          "output_type": "stream",
          "text": [
            "Ingrese día de la semana: Sábado\n"
          ]
        },
        {
          "output_type": "execute_result",
          "data": {
            "text/plain": [
              "'¡Moscato, pizza y faina! 🥳'"
            ],
            "application/vnd.google.colaboratory.intrinsic+json": {
              "type": "string"
            }
          },
          "metadata": {},
          "execution_count": 26
        }
      ]
    },
    {
      "cell_type": "markdown",
      "source": [
        "5. Escribir un programa que, dado un número entero, muestre su valor absoluto. Nota: para los números positivos su valor absoluto es igual al número (el valor absoluto de 52 es 52), mientras que, para los negativos, su valor absoluto es el número multiplicado por -1 (el valor absoluto de -52 es 52)."
      ],
      "metadata": {
        "id": "0MLbv6iH0YJR"
      }
    },
    {
      "cell_type": "code",
      "source": [
        "def valorAbs(num: int) -> int:\n",
        "  if num >= 0: return num\n",
        "  return -num\n",
        "\n",
        "def main():\n",
        "  while True:\n",
        "    try:\n",
        "      num = int(input('Ingrese un número: '))\n",
        "      break\n",
        "    except:\n",
        "      print('Asegúrese de ingresar un número entero. Intente de nuevo!')\n",
        "      continue\n",
        "  print(f'Valor absoluto de {num}: {valorAbs(num)}')\n",
        "\n",
        "main()"
      ],
      "metadata": {
        "colab": {
          "base_uri": "https://localhost:8080/"
        },
        "id": "ZGyBxlop0ZWF",
        "outputId": "508daa00-be2d-420b-df69-e442b6797034"
      },
      "execution_count": null,
      "outputs": [
        {
          "output_type": "stream",
          "name": "stdout",
          "text": [
            "Ingrese un número: r\n",
            "Asegúrese de ingresar un número entero. Intente de nuevo!\n",
            "Ingrese un número: -21\n",
            "Valor absoluto de -21: 21\n"
          ]
        }
      ]
    },
    {
      "cell_type": "markdown",
      "source": [
        "6. Solicitar al usuario que ingrese los nombres de dos personas, los cuales se almacenarán en dos variables. A continuación, imprimir “coincidencia” si los nombres de ambas personas comienzan con la misma letra ó si terminan con la misma letra. Si no es así, imprimir “no hay coincidencia”."
      ],
      "metadata": {
        "id": "JDq4ATD-1grN"
      }
    },
    {
      "cell_type": "code",
      "source": [
        "def coincidencia(nombre1: str,nombre2: str) -> bool:\n",
        "  return nombre1[0] == nombre2[0] or nombre1[-1] == nombre2[-1]\n",
        "\n",
        "def main():\n",
        "  nombre1 = input('Ingrese el primer nombre: ').lower()\n",
        "  nombre2 = input('Ingrese otro nombre: ').lower()\n",
        "  if coincidencia(nombre1,nombre2):\n",
        "    print('Coincidencia 👏')\n",
        "  else:\n",
        "    print('No hay coincidencia 🤔')\n",
        "\n",
        "main()"
      ],
      "metadata": {
        "colab": {
          "base_uri": "https://localhost:8080/"
        },
        "id": "Btxj5Qth1jgK",
        "outputId": "8e5450db-7736-46be-d2ac-bf81a19de73b"
      },
      "execution_count": null,
      "outputs": [
        {
          "output_type": "stream",
          "name": "stdout",
          "text": [
            "Ingrese el primer nombre: Giuliana\n",
            "Ingrese otro nombre: Sofía\n",
            "Coincidencia 👏\n"
          ]
        }
      ]
    },
    {
      "cell_type": "markdown",
      "source": [
        "7. Crear un programa que permita al usuario elegir un candidato por el cual votar. Las posibilidades son: candidato A por el partido rojo, candidato B por el partido verde, candidato C por el partido azul. Según el candidato elegido (A, B ó C) se le debe imprimir el mensaje “Usted ha votado por el partido [color que corresponda al candidato elegido]”. Si el usuario ingresa una opción que no corresponde a ninguno de los candidatos disponibles, indicar “Opción errónea”."
      ],
      "metadata": {
        "id": "icZ7Nj2f92Z0"
      }
    },
    {
      "cell_type": "code",
      "source": [
        "def votacion():\n",
        "  candidatos = {\n",
        "      'A': 'Partido Rojo 🔴',\n",
        "      'B': 'Partido Verde 🟢',\n",
        "      'C': 'Partido Azul 🔵',\n",
        "  }\n",
        "  candidato = input('Elija un candidato A, B o C: ').upper()\n",
        "  if candidato in candidatos.keys():\n",
        "    return f'Usted ha votado por el partido {candidatos[candidato]}'\n",
        "  else:\n",
        "    return 'Opción errónea'\n",
        "\n",
        "votacion()"
      ],
      "metadata": {
        "colab": {
          "base_uri": "https://localhost:8080/",
          "height": 53
        },
        "id": "vmtab6Pu957g",
        "outputId": "8741cafd-13a5-4ab1-8e08-37fb401fa970"
      },
      "execution_count": null,
      "outputs": [
        {
          "name": "stdout",
          "output_type": "stream",
          "text": [
            "Elija un candidato A, B o C: C\n"
          ]
        },
        {
          "output_type": "execute_result",
          "data": {
            "text/plain": [
              "'Usted ha votado por el partido Partido Azul 🔵'"
            ],
            "application/vnd.google.colaboratory.intrinsic+json": {
              "type": "string"
            }
          },
          "metadata": {},
          "execution_count": 10
        }
      ]
    },
    {
      "cell_type": "markdown",
      "source": [
        "8. Escribir un programa que solicite al usuario una letra y, si es una vocal, muestre el mensaje “es vocal”. Se debe validar que el usuario ingrese sólo un carácter. Si ingresa un string de más de un carácter, informarle que no se puede procesar el dato."
      ],
      "metadata": {
        "id": "G-9kzUqy_V-I"
      }
    },
    {
      "cell_type": "code",
      "source": [
        "def esVocal(letra: str) -> bool:\n",
        "  return letra in 'aeiouAEIOUáéíóúÁÉÍÓÚ'\n",
        "\n",
        "def main():\n",
        "  while True:\n",
        "    letra = input('Ingrese UNA letra: ')\n",
        "    if len(letra) == 1:\n",
        "      if esVocal(letra):\n",
        "        print('Es vocal')\n",
        "      else:\n",
        "        print('NO es vocal')\n",
        "      break\n",
        "    else:\n",
        "      print('No se puede procesar el dato. Intente de nuevo!')\n",
        "      continue\n",
        "\n",
        "main()"
      ],
      "metadata": {
        "colab": {
          "base_uri": "https://localhost:8080/"
        },
        "id": "F2EcvGIP_bBf",
        "outputId": "73a3acc0-46f0-4383-ccf9-62ce2bf42517"
      },
      "execution_count": null,
      "outputs": [
        {
          "output_type": "stream",
          "name": "stdout",
          "text": [
            "Ingrese UNA letra: hola\n",
            "No se puede procesar el dato. Intente de nuevo!\n",
            "Ingrese UNA letra: e\n",
            "Es vocal\n"
          ]
        }
      ]
    },
    {
      "cell_type": "markdown",
      "source": [
        "9. Hacer un programa que permita saber si un año es bisiesto. Para que un año sea bisiesto debe ser divisible por 4 y no debe ser divisible por 100, excepto que también sea divisible por 400."
      ],
      "metadata": {
        "id": "0vr37BuUAk_5"
      }
    },
    {
      "cell_type": "code",
      "source": [
        "def esBisiesto(anio: int) -> bool:\n",
        "  '''\n",
        "  >>> esBisiesto(1992)\n",
        "  True\n",
        "  >>> esBisiesto(1996)\n",
        "  True\n",
        "  >>> esBisiesto(2020)\n",
        "  True\n",
        "  >>> esBisiesto(1990)\n",
        "  False\n",
        "  >>> esBisiesto(1989)\n",
        "  False\n",
        "  '''\n",
        "  return anio % 4 == 0 and anio % 100 != 0 or anio % 400 == 0  \n",
        "\n",
        "import doctest\n",
        "doctest.testmod()"
      ],
      "metadata": {
        "colab": {
          "base_uri": "https://localhost:8080/"
        },
        "id": "2amgdWeSAnlg",
        "outputId": "1572be95-e5c6-4b23-ea9d-1f503b0fd04b"
      },
      "execution_count": null,
      "outputs": [
        {
          "output_type": "execute_result",
          "data": {
            "text/plain": [
              "TestResults(failed=0, attempted=5)"
            ]
          },
          "metadata": {},
          "execution_count": 22
        }
      ]
    },
    {
      "cell_type": "markdown",
      "source": [
        "**Ejercicios de Estructuras de datos 🖖🏼**"
      ],
      "metadata": {
        "id": "XSLuSV6QWi-Z"
      }
    },
    {
      "cell_type": "markdown",
      "source": [
        "10. A) Solicitar al usuario que ingrese números, los cuales se guardarán en una lista. Finalizar al ingresar el número 0, el cual no debe guardarse.\n",
        "B) A continuación, solicitar al usuario que ingrese un número y, si el número está en la lista, eliminar su primera ocurrencia. Mostrar un mensaje si no es posible eliminar.\n",
        "C) Recorrer la lista para imprimir la sumatoria de todos los elementos.\n",
        "D) Solicitar al usuario otro número y crear una lista con los elementos de la lista original que sean menores que el número dado. Imprimir esta nueva lista, iterando por ella.\n",
        "E) Generar e imprimir una nueva lista que contenga como elementos a tuplas de dos elementos, cada una compuesta por un número de la lista original y la cantidad de veces que aparece en ella. Por ejemplo, si la lista original es [5,16,2,5,57,5,2] la nueva lista contendrá: [(5,3), (16,1), (2,2), (57,1)"
      ],
      "metadata": {
        "id": "xDcZpbT5Wrd5"
      }
    },
    {
      "cell_type": "code",
      "source": [
        "def cargarNumeros() -> list:\n",
        "  numeros = []\n",
        "  while True:\n",
        "    try:\n",
        "      num = int(input('Ingrese un número: '))\n",
        "    except:\n",
        "      print('¿Ingresó un número entero? Intente de nuevo 🙊')\n",
        "      continue\n",
        "    if num == 0: break\n",
        "    numeros.append(num)\n",
        "  return numeros\n",
        "\n",
        "def eliminarPrimeraOcurrencia(numeros: list) -> list:\n",
        "  pertenece = True\n",
        "  numeroUsuario = int(input('Ingrese un número: '))\n",
        "  for numero in numeros:\n",
        "    if numero == numeroUsuario and pertenece:\n",
        "      numeros.remove(numero)\n",
        "      pertenece = False\n",
        "      break\n",
        "  if not pertenece:\n",
        "      print('Se eliminó la primera aparición del número ingresado por el usuario 🖖🏼')\n",
        "  else:\n",
        "    print('El número ingresado NO pudo eliminarse')\n",
        "  return numeros\n",
        "\n",
        "def sumatoria(numeros: list) -> int:\n",
        "  suma = 0\n",
        "  for numero in numeros:\n",
        "    suma += numero\n",
        "  return suma\n",
        "    \n",
        "def menoresQue(numeros: list) -> list:\n",
        "  numeroUsuario = int(input('Ingrese un número: '))\n",
        "  menoresQue = []\n",
        "  for numero in numeros:\n",
        "    if numero < numeroUsuario:\n",
        "      menoresQue.append(numero)\n",
        "  print(f'Menores que {numeroUsuario} sin repeticiones:')\n",
        "  return list(set(menoresQue))\n",
        "\n",
        "def frecuencia(numeros: list) -> list:\n",
        "  frecuencias = {}\n",
        "  for numero in numeros:\n",
        "    if numero in frecuencias.keys():\n",
        "      frecuencias[numero] += 1\n",
        "    else:\n",
        "      frecuencias[numero] = 1\n",
        "  return list(frecuencias.items())\n",
        "\n",
        "def main():\n",
        "  numeros = cargarNumeros()\n",
        "  print(f'Lista: {numeros}')\n",
        "  print(eliminarPrimeraOcurrencia(numeros.copy()))\n",
        "  print(f'Sumatoria de todos los elementos de la lista original: {sumatoria(numeros)}')\n",
        "  print(menoresQue(numeros))\n",
        "  print(f'Frecuencias: {frecuencia(numeros)}')\n",
        "\n",
        "main()"
      ],
      "metadata": {
        "colab": {
          "base_uri": "https://localhost:8080/"
        },
        "id": "s18Jj238WtUw",
        "outputId": "8b5dc1f9-8a6e-45e4-f8d9-8f2102ea0aba"
      },
      "execution_count": null,
      "outputs": [
        {
          "output_type": "stream",
          "name": "stdout",
          "text": [
            "Ingrese un número: t\n",
            "¿Ingresó un número entero? Intente de nuevo 🙊\n",
            "Ingrese un número: 1\n",
            "Ingrese un número: 2\n",
            "Ingrese un número: 3\n",
            "Ingrese un número: 1\n",
            "Ingrese un número: 5\n",
            "Ingrese un número: 5\n",
            "Ingrese un número: 6\n",
            "Ingrese un número: 8\n",
            "Ingrese un número: 8\n",
            "Ingrese un número: 3\n",
            "Ingrese un número: 1\n",
            "Ingrese un número: 0\n",
            "Lista: [1, 2, 3, 1, 5, 5, 6, 8, 8, 3, 1]\n",
            "Ingrese un número: 3\n",
            "Se eliminó la primera aparición del número ingresado por el usuario 🖖🏼\n",
            "[1, 2, 1, 5, 5, 6, 8, 8, 3, 1]\n",
            "Sumatoria de todos los elementos de la lista original: 43\n",
            "Ingrese un número: 7\n",
            "Menores que 7 sin repeticiones:\n",
            "[1, 2, 3, 5, 6]\n",
            "Frecuencias: [(1, 3), (2, 1), (3, 2), (5, 2), (6, 1), (8, 2)]\n"
          ]
        }
      ]
    },
    {
      "cell_type": "markdown",
      "source": [
        "11. Escribir un programa que permita procesar datos de pasajeros de viaje en una lista de tuplas con la siguiente forma: (nombre, dni, destino). Ejemplo: [(\"Manuel Juarez\", 19823451, \"Liverpool\"), (\"Silvana Paredes\", 22709128, \"Buenos Aires\"), (\"Rosa Ortiz\", 15123978, \"Glasgow\"), (\"Luciana Hernandez\", 38981374, \"Lisboa\")] Además, en otra lista de tuplas se almacenan los datos de cada ciudad y el país al que pertenecen. Ejemplo: [(\"Buenos Aires\",\"Argentina\"), (\"Glasgow\",\"Escocia\"), (\"Lisboa\", \"Portugal\"), (\"Liverpool\",\"Inglaterra\"), (\"Madrid\",\"España\")] Hacer un menú interativo que permita al usuario realizar las siguientes operaciones:\n",
        "-Agregar pasajeros a la lista de viajeros.\n",
        "\n",
        "\n",
        "-Agregar ciudades a la lista de ciudades.\n",
        "\n",
        "\n",
        "-Dado el DNI de un pasajero, ver a qué ciudad viaja.\n",
        "\n",
        "\n",
        "-Dada una ciudad, mostrar la cantidad de pasajeros que viajan a esa ciudad.\n",
        "\n",
        "\n",
        "-Dado el DNI de un pasajero, ver a qué país viaja.\n",
        "\n",
        "\n",
        "-Dado un país, mostrar cuántos pasajeros viajan a ese país.\n",
        "\n",
        "\n",
        "-Salir del programa."
      ],
      "metadata": {
        "id": "o0S9bj69fcMK"
      }
    },
    {
      "cell_type": "code",
      "source": [
        "# Listas globales que van a ser modificadas cada vez que pasen por las funciones definidas. \n",
        "viajeros = []\n",
        "ciudades = []\n",
        "\n",
        "def agregarPasajero() -> list:\n",
        "  nombre   = input('Nombre: ')\n",
        "  apellido = input('Apellido: ')\n",
        "  dni      = input('DNI: ')\n",
        "  destino  = input('Destino: ')\n",
        "  viajeros.append((nombre,apellido,dni,destino))\n",
        "  return viajeros\n",
        "\n",
        "def agregarCiudad() -> list:\n",
        "  ciudad = input('Ciudad: ')\n",
        "  pais   = input('País:')\n",
        "  ciudades.append((ciudad,pais))\n",
        "  return ciudades\n",
        "\n",
        "def dondeViaja(dni: str) -> str:\n",
        "  for pasajero in viajeros:\n",
        "    if dni == pasajero[2]:\n",
        "      return pasajero[3]\n",
        "  return 'No hay pasajeros con el DNI solicitado'\n",
        "\n",
        "def cantidadDePasajerosQueViajanA(ciudad: str) -> int:\n",
        "  total = 0\n",
        "  for pasajero in viajeros:\n",
        "    if ciudad == pasajero[3]:\n",
        "      total += 1\n",
        "  print(f'Pasajeros que viajan con rumbo a {ciudad}: {total}')\n",
        "  return total\n",
        "\n",
        "def aQuePaisViaja(dni: str) -> str:\n",
        "  for pasajero in viajeros:\n",
        "    if dni == pasajero[2]:\n",
        "      ciudad = pasajero[3]\n",
        "\n",
        "  for destino in ciudades:\n",
        "    if ciudad == destino[0]:\n",
        "      return destino[1]\n",
        "  return'Se produjo un error 😕'\n",
        "\n",
        "def cantidadDePasajerosQueViajanAII(pais: str) -> int:\n",
        "  total = 0\n",
        "  for destino in ciudades:\n",
        "    if pais == destino[1]:\n",
        "      ciudad = destino[0]\n",
        "      total += cantidadDePasajerosQueViajanA(ciudad)\n",
        "  print(f'Pasajeros que viajan con rumbo a {pais}: {total}')\n",
        "  return total  \n",
        "\n",
        "def main():\n",
        "  print('''\n",
        "        ### Menú de opciones ###\n",
        " \n",
        "Agregar pasajeros a la lista de viajeros. 👉🏼 1\n",
        "\n",
        "Agregar ciudades a la lista de ciudades. 👉🏼 2\n",
        "\n",
        "Dado el DNI de un pasajero, ver a qué ciudad viaja. 👉🏼 3\n",
        "\n",
        "Dada una ciudad, mostrar la cantidad de pasajeros que viajan a esa ciudad 👉🏼 4\n",
        "\n",
        "Dado el DNI de un pasajero, ver a qué país viaja. 👉🏼 5\n",
        "\n",
        "Dado un país, mostrar cuántos pasajeros viajan a ese país. 👉🏼 6\n",
        "\n",
        "Salir del programa 👉🏼 7\n",
        "''')\n",
        "\n",
        "  while True:\n",
        "    opcion = input('Ingrese opción: ')\n",
        "    if opcion == '1':\n",
        "      print(f'Viajeros: {agregarPasajero()}')\n",
        "    elif opcion == '2':\n",
        "      print(f'Ciudades: {agregarCiudad()}')\n",
        "    elif opcion == '3':\n",
        "      dni = input('DNI: ')\n",
        "      print(dondeViaja(dni))\n",
        "    elif opcion == '4':\n",
        "      ciudad = input('Ciudad: ')\n",
        "      cantidadDePasajerosQueViajanA(ciudad)\n",
        "    elif opcion == '5':\n",
        "      dni = input('DNI: ')\n",
        "      print(aQuePaisViaja(dni))\n",
        "    elif opcion == '6':\n",
        "      pais = input('País: ')\n",
        "      cantidadDePasajerosQueViajanAII(pais)\n",
        "    elif opcion == '7':\n",
        "      print('Programa terminado ✌🏼')\n",
        "      break\n",
        "    else:\n",
        "      print('La opción NO es válida. Intente de nuevo 🐱‍🚀')\n",
        "      continue\n",
        "\n",
        "main()"
      ],
      "metadata": {
        "colab": {
          "base_uri": "https://localhost:8080/"
        },
        "id": "0Mu-d5bNfoWZ",
        "outputId": "fb681513-5e6b-44e2-baf4-2afdc00936b9"
      },
      "execution_count": null,
      "outputs": [
        {
          "output_type": "stream",
          "name": "stdout",
          "text": [
            "\n",
            "        ### Menú de opciones ###\n",
            " \n",
            "Agregar pasajeros a la lista de viajeros. 👉🏼 1\n",
            "\n",
            "Agregar ciudades a la lista de ciudades. 👉🏼 2\n",
            "\n",
            "Dado el DNI de un pasajero, ver a qué ciudad viaja. 👉🏼 3\n",
            "\n",
            "Dada una ciudad, mostrar la cantidad de pasajeros que viajan a esa ciudad 👉🏼 4\n",
            "\n",
            "Dado el DNI de un pasajero, ver a qué país viaja. 👉🏼 5\n",
            "\n",
            "Dado un país, mostrar cuántos pasajeros viajan a ese país. 👉🏼 6\n",
            "\n",
            "Salir del programa 👉🏼 7\n",
            "\n",
            "Ingrese opción: 1\n",
            "Nombre: Lio\n",
            "Apellido: Messi\n",
            "DNI: 12345678\n",
            "Destino: París\n",
            "Viajeros: [('Lio', 'Messi', '12345678', 'París')]\n",
            "Ingrese opción: 2\n",
            "Ciudad: París\n",
            "País:Francia\n",
            "Ciudades: [('París', 'Francia')]\n",
            "Ingrese opción: 3\n",
            "DNI: 12345678\n",
            "París\n",
            "Ingrese opción: 4\n",
            "Ciudad: París\n",
            "Pasajeros que viajan con rumbo a París: 1\n",
            "Ingrese opción: 5\n",
            "DNI: 12345678\n",
            "Francia\n",
            "Ingrese opción: 6\n",
            "País: Francia\n",
            "Pasajeros que viajan con rumbo a París: 1\n",
            "Pasajeros que viajan con rumbo a Francia: 1\n",
            "Ingrese opción: 8\n",
            "La opción NO es válida. Intente de nuevo 🐱‍🚀\n",
            "Ingrese opción: 7\n",
            "Programa terminado ✌🏼\n"
          ]
        }
      ]
    },
    {
      "cell_type": "markdown",
      "source": [
        "12. Escribir un programa que procese strings ingresados por el usuario. La lectura finaliza cuando se hayan procesado 50 strings. Al finalizar, informar la cantidad total de ocurrencias de cada carácter, en todos los strings ingresados. Ejemplo: \"r\":5, \"%\":3, \"a\":8, \"9\":1.\n",
        "¿Cómo se podrían informar las ocurrencias de las letras del alfabeto únicamente, incluyendo el valor 0 para las letras que no aparecieron?"
      ],
      "metadata": {
        "id": "TzZ7HhxZ7bWu"
      }
    },
    {
      "cell_type": "code",
      "source": [
        "def _frecuencia(string: str) -> dict:\n",
        "  alfabeto = list(map(chr, range(97,123)))\n",
        "  ceros = [0] * len(alfabeto)\n",
        "  frecuencias = {caracter: valor for caracter, valor in zip(alfabeto, ceros)}\n",
        "  for caracter in string:\n",
        "    if caracter in frecuencias.keys():\n",
        "      frecuencias[caracter] += 1\n",
        "  return frecuencias\n",
        "\n",
        "def frecuencia(string: str) -> str:\n",
        "  resultado = ''\n",
        "  frecuencias = _frecuencia(string.lower())\n",
        "  for caracter in frecuencias.keys():\n",
        "    if caracter.isalpha():\n",
        "      resultado += f'{caracter}:{frecuencias.get(caracter)}, '\n",
        "  return resultado\n",
        "\n",
        "def main():\n",
        "  for i in range(3):\n",
        "    string = input('Ingrese cadena de caracteres: ')\n",
        "    print(f'Ocurrencias: {frecuencia(string)}')\n",
        "    print()\n",
        "  print('\\nPrograma terminado 💀')\n",
        "\n",
        "main()"
      ],
      "metadata": {
        "colab": {
          "base_uri": "https://localhost:8080/"
        },
        "id": "xsPlO4xt7gY3",
        "outputId": "cba0e36c-8458-4445-924f-d191dad2f788"
      },
      "execution_count": null,
      "outputs": [
        {
          "output_type": "stream",
          "name": "stdout",
          "text": [
            "Ingrese cadena de caracteres: Es preferible el bien de muchos a la opulencia de pocos.\n",
            "Ocurrencias: a:3, b:2, c:3, d:2, e:9, f:1, g:0, h:1, i:3, j:0, k:0, l:4, m:1, n:2, o:4, p:3, q:0, r:2, s:3, t:0, u:2, v:0, w:0, x:0, y:0, z:0, \n",
            "\n",
            "Ingrese cadena de caracteres: Todos somos muy ignorantes. Lo que ocurre es que no todos ignoramos las mismas cosas.\n",
            "Ocurrencias: a:5, b:0, c:2, d:2, e:5, f:0, g:2, h:0, i:3, j:0, k:0, l:2, m:5, n:4, o:13, p:0, q:2, r:4, s:12, t:3, u:4, v:0, w:0, x:0, y:1, z:0, \n",
            "\n",
            "Ingrese cadena de caracteres: Nunca consideres el estudio como una obligación, sino como una oportunidad para penetrar en el bello y maravilloso mundo del saber.\n",
            "Ocurrencias: a:11, b:3, c:5, d:6, e:11, f:0, g:1, h:0, i:7, j:0, k:0, l:8, m:4, n:11, o:14, p:3, q:0, r:7, s:6, t:3, u:6, v:1, w:0, x:0, y:1, z:0, \n",
            "\n",
            "\n",
            "Programa terminado 💀\n"
          ]
        }
      ]
    },
    {
      "cell_type": "markdown",
      "source": [
        "13. Suponer una lista con datos de las compras hechas por clientes de una empresa a lo largo de un mes, la cual contiene tuplas con información de cada venta: (cliente, día del mes, monto, domicilio del cliente). Ejemplo:\n",
        "[(\"Nuria Costa\", 5, 12780.78, \"Calle Las Flores 355\"), (\"Jorge Russo\", 7, 699, \"Mirasol 218\"), (\"Nuria Costa\", 7, 532.90, \"Calle Las Flores 355\"), (\"Julián Rodriguez\", 12, 5715.99, \"La Mancha 761\"), (\"Jorge Russo\", 15, 958, \"Mirasol 218\")]\n",
        "Escribir una función que reciba como parámetro una lista con el formato mencionado anteriormente y retorne los domicilios de cada cliente al cual se le debe enviar una factura de compra. Notar que cada cliente puede haber hecho más de una compra en el mes, por lo que la función debe retornar una estructura que contenga cada domicilio una sola vez."
      ],
      "metadata": {
        "id": "vFvLkO-1iuxL"
      }
    },
    {
      "cell_type": "code",
      "source": [
        "def direcciones(ventas: list) -> list:\n",
        "  domicilios = []\n",
        "  for venta in ventas:\n",
        "    domicilio = venta[3]\n",
        "    if domicilio not in domicilios:\n",
        "      domicilios.append(domicilio)\n",
        "  return domicilios\n",
        "\n",
        "compras =  [(\"Nuria Costa\", 5, 12780.78, \"Calle Las Flores 355\"), (\"Jorge Russo\", 7, 699, \"Mirasol 218\"), (\"Nuria Costa\", 7, 532.90, \"Calle Las Flores 355\"), (\"Julián Rodriguez\", 12, 5715.99, \"La Mancha 761\"), (\"Jorge Russo\", 15, 958, \"Mirasol 218\")]\n",
        "print('Direcciones de los clientes de este mes ✌: ')\n",
        "for domicilio in direcciones(compras):\n",
        "  print(domicilio)"
      ],
      "metadata": {
        "colab": {
          "base_uri": "https://localhost:8080/"
        },
        "id": "OhoaZymeizDn",
        "outputId": "7e1ce490-b75a-40ca-c8f0-4c77cf8b95e1"
      },
      "execution_count": 8,
      "outputs": [
        {
          "output_type": "stream",
          "name": "stdout",
          "text": [
            "Direcciones de los clientes de este mes ✌: \n",
            "Calle Las Flores 355\n",
            "Mirasol 218\n",
            "La Mancha 761\n"
          ]
        }
      ]
    },
    {
      "cell_type": "markdown",
      "source": [
        "14. Solicitar al usuario que ingrese los nombres de pila de los alumnos de nivel primario de una escuela, finalizando al ingresar “x”. A continuación, solicitar que ingrese los nombres de los alumnos de nivel secundario, finalizando al ingresar “x”.\n",
        "- Informar los nombres de todos los alumnos de nivel primario y los de nivel secundario, sin repeticiones.\n",
        "\n",
        "- Informar qué nombres se repiten entre los alumnos de nivel primario y secundario.\n",
        "\n",
        " ▪ Informar qué nombres de nivel primario no se repiten en los de nivel secundario."
      ],
      "metadata": {
        "id": "Uc5SFpSknIF7"
      }
    },
    {
      "cell_type": "code",
      "source": [
        "def cargarNombres() -> list:\n",
        "  nombres = set()\n",
        "  nro = 1\n",
        "  while True:\n",
        "    nombre = input(f'{nro}. Ingrese nombre del alumno: ')\n",
        "    nro += 1\n",
        "    if nombre.lower() == 'x': break\n",
        "    nombres.add(nombre)\n",
        "  return nombres \n",
        "\n",
        "def nombresEnComun(nombresPrimario, nombresSecundario):\n",
        "  nombresComunes = set()\n",
        "  for nombre in nombresPrimario:\n",
        "    if nombre in nombresSecundario:\n",
        "      nombresComunes.add(nombre)\n",
        "  return nombresComunes\n",
        "\n",
        "def nombresQueNoSeRepiten(nombresPrimario, nombresSecundario):\n",
        "  return nombresPrimario - nombresSecundario\n",
        "\n",
        "def main():\n",
        "  print('Alumnos de Nivel Primario:')\n",
        "  alumnosPrimario   = cargarNombres()\n",
        "  print()\n",
        "  print('Alumnos de Nivel Secundario:')\n",
        "  alumnosSecundario = cargarNombres()\n",
        "  print()\n",
        "  print(f'Nombres de los alumnos de Nivel Primario 🖌: {alumnosPrimario}')\n",
        "  print(f'Nombres de los alumnos de Nivel Secundario 🖋: {alumnosSecundario}')\n",
        "  print(f'Nombres en común en ambos niveles: {nombresEnComun(alumnosPrimario, alumnosSecundario)}')\n",
        "  print(f'Nombres de nivel primario que no se repiten en el nivel secundario: {nombresQueNoSeRepiten(alumnosPrimario, alumnosSecundario)}')\n",
        "\n",
        "main()"
      ],
      "metadata": {
        "colab": {
          "base_uri": "https://localhost:8080/"
        },
        "id": "5TSrgCVjnSKU",
        "outputId": "3f5f271b-9932-41d1-948f-bbb994399202"
      },
      "execution_count": 16,
      "outputs": [
        {
          "output_type": "stream",
          "name": "stdout",
          "text": [
            "Alumnos de Nivel Primario:\n",
            "1. Ingrese nombre del alumno: Luisa\n",
            "2. Ingrese nombre del alumno: Tea\n",
            "3. Ingrese nombre del alumno: Tea\n",
            "4. Ingrese nombre del alumno: Andrea\n",
            "5. Ingrese nombre del alumno: Ariel\n",
            "6. Ingrese nombre del alumno: Luis\n",
            "7. Ingrese nombre del alumno: Luis\n",
            "8. Ingrese nombre del alumno: Pablo\n",
            "9. Ingrese nombre del alumno: x\n",
            "\n",
            "Alumnos de Nivel Secundario:\n",
            "1. Ingrese nombre del alumno: Pablo\n",
            "2. Ingrese nombre del alumno: Luis\n",
            "3. Ingrese nombre del alumno: Andrea\n",
            "4. Ingrese nombre del alumno: Andrea\n",
            "5. Ingrese nombre del alumno: Sofía\n",
            "6. Ingrese nombre del alumno: x\n",
            "\n",
            "Nombres de los alumnos de Nivel Primario 🖌: {'Luisa', 'Luis', 'Andrea', 'Pablo', 'Tea', 'Ariel'}\n",
            "Nombres de los alumnos de Nivel Secundario 🖋: {'Pablo', 'Andrea', 'Luis', 'Sofía'}\n",
            "Nombres en común en ambos niveles: {'Pablo', 'Andrea', 'Luis'}\n",
            "Nombres de nivel primario que no se repiten en el nivel secundario: {'Tea', 'Ariel', 'Luisa'}\n"
          ]
        }
      ]
    },
    {
      "cell_type": "markdown",
      "source": [
        "15. Crear un programa para gestionar datos de los socios de un club, permitiendo:\n",
        "\n",
        "📌 Cargar información de los socios en un diccionario para acceder por número de socio. Los datos a almacenar son: número, nombre y apellido, fecha de ingreso (ddmmaaaa), cuota al día (s/n). A modo de ejemplo, tenemos:\n",
        "\n",
        "Socio nº1, Amanda Núñez, ingresó: 17/03/2009, cuota al día.\n",
        "\n",
        "Socio nº2, Bárbara Molina, ingresó: 17/03/2009, cuota al día.\n",
        "\n",
        "Socio nº3, Lautaro Campos, ingresó: 17/03/2009, cuota al día.\n",
        "\n",
        "📌 Informar cantidad de socios del club.\n",
        "\n",
        "\n",
        "📌 Solicitar al usuario el número de un socio y registrar que ha pagado todas las cuotas adeudadas.\n",
        "\n",
        "\n",
        "📌 Modificar la fecha de ingreso de todos los socios ingresados el 13/03/2018, para indicar que en realidad ingresaron el 14/03/2018.\n",
        "\n",
        "\n",
        "📌 Solicitar el nombre y apellido de un socio y darlo de baja (eliminarlo del listado).\n",
        "\n",
        "\n",
        "📌 Imprimir el listado de socios completo."
      ],
      "metadata": {
        "id": "fjJgfI0tuUO2"
      }
    },
    {
      "cell_type": "code",
      "source": [
        "def cargarSocios():\n",
        "  socios = dict()\n",
        "  while True:\n",
        "    nroSocio = int(input('Nro de Socio: '))\n",
        "    if nroSocio == 0 : break\n",
        "    nombre = input('Nombre: ')\n",
        "    apellido = input('Apellido: ')\n",
        "    ingreso = input('Fecha de ingreso (dd/MM/aaaa): ')\n",
        "    cuotaAlDia = input('¿Cuota al día? (S/N): ')\n",
        "    print()\n",
        "\n",
        "    socios[nroSocio] = [nombre, apellido, ingreso, cuotaAlDia]\n",
        "  \n",
        "  return socios\n",
        "\n",
        "def cantidadSocios(socios: dict) -> int:\n",
        "  return len(socios)\n",
        "\n",
        "def deuda(socios: dict, nroSocio: int) -> bool:\n",
        "  if socios[nroSocio][3] == 'S':\n",
        "    return False\n",
        "  return True\n",
        "\n",
        "def modificarIngreso(socios: dict, fechaAnterior, fechaNueva) -> dict:\n",
        "  for socio in socios.values():\n",
        "    if socio[2] == fechaAnterior:\n",
        "      socio[2] = fechaNueva\n",
        "  return socios \n",
        "\n",
        "def numeroSocio(socios: dict, nombre: str, apellido: str) -> int:\n",
        "  for nroSocio, socio in socios.items():\n",
        "    if socio[0] == nombre and socio[1] == apellido:\n",
        "      return nroSocio\n",
        "  return -1\n",
        "\n",
        "def darDeBaja(socios: dict, nombre: str, apellido: str) -> dict:\n",
        "  for socio in socios.values():\n",
        "    if socio[0] == nombre and socio[1] == apellido:\n",
        "      nroSocio = numeroSocio(socios, nombre, apellido)\n",
        "  del socios[nroSocio]\n",
        "  return socios\n",
        "\n",
        "def listadoSocios(socios: dict):\n",
        "  for nroSocio in socios.keys():\n",
        "    print(socios[nroSocio])\n",
        "\n",
        "def main():\n",
        "  print('Socios 🚻:\\n')\n",
        "  socios = cargarSocios()\n",
        "  print(f'✅ Cantidad de socios del club: {cantidadSocios(socios)}')\n",
        "  print()\n",
        "  while True:\n",
        "    consulta = input('¿Desea verificar el estado de deuda de algún socio? (S/N): ')\n",
        "    if consulta.lower() == 's':\n",
        "      nroSocio = int(input('Número de socio: '))\n",
        "      if deuda(socios, nroSocio):\n",
        "        print('La cuota NO está al día')\n",
        "      else:\n",
        "        print('Cuota al día')\n",
        "    else:\n",
        "      print('OK! Muchas gracias 🦾')\n",
        "      break\n",
        "  print()\n",
        "  modificarIngreso(socios, '13/03/2018', '14/03/2018')\n",
        "  print(f'Socios actualizado: {socios}')\n",
        "  print()\n",
        "  print('Dar de baja: ')\n",
        "  nombre   = input('Nombre: ')\n",
        "  apellido = input('Apellido: ')\n",
        "  darDeBaja(socios, nombre, apellido)\n",
        "  print(f'Socios actualizado: {socios}')\n",
        "  print()\n",
        "  print('Listado de socios')\n",
        "  listadoSocios(socios)\n",
        "\n",
        "main()"
      ],
      "metadata": {
        "colab": {
          "base_uri": "https://localhost:8080/"
        },
        "id": "NhaAHk2iuaMf",
        "outputId": "58e4d70c-620e-4f21-fa37-9af74c51a5df"
      },
      "execution_count": 21,
      "outputs": [
        {
          "output_type": "stream",
          "name": "stdout",
          "text": [
            "Socios 🚻:\n",
            "\n",
            "Nro de Socio: 1\n",
            "Nombre: Amanda\n",
            "Apellido: Nuñez\n",
            "Fecha de ingreso (dd/MM/aaaa): 13/03/2018\n",
            "¿Cuota al día? (S/N): S\n",
            "\n",
            "Nro de Socio: 2\n",
            "Nombre: Bárbara \n",
            "Apellido: Molina\n",
            "Fecha de ingreso (dd/MM/aaaa): 13/03/2018\n",
            "¿Cuota al día? (S/N): S\n",
            "\n",
            "Nro de Socio: 3\n",
            "Nombre: Lautaro\n",
            "Apellido: Campos\n",
            "Fecha de ingreso (dd/MM/aaaa): 13/03/2018\n",
            "¿Cuota al día? (S/N): N\n",
            "\n",
            "Nro de Socio: 0\n",
            "✅ Cantidad de socios del club: 3\n",
            "\n",
            "¿Desea verificar el estado de deuda de algún socio? (S/N): S\n",
            "Número de socio: 3\n",
            "La cuota NO está al día\n",
            "¿Desea verificar el estado de deuda de algún socio? (S/N): S\n",
            "Número de socio: 1\n",
            "Cuota al día\n",
            "¿Desea verificar el estado de deuda de algún socio? (S/N): N\n",
            "OK! Muchas gracias 🦾\n",
            "\n",
            "Socios actualizado: {1: ['Amanda', 'Nuñez', '14/03/2018', 'S'], 2: ['Bárbara ', 'Molina', '14/03/2018', 'S'], 3: ['Lautaro', 'Campos', '14/03/2018', 'N']}\n",
            "\n",
            "Dar de baja: \n",
            "Nombre: Amanda\n",
            "Apellido: Nuñez\n",
            "Socios actualizado: {2: ['Bárbara ', 'Molina', '14/03/2018', 'S'], 3: ['Lautaro', 'Campos', '14/03/2018', 'N']}\n",
            "\n",
            "Listado de socios\n",
            "['Bárbara ', 'Molina', '14/03/2018', 'S']\n",
            "['Lautaro', 'Campos', '14/03/2018', 'N']\n"
          ]
        }
      ]
    }
  ]
}