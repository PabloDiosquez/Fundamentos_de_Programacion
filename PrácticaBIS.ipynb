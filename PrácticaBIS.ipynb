{
  "nbformat": 4,
  "nbformat_minor": 0,
  "metadata": {
    "colab": {
      "provenance": [],
      "authorship_tag": "ABX9TyOjfm3lXo1xzFhkA1j1sceq",
      "include_colab_link": true
    },
    "kernelspec": {
      "name": "python3",
      "display_name": "Python 3"
    },
    "language_info": {
      "name": "python"
    }
  },
  "cells": [
    {
      "cell_type": "markdown",
      "metadata": {
        "id": "view-in-github",
        "colab_type": "text"
      },
      "source": [
        "<a href=\"https://colab.research.google.com/github/PabloDiosquez/Fundamentos_de_Programacion/blob/main/Pr%C3%A1cticaBIS.ipynb\" target=\"_parent\"><img src=\"https://colab.research.google.com/assets/colab-badge.svg\" alt=\"Open In Colab\"/></a>"
      ]
    },
    {
      "cell_type": "markdown",
      "source": [
        "1. Solicitar al usuario un número de cliente. Si el número es el 1000, imprimir \"Ganaste un premio\"."
      ],
      "metadata": {
        "id": "ppS1WHAZD32q"
      }
    },
    {
      "cell_type": "code",
      "source": [
        "def main():\n",
        "  nroCliente = input('Ingrese un número: ')\n",
        "  if nroCliente == '1000':\n",
        "    print('Ganaste un premio 🤡')\n",
        "\n",
        "main()"
      ],
      "metadata": {
        "colab": {
          "base_uri": "https://localhost:8080/"
        },
        "id": "zpgBMxeeD5Ri",
        "outputId": "e03e88b3-c616-496e-e13f-8c58c8ba9646"
      },
      "execution_count": 2,
      "outputs": [
        {
          "output_type": "stream",
          "name": "stdout",
          "text": [
            "Ingrese un número: 1000\n",
            "Ganaste un premio 🤡\n"
          ]
        }
      ]
    },
    {
      "cell_type": "markdown",
      "source": [
        "2. Solicitar al usuario que ingrese dos números y mostrar cuál de los dos es menor. No considerar el caso en que ambos números son iguales."
      ],
      "metadata": {
        "id": "kXW8bW1REceh"
      }
    },
    {
      "cell_type": "code",
      "source": [
        "def menor(num1, num2):\n",
        "  if num1 < num2: return num1\n",
        "  return num2\n",
        "\n",
        "def main():\n",
        "  while True:\n",
        "    try:\n",
        "      num1 = int(input('Ingrese un número: '))\n",
        "      num2 = int(input('Ingrese otro número: '))\n",
        "      break\n",
        "    except:\n",
        "      print('Asegúrese de ingresar números. Intente de nuevo 🖖🏼')\n",
        "      continue\n",
        "  \n",
        "  print(f'\\nMenor: {menor(num1,num2)}')\n",
        "  print('Programa terminado 💣')\n",
        "    \n",
        "main()"
      ],
      "metadata": {
        "colab": {
          "base_uri": "https://localhost:8080/"
        },
        "id": "eVyv6D1TEdly",
        "outputId": "7fe1f0d6-a85d-4002-b5fa-831f2c8bebab"
      },
      "execution_count": 6,
      "outputs": [
        {
          "output_type": "stream",
          "name": "stdout",
          "text": [
            "Ingrese un número: 2\n",
            "Ingrese otro número: g\n",
            "Asegúrese de ingresar números. Intente de nuevo 🖖🏼\n",
            "Ingrese un número: 2\n",
            "Ingrese otro número: 5\n",
            "\n",
            "Menor: 2\n",
            "Programa terminado 💣\n"
          ]
        }
      ]
    },
    {
      "cell_type": "markdown",
      "source": [
        "3. Solicitar al usuario que ingrese dos números y mostrar cuál de los dos es menor. Considerar el caso en que ambos números son iguales."
      ],
      "metadata": {
        "id": "ZtguTnH0Fmhz"
      }
    },
    {
      "cell_type": "code",
      "source": [
        "def menor(num1, num2):\n",
        "  if num1 == num2:  return None\n",
        "  elif num1 < num2: return num1\n",
        "  return num2\n",
        "\n",
        "def main():\n",
        "  while True:\n",
        "    try:\n",
        "      num1 = int(input('Ingrese un número: '))\n",
        "      num2 = int(input('Ingrese otro número: '))\n",
        "      break\n",
        "    except:\n",
        "      print('Asegúrese de ingresar números. Intente de nuevo 🖖🏼')\n",
        "      continue\n",
        "  \n",
        "  if menor(num1,num2) is None:\n",
        "    print('\\nLos números ingresados son iguales 🙊')\n",
        "  else:\n",
        "    print(f'\\nMenor: {menor(num1,num2)}')\n",
        "  print('Programa terminado 💣')\n",
        "    \n",
        "main()"
      ],
      "metadata": {
        "colab": {
          "base_uri": "https://localhost:8080/"
        },
        "id": "Z7SFL2DVFnbC",
        "outputId": "f12cecd8-dc68-44b4-8347-899c1690bec3"
      },
      "execution_count": 5,
      "outputs": [
        {
          "output_type": "stream",
          "name": "stdout",
          "text": [
            "Ingrese un número: 4\n",
            "Ingrese otro número: g\n",
            "Asegúrese de ingresar números. Intente de nuevo 🖖🏼\n",
            "Ingrese un número: 4\n",
            "Ingrese otro número: 4\n",
            "\n",
            "Los números ingresados son iguales 🙊\n",
            "Programa terminado 💣\n"
          ]
        }
      ]
    },
    {
      "cell_type": "markdown",
      "source": [
        "4. Requerir al usuario que ingrese un día de la semana e imprimir un mensaje si es lunes, otro mensaje diferente si es viernes, otro mensaje diferente si es sábado o domingo. Si el día ingresado no es ninguno de esos, imprimir otro mensaje."
      ],
      "metadata": {
        "id": "8nQHKoHLGreT"
      }
    }
  ]
}