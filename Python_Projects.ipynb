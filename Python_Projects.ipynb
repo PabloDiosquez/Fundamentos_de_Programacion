{
  "nbformat": 4,
  "nbformat_minor": 0,
  "metadata": {
    "colab": {
      "provenance": [],
      "authorship_tag": "ABX9TyOlxZQgAT97sbsnZ9MTSk3e",
      "include_colab_link": true
    },
    "kernelspec": {
      "name": "python3",
      "display_name": "Python 3"
    },
    "language_info": {
      "name": "python"
    }
  },
  "cells": [
    {
      "cell_type": "markdown",
      "metadata": {
        "id": "view-in-github",
        "colab_type": "text"
      },
      "source": [
        "<a href=\"https://colab.research.google.com/github/PabloDiosquez/Fundamentos_de_Programacion/blob/main/Python_Projects.ipynb\" target=\"_parent\"><img src=\"https://colab.research.google.com/assets/colab-badge.svg\" alt=\"Open In Colab\"/></a>"
      ]
    },
    {
      "cell_type": "markdown",
      "source": [
        "Madlibs"
      ],
      "metadata": {
        "id": "78BP6DjuGWZY"
      }
    },
    {
      "cell_type": "code",
      "source": [
        "# string concatenation  (aka how to put strings together)\n",
        "# Suppose we want to create a string that says \"Subscribe to _______\"\n",
        "# youtuber = 'Rubius' # some string variable\n",
        "\n",
        "# a few ways to do this\n",
        "# print('Subscribe to ' + youtuber)\n",
        "# print('Subscribe to {}'.format(youtuber))\n",
        "# print(f'Subscribe to {youtuber}')\n",
        "\n",
        "adj = input('Adjective: ')\n",
        "verb1 = input('Verb: ')\n",
        "verb2 = input('Verb: ')\n",
        "famous_person = input('Famous person: ')\n",
        "\n",
        "madLib = f'Computer programming is so {adj}! It makes me so excited all the time because \\\n",
        "I love to {verb1}. Stay hydrated and {verb2} like you are {famous_person}.'\n",
        "\n",
        "print(madLib)"
      ],
      "metadata": {
        "colab": {
          "base_uri": "https://localhost:8080/"
        },
        "id": "zkhzv7GpFWLP",
        "outputId": "4d24b113-ab70-4a7b-99fb-df858fb5f319"
      },
      "execution_count": 7,
      "outputs": [
        {
          "output_type": "stream",
          "name": "stdout",
          "text": [
            "Adjective: amazing\n",
            "Verb: skydive\n",
            "Verb: jump\n",
            "Famous person: Superman\n",
            "Computer programming is so amazing! It makes me so excited all the time because I love to skydive. Stay hydrated and jump like you are Superman.\n"
          ]
        }
      ]
    },
    {
      "cell_type": "markdown",
      "source": [
        "Guess the number (computer)"
      ],
      "metadata": {
        "id": "bdIqJRbzIApy"
      }
    },
    {
      "cell_type": "code",
      "source": [
        "from random import randint\n",
        "\n",
        "\"\"\"random.randint(a, b)\n",
        "Return a random integer N such that a <= N <= b. Alias for randrange(a, b+1).\"\"\"\n",
        "\n",
        "def guess(x):\n",
        "  random_number = randint(1,x)\n",
        "  while True:\n",
        "    guess = int(input(f'Guess a number between 1 and {x}: '))\n",
        "    if guess == random_number:\n",
        "      break\n",
        "    elif guess > random_number:\n",
        "        print('Sorry, guess again. Too high')\n",
        "    else:\n",
        "        print('Sorry, guess again. Too low')\n",
        "  \n",
        "  print(f'Yay, congrats. You have guessed the number {random_number} correctly!!')\n",
        "\n",
        "guess(10)"
      ],
      "metadata": {
        "colab": {
          "base_uri": "https://localhost:8080/"
        },
        "id": "8syKDqlyID6Z",
        "outputId": "b6f22281-0466-4cf9-d74a-0519eb286bec"
      },
      "execution_count": 27,
      "outputs": [
        {
          "output_type": "stream",
          "name": "stdout",
          "text": [
            "Guess a number between 1 and 10: 5\n",
            "Sorry, guess again. Too high\n",
            "Guess a number between 1 and 10: 1\n",
            "Sorry, guess again. Too low\n",
            "Guess a number between 1 and 10: 3\n",
            "Yay, congrats. You have guessed the number 3 correctly!!\n"
          ]
        }
      ]
    },
    {
      "cell_type": "markdown",
      "source": [
        "Guess the number (user)"
      ],
      "metadata": {
        "id": "HEu2m3yXNl22"
      }
    },
    {
      "cell_type": "code",
      "source": [
        "from random import randint\n",
        "\n",
        "def computer_guess(x):\n",
        "  low = 1\n",
        "  high = x\n",
        "  feedback = ''\n",
        "  while feedback != 'c':\n",
        "    if low != high:\n",
        "      guess = randint(low,high)\n",
        "    else:\n",
        "      guess = low\n",
        "    print(guess)\n",
        "    feedback = input(f'Is {guess} correct (C), too high (H) or too low (L)?\\n').lower()\n",
        "    if feedback == 'h':\n",
        "      high = guess - 1\n",
        "      guess = randint(low,high)\n",
        "    elif feedback == 'l':\n",
        "      low = guess + 1\n",
        "      guess = randint(low,high)\n",
        "  print(f'Yay, the computer guessed your number {guess} correctly!!')\n",
        "  \n",
        "computer_guess(100)"
      ],
      "metadata": {
        "colab": {
          "base_uri": "https://localhost:8080/"
        },
        "id": "wTn8j7h8ToCK",
        "outputId": "23ddf253-323b-478d-9255-897f8175afda"
      },
      "execution_count": 36,
      "outputs": [
        {
          "output_type": "stream",
          "name": "stdout",
          "text": [
            "75\n",
            "Is 75 correct (C), too high (H) or too low (L)?\n",
            "h\n",
            "22\n",
            "Is 22 correct (C), too high (H) or too low (L)?\n",
            "l\n",
            "63\n",
            "Is 63 correct (C), too high (H) or too low (L)?\n",
            "h\n",
            "33\n",
            "Is 33 correct (C), too high (H) or too low (L)?\n",
            "l\n",
            "61\n",
            "Is 61 correct (C), too high (H) or too low (L)?\n",
            "h\n",
            "46\n",
            "Is 46 correct (C), too high (H) or too low (L)?\n",
            "l\n",
            "52\n",
            "Is 52 correct (C), too high (H) or too low (L)?\n",
            "h\n",
            "48\n",
            "Is 48 correct (C), too high (H) or too low (L)?\n",
            "h\n",
            "47\n",
            "Is 47 correct (C), too high (H) or too low (L)?\n",
            "c\n",
            "Yay, the computer guessed your number 47 correctly!!\n"
          ]
        }
      ]
    }
  ]
}