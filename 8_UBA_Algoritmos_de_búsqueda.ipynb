{
  "nbformat": 4,
  "nbformat_minor": 0,
  "metadata": {
    "colab": {
      "provenance": [],
      "authorship_tag": "ABX9TyNg/bwKMLICzf8XAtiXVZH6",
      "include_colab_link": true
    },
    "kernelspec": {
      "name": "python3",
      "display_name": "Python 3"
    },
    "language_info": {
      "name": "python"
    }
  },
  "cells": [
    {
      "cell_type": "markdown",
      "metadata": {
        "id": "view-in-github",
        "colab_type": "text"
      },
      "source": [
        "<a href=\"https://colab.research.google.com/github/PabloDiosquez/Fundamentos_de_Programacion/blob/main/8_UBA_Algoritmos_de_b%C3%BAsqueda.ipynb\" target=\"_parent\"><img src=\"https://colab.research.google.com/assets/colab-badge.svg\" alt=\"Open In Colab\"/></a>"
      ]
    },
    {
      "cell_type": "code",
      "execution_count": null,
      "metadata": {
        "id": "D5tjfBOv2Hid"
      },
      "outputs": [],
      "source": [
        "def buscar(secuencia, elemento):\n",
        "  \"\"\"Devuelve el índice del elemento en\n",
        "  la secuencia o -1 si no está.\n",
        "  \"\"\"\n",
        "  for i in range(len(secuencia)):\n",
        "    if secuencia[i] == elemento: return i\n",
        "  return -1"
      ]
    },
    {
      "cell_type": "markdown",
      "source": [
        "T(N) ∝ N\n",
        "\n",
        "buscar es O(n) (... es de orden n)"
      ],
      "metadata": {
        "id": "X8BV_fqHIYbW"
      }
    },
    {
      "cell_type": "code",
      "source": [
        "def busqueda_binaria(L,x):\n",
        "  \"\"\"Entrada: L -> Lista de N elementos ORDENADA.\n",
        "              x -> Elemento a buscar.\n",
        "     Salida: Índice de x en L o -1. \n",
        "  \"\"\"\n",
        "  izq, der = 0, len(L) - 1\n",
        "  while izq <= der: \n",
        "    medio = (izq + der) // 2\n",
        "    if L[medio] == x:\n",
        "      return medio\n",
        "    if L[medio] < x:\n",
        "      izq = medio + 1\n",
        "    else:\n",
        "      der = medio - 1\n",
        "  return -1"
      ],
      "metadata": {
        "id": "9ASxcCSNGma2"
      },
      "execution_count": null,
      "outputs": []
    },
    {
      "cell_type": "markdown",
      "source": [
        "T(N) ∝ log2(N)\n",
        "\n",
        "busqueda_binaria es O(log(n))"
      ],
      "metadata": {
        "id": "tAg3k2OkKJk1"
      }
    },
    {
      "cell_type": "markdown",
      "source": [
        "**Funciones de orden superior**\n",
        "\n",
        "\"Funciones que reciben funciones o funciones que devuelven funciones\""
      ],
      "metadata": {
        "id": "pNR5_W3BVA2u"
      }
    },
    {
      "cell_type": "code",
      "source": [
        "def f(x): return x*2\n",
        "\n",
        "type(f)\n",
        "f\n",
        "\n",
        "g = f\n",
        "g(3)\n",
        "f(12)"
      ],
      "metadata": {
        "colab": {
          "base_uri": "https://localhost:8080/"
        },
        "id": "qrXQfDv7W9yF",
        "outputId": "d34c87f4-73f1-458b-c903-26dca701570b"
      },
      "execution_count": null,
      "outputs": [
        {
          "output_type": "execute_result",
          "data": {
            "text/plain": [
              "24"
            ]
          },
          "metadata": {},
          "execution_count": 21
        }
      ]
    },
    {
      "cell_type": "code",
      "source": [
        "def exclamar(s):\n",
        "  return '¡' + s + '!'\n",
        "\n",
        "exclamar('hola')\n",
        "\n",
        "def preguntar(s):\n",
        "  return '¿' + s + '?'\n",
        "\n",
        "preguntar('comiste')\n",
        "\n",
        "def puntuar(abre,cierra):\n",
        "  \"Devuelve una función que agregar los símbolos\"\n",
        "  def f(s):\n",
        "    return abre + s + cierra\n",
        "  return f\n",
        "\n",
        "preguntar = puntuar('¿','?')\n",
        "exclamar  = puntuar ('¡','!')\n",
        "\n",
        "preguntar('Comiste')\n",
        "exclamar('hola')"
      ],
      "metadata": {
        "colab": {
          "base_uri": "https://localhost:8080/",
          "height": 35
        },
        "id": "aqwTsxiPZHZ3",
        "outputId": "12fc5558-e8f4-44b0-e0dc-fb82794085af"
      },
      "execution_count": null,
      "outputs": [
        {
          "output_type": "execute_result",
          "data": {
            "text/plain": [
              "'¡hola!'"
            ],
            "application/vnd.google.colaboratory.intrinsic+json": {
              "type": "string"
            }
          },
          "metadata": {},
          "execution_count": 26
        }
      ]
    },
    {
      "cell_type": "markdown",
      "source": [
        "Fuciones que reciben funciones"
      ],
      "metadata": {
        "id": "UB0OlhgNaMoG"
      }
    },
    {
      "cell_type": "code",
      "source": [
        "L = ['hola','contame cómo estás','ingenio','lista de cosas que comprar']\n",
        "\n",
        "print(sorted(L)) # Orden lexicongráfico\n",
        "print(sorted(L,key=len)) # Cantidad de caracteres (La función len recibe una cadena y devuelve un número)"
      ],
      "metadata": {
        "colab": {
          "base_uri": "https://localhost:8080/"
        },
        "id": "H-iY_0YvaQWc",
        "outputId": "3572cc0e-8583-4def-df64-ed6b4f99b7e7"
      },
      "execution_count": null,
      "outputs": [
        {
          "output_type": "stream",
          "name": "stdout",
          "text": [
            "['contame cómo estás', 'hola', 'ingenio', 'lista de cosas que comprar']\n",
            "['hola', 'ingenio', 'contame cómo estás', 'lista de cosas que comprar']\n"
          ]
        }
      ]
    },
    {
      "cell_type": "markdown",
      "source": [
        "Función map"
      ],
      "metadata": {
        "id": "Zew6i2QFcUn-"
      }
    },
    {
      "cell_type": "code",
      "source": [
        "# map(f, secuencia)\n",
        "L = ['hola','contame cómo estás','ingenio','lista de cosas que comprar']\n",
        "map(len,L)\n",
        "list(map(len,L))"
      ],
      "metadata": {
        "colab": {
          "base_uri": "https://localhost:8080/"
        },
        "id": "VJI7POE3cSbf",
        "outputId": "2ffa2a1d-79b9-40ae-d0fd-591322f60444"
      },
      "execution_count": null,
      "outputs": [
        {
          "output_type": "execute_result",
          "data": {
            "text/plain": [
              "[4, 18, 7, 26]"
            ]
          },
          "metadata": {},
          "execution_count": 37
        }
      ]
    }
  ]
}