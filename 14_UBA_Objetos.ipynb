{
  "nbformat": 4,
  "nbformat_minor": 0,
  "metadata": {
    "colab": {
      "provenance": [],
      "authorship_tag": "ABX9TyNkjw0zDdOcPfptTipKSng/",
      "include_colab_link": true
    },
    "kernelspec": {
      "name": "python3",
      "display_name": "Python 3"
    },
    "language_info": {
      "name": "python"
    }
  },
  "cells": [
    {
      "cell_type": "markdown",
      "metadata": {
        "id": "view-in-github",
        "colab_type": "text"
      },
      "source": [
        "<a href=\"https://colab.research.google.com/github/PabloDiosquez/Fundamentos_de_Programacion/blob/main/14_UBA_Objetos.ipynb\" target=\"_parent\"><img src=\"https://colab.research.google.com/assets/colab-badge.svg\" alt=\"Open In Colab\"/></a>"
      ]
    },
    {
      "cell_type": "markdown",
      "source": [
        "Opción 1) Estructura inmutable"
      ],
      "metadata": {
        "id": "lRlc7S2q9yy0"
      }
    },
    {
      "cell_type": "code",
      "source": [
        "# Encapsulamiento 👉 Ocultar los detalles de implementación\n",
        "def tam_crear():\n",
        "  #Los números van entre 0 y 100.\n",
        "  return {\n",
        "      'h':50,\n",
        "      'e':50,\n",
        "      'a':50,\n",
        "  }\n",
        "\n",
        "def tam_pasar(t):\n",
        "  return {\n",
        "      'h': t['h'] + 10,\n",
        "      'e': t['e'] - 10,\n",
        "      'a': t['a'] - 10,\n",
        "  }"
      ],
      "metadata": {
        "id": "bvwUA_tH79R3"
      },
      "execution_count": null,
      "outputs": []
    },
    {
      "cell_type": "code",
      "source": [
        "def tam_crear():\n",
        "  \"(ánimo, hambre, energía)\"\n",
        "  return (50, 50, 50)\n",
        "\n",
        "def tam_pasar(t):\n",
        "  a, h, e = t\n",
        "  return (\n",
        "      a - 10,\n",
        "      h + 10,\n",
        "      e - 10,\n",
        "  )"
      ],
      "metadata": {
        "id": "HCdKokmlQgQB"
      },
      "execution_count": null,
      "outputs": []
    },
    {
      "cell_type": "markdown",
      "source": [
        "Opción 2) Estructura mutable"
      ],
      "metadata": {
        "id": "6MG0386-9qJl"
      }
    },
    {
      "cell_type": "code",
      "source": [
        "def tam_crear():\n",
        "  \"[ánimo, hambre, energía]\"\n",
        "  return [50, 50, 50]\n",
        "\n",
        "def tam_pasar(t):\n",
        "  t[0] -= 10\n",
        "  t[1] += 10\n",
        "  t[2] -= 10"
      ],
      "metadata": {
        "id": "VdkbGcOETWgg"
      },
      "execution_count": null,
      "outputs": []
    },
    {
      "cell_type": "code",
      "source": [
        "def tam_crear():\n",
        "  #Los números van de 0 a 100.\n",
        "  return {\n",
        "      'h':50,\n",
        "      'e':50,\n",
        "      'a':50,\n",
        "  }\n",
        "\n",
        "def tam_pasar(t):\n",
        "  t['h'] += 10\n",
        "  t['e'] -= 10\n",
        "  t['a'] -= 10"
      ],
      "metadata": {
        "id": "V-LFHH1U95vN"
      },
      "execution_count": null,
      "outputs": []
    },
    {
      "cell_type": "markdown",
      "source": [
        "Opción 3) Objeto mutable"
      ],
      "metadata": {
        "id": "NdsIVBqWA8dB"
      }
    },
    {
      "cell_type": "code",
      "source": [
        "class Tamagotchi:\n",
        "  def __init__(self):\n",
        "    self.hambre  = 50\n",
        "    self.energia = 50\n",
        "    self.animo   = 50\n",
        "\n",
        "  def pasar(self):\n",
        "    self.hambre  += 10\n",
        "    self.energia -= 10\n",
        "    self.animo   -= 10"
      ],
      "metadata": {
        "id": "1NUOOEJQBVxx"
      },
      "execution_count": 5,
      "outputs": []
    },
    {
      "cell_type": "code",
      "source": [
        "def main():\n",
        "  t = Tamagotchi()\n",
        "  t.pasar()\n",
        "  q = Tamagotchi()\n",
        "  q.hambre = 20\n",
        "  q.pasar()\n",
        "\n",
        "main()"
      ],
      "metadata": {
        "id": "9ulDTplRDArQ"
      },
      "execution_count": 6,
      "outputs": []
    },
    {
      "cell_type": "markdown",
      "source": [
        "Opción 4) Objeto inmutable"
      ],
      "metadata": {
        "id": "_evPrej5JDrX"
      }
    },
    {
      "cell_type": "code",
      "source": [
        "class Tamagotchi:\n",
        "  def __init__(self):\n",
        "    self.hambre = 50\n",
        "    self.energia = 50\n",
        "    self.animo = 50\n",
        "  \n",
        "  def pasar(self):\n",
        "    nuevo_tamagotchi = Tamagotchi()\n",
        "    nuevo_tamagotchi.hambre = self.hambre + 10\n",
        "    nuevo_tamagotchi.energia = self.energia - 10\n",
        "    nuevo_tamagotchi.animo = self.animo - 10\n",
        "    return nuevo_tamagotchi\n",
        "\n",
        "def main():\n",
        "  t = Tamagotchi()"
      ],
      "metadata": {
        "id": "I5q7m-CNJGZN"
      },
      "execution_count": null,
      "outputs": []
    },
    {
      "cell_type": "code",
      "source": [
        "class Tamagotchi:\n",
        "  \"\"\"Es una mascota virtual\n",
        "  \"\"\"\n",
        "  def __init__(self,h=50,e=50,a=50):\n",
        "    self.hambre  = h\n",
        "    self.energia = e\n",
        "    self.animo   = a\n",
        "\n",
        "  def pasar(self):\n",
        "    return Tamagotchi(\n",
        "        self.hambre + 10,\n",
        "        self.energia - 10,\n",
        "        self.animo - 10,\n",
        "    )\n",
        "\n",
        "  def dormir(self):\n",
        "    return Tamagotchi(\n",
        "        self.hambre + 10,\n",
        "        self.energia + 10,\n",
        "        self.animo,\n",
        "    )"
      ],
      "metadata": {
        "id": "Lza_DNsnLWsU"
      },
      "execution_count": 9,
      "outputs": []
    },
    {
      "cell_type": "code",
      "source": [
        "help(Tamagotchi)"
      ],
      "metadata": {
        "colab": {
          "base_uri": "https://localhost:8080/"
        },
        "id": "6c9fnWpUtlUR",
        "outputId": "60728679-54a1-445e-802d-be6bbe780e0e"
      },
      "execution_count": null,
      "outputs": [
        {
          "output_type": "stream",
          "name": "stdout",
          "text": [
            "Help on class Tamagotchi in module __main__:\n",
            "\n",
            "class Tamagotchi(builtins.object)\n",
            " |  Tamagotchi(h=50, e=50, a=50)\n",
            " |  \n",
            " |  Es una mascota virtual\n",
            " |  \n",
            " |  Methods defined here:\n",
            " |  \n",
            " |  __init__(self, h=50, e=50, a=50)\n",
            " |      Initialize self.  See help(type(self)) for accurate signature.\n",
            " |  \n",
            " |  pasar(self)\n",
            " |  \n",
            " |  ----------------------------------------------------------------------\n",
            " |  Data descriptors defined here:\n",
            " |  \n",
            " |  __dict__\n",
            " |      dictionary for instance variables (if defined)\n",
            " |  \n",
            " |  __weakref__\n",
            " |      list of weak references to the object (if defined)\n",
            "\n"
          ]
        }
      ]
    },
    {
      "cell_type": "code",
      "source": [
        "t = Tamagotchi()\n",
        "type(t)\n",
        "\n",
        "print(isinstance(2,int))\n",
        "print(isinstance(t,Tamagotchi))\n",
        "\n",
        "q = Tamagotchi()\n",
        "r = t\n",
        "\n",
        "print(t is q)\n",
        "print(t is r)"
      ],
      "metadata": {
        "colab": {
          "base_uri": "https://localhost:8080/"
        },
        "id": "GAC_R_ZAutY6",
        "outputId": "341c7ee2-6d62-4cbd-ddd6-875df6eea6d5"
      },
      "execution_count": 10,
      "outputs": [
        {
          "output_type": "stream",
          "name": "stdout",
          "text": [
            "True\n",
            "True\n",
            "False\n",
            "True\n"
          ]
        }
      ]
    },
    {
      "cell_type": "code",
      "source": [
        "#Constructor (__init__)\n",
        "class C:\n",
        "  def __init__(self,x,y,z):\n",
        "    self.x = x\n",
        "    self.y = y\n",
        "    self.z = z\n",
        "\n",
        "c = C(1,2,3)\n",
        "\"\"\"\n",
        "1. Crea una instancia de la clase C.\n",
        "2. Invoca a __init__ con self=a la nueva instancia.\n",
        "3. Produce como resultado la nueva instancia.\n",
        "\"\"\""
      ],
      "metadata": {
        "id": "mKqhZnbZxT6L"
      },
      "execution_count": null,
      "outputs": []
    },
    {
      "cell_type": "code",
      "source": [
        "# Azucar sintáctica\n",
        "L = list([])\n",
        "L.append(1)\n",
        "list.append(L,3)\n",
        "L"
      ],
      "metadata": {
        "colab": {
          "base_uri": "https://localhost:8080/"
        },
        "id": "lp74CxnTy9Bj",
        "outputId": "a168f08e-bf79-40a2-a347-7225cf8bf478"
      },
      "execution_count": null,
      "outputs": [
        {
          "output_type": "execute_result",
          "data": {
            "text/plain": [
              "[1, 3]"
            ]
          },
          "metadata": {},
          "execution_count": 29
        }
      ]
    },
    {
      "cell_type": "code",
      "source": [
        "class Tamagotchi:\n",
        "  \"\"\"Es una mascota virtual.\n",
        "  \"\"\"\n",
        "  def __init__(self,h=50,e=50,a=50):\n",
        "    self.h = h\n",
        "    self.e = e\n",
        "    self.a = a\n",
        "\n",
        "  def pasar(self):\n",
        "    return Tamagotchi(\n",
        "       self.h + 10,\n",
        "       self.e - 10,\n",
        "       self.a - 10, \n",
        "    )\n",
        "\n",
        "  def __str__(self):\n",
        "    return f'Tamgotchi({self.h}, {self.e}, {self.a})'\n",
        "\n",
        "\n",
        "t = Tamagotchi()\n",
        "t.__str__()\n",
        "print(str(t))\n",
        "t = t.pasar()\n",
        "print(str(t))"
      ],
      "metadata": {
        "colab": {
          "base_uri": "https://localhost:8080/"
        },
        "id": "B6fiu9Ay05cj",
        "outputId": "19c637ad-ef9f-4509-8360-f0882fbecf9d"
      },
      "execution_count": 11,
      "outputs": [
        {
          "output_type": "stream",
          "name": "stdout",
          "text": [
            "Tamgotchi(50, 50, 50)\n",
            "Tamgotchi(60, 40, 40)\n"
          ]
        }
      ]
    },
    {
      "cell_type": "markdown",
      "source": [
        "Clase Punto\n",
        "\n",
        "Sobercarga de operadores"
      ],
      "metadata": {
        "id": "3jzpRMnZ5PZe"
      }
    },
    {
      "cell_type": "code",
      "source": [
        "class Punto():\n",
        "  def __init__(self,x,y):\n",
        "    self.x = x\n",
        "    self.y = y\n",
        "\n",
        "  def __str__(self):\n",
        "    return f'({self.x}, {self.y})'\n",
        "\n",
        "  def __add__(self, otro):\n",
        "    return Punto(\n",
        "        self.x + otro.x,\n",
        "        self.y + otro.y\n",
        "    )\n",
        "\n",
        "  def __sub__(self, otro):\n",
        "    return Punto(\n",
        "        self.x - otro.x,\n",
        "        self.y - otro.y\n",
        "    )\n",
        "\n",
        "  def __eq__(self, otro):\n",
        "    return self.x == otro.x and self.y == otro.y\n",
        "\n",
        "\n",
        "p = Punto(1,1)\n",
        "q = Punto(2,-1)\n",
        "\n",
        "s = p + q\n",
        "str(s)\n",
        "r = p - q\n",
        "str(r)\n",
        "\n",
        "p == q"
      ],
      "metadata": {
        "colab": {
          "base_uri": "https://localhost:8080/"
        },
        "id": "2_pddjjq5Q5j",
        "outputId": "7626e166-76c5-43c3-d976-343d7d970300"
      },
      "execution_count": null,
      "outputs": [
        {
          "output_type": "execute_result",
          "data": {
            "text/plain": [
              "False"
            ]
          },
          "metadata": {},
          "execution_count": 59
        }
      ]
    }
  ]
}