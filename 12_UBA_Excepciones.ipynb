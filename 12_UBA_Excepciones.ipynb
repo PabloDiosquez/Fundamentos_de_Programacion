{
  "nbformat": 4,
  "nbformat_minor": 0,
  "metadata": {
    "colab": {
      "provenance": [],
      "authorship_tag": "ABX9TyOgB9x/y/k6Pwly3+tNPfKo",
      "include_colab_link": true
    },
    "kernelspec": {
      "name": "python3",
      "display_name": "Python 3"
    },
    "language_info": {
      "name": "python"
    }
  },
  "cells": [
    {
      "cell_type": "markdown",
      "metadata": {
        "id": "view-in-github",
        "colab_type": "text"
      },
      "source": [
        "<a href=\"https://colab.research.google.com/github/PabloDiosquez/Fundamentos_de_Programacion/blob/main/12_UBA_Excepciones.ipynb\" target=\"_parent\"><img src=\"https://colab.research.google.com/assets/colab-badge.svg\" alt=\"Open In Colab\"/></a>"
      ]
    },
    {
      "cell_type": "markdown",
      "source": [
        "Excepción -- Ocurre cuando ocurre un error en tiempo de ejecución"
      ],
      "metadata": {
        "id": "0B27U0VXEkYn"
      }
    },
    {
      "cell_type": "code",
      "source": [
        "def f(x,y):\n",
        "  return x/y\n",
        "\n",
        "def g(x,y):\n",
        "  return f(x,y)\n",
        "\n",
        "z = g(5,0)"
      ],
      "metadata": {
        "id": "-Wf47lltEsJ3"
      },
      "execution_count": null,
      "outputs": []
    },
    {
      "cell_type": "markdown",
      "source": [
        "Propagación de excepciones -- *La excepción se propaga hacia arriba en los marcos de ejecuciones.* "
      ],
      "metadata": {
        "id": "HGnzGvVKFRSg"
      }
    },
    {
      "cell_type": "code",
      "source": [
        "def normalizar(x,y):\n",
        "  n = (x**2 + y**2)**0.5\n",
        "  print('Antes')\n",
        "  xn = x / n\n",
        "  yn = y / n\n",
        "  print('Después')\n",
        "  return xn, yn\n",
        "\n",
        "def main():\n",
        "  x = float(input('x: '))\n",
        "  y = float(input('y: '))\n",
        "  print(normalizar(x,y))\n",
        "  print('Listo')\n",
        "\n",
        "main()"
      ],
      "metadata": {
        "colab": {
          "base_uri": "https://localhost:8080/",
          "height": 398
        },
        "id": "FoASLRwbDACz",
        "outputId": "d59782d4-893c-4339-ba1a-a36fda7258f7"
      },
      "execution_count": null,
      "outputs": [
        {
          "output_type": "stream",
          "name": "stdout",
          "text": [
            "x: 0\n",
            "y: 0\n",
            "Antes\n"
          ]
        },
        {
          "output_type": "error",
          "ename": "ZeroDivisionError",
          "evalue": "ignored",
          "traceback": [
            "\u001b[0;31m---------------------------------------------------------------------------\u001b[0m",
            "\u001b[0;31mZeroDivisionError\u001b[0m                         Traceback (most recent call last)",
            "\u001b[0;32m<ipython-input-6-036776bd2e5b>\u001b[0m in \u001b[0;36m<module>\u001b[0;34m\u001b[0m\n\u001b[1;32m     13\u001b[0m   \u001b[0mprint\u001b[0m\u001b[0;34m(\u001b[0m\u001b[0;34m'Listo'\u001b[0m\u001b[0;34m)\u001b[0m\u001b[0;34m\u001b[0m\u001b[0;34m\u001b[0m\u001b[0m\n\u001b[1;32m     14\u001b[0m \u001b[0;34m\u001b[0m\u001b[0m\n\u001b[0;32m---> 15\u001b[0;31m \u001b[0mmain\u001b[0m\u001b[0;34m(\u001b[0m\u001b[0;34m)\u001b[0m\u001b[0;34m\u001b[0m\u001b[0;34m\u001b[0m\u001b[0m\n\u001b[0m",
            "\u001b[0;32m<ipython-input-6-036776bd2e5b>\u001b[0m in \u001b[0;36mmain\u001b[0;34m()\u001b[0m\n\u001b[1;32m     10\u001b[0m   \u001b[0mx\u001b[0m \u001b[0;34m=\u001b[0m \u001b[0mfloat\u001b[0m\u001b[0;34m(\u001b[0m\u001b[0minput\u001b[0m\u001b[0;34m(\u001b[0m\u001b[0;34m'x: '\u001b[0m\u001b[0;34m)\u001b[0m\u001b[0;34m)\u001b[0m\u001b[0;34m\u001b[0m\u001b[0;34m\u001b[0m\u001b[0m\n\u001b[1;32m     11\u001b[0m   \u001b[0my\u001b[0m \u001b[0;34m=\u001b[0m \u001b[0mfloat\u001b[0m\u001b[0;34m(\u001b[0m\u001b[0minput\u001b[0m\u001b[0;34m(\u001b[0m\u001b[0;34m'y: '\u001b[0m\u001b[0;34m)\u001b[0m\u001b[0;34m)\u001b[0m\u001b[0;34m\u001b[0m\u001b[0;34m\u001b[0m\u001b[0m\n\u001b[0;32m---> 12\u001b[0;31m   \u001b[0mprint\u001b[0m\u001b[0;34m(\u001b[0m\u001b[0mnormalizar\u001b[0m\u001b[0;34m(\u001b[0m\u001b[0mx\u001b[0m\u001b[0;34m,\u001b[0m\u001b[0my\u001b[0m\u001b[0;34m)\u001b[0m\u001b[0;34m)\u001b[0m\u001b[0;34m\u001b[0m\u001b[0;34m\u001b[0m\u001b[0m\n\u001b[0m\u001b[1;32m     13\u001b[0m   \u001b[0mprint\u001b[0m\u001b[0;34m(\u001b[0m\u001b[0;34m'Listo'\u001b[0m\u001b[0;34m)\u001b[0m\u001b[0;34m\u001b[0m\u001b[0;34m\u001b[0m\u001b[0m\n\u001b[1;32m     14\u001b[0m \u001b[0;34m\u001b[0m\u001b[0m\n",
            "\u001b[0;32m<ipython-input-6-036776bd2e5b>\u001b[0m in \u001b[0;36mnormalizar\u001b[0;34m(x, y)\u001b[0m\n\u001b[1;32m      2\u001b[0m   \u001b[0mn\u001b[0m \u001b[0;34m=\u001b[0m \u001b[0;34m(\u001b[0m\u001b[0mx\u001b[0m\u001b[0;34m**\u001b[0m\u001b[0;36m2\u001b[0m \u001b[0;34m+\u001b[0m \u001b[0my\u001b[0m\u001b[0;34m**\u001b[0m\u001b[0;36m2\u001b[0m\u001b[0;34m)\u001b[0m\u001b[0;34m**\u001b[0m\u001b[0;36m0.5\u001b[0m\u001b[0;34m\u001b[0m\u001b[0;34m\u001b[0m\u001b[0m\n\u001b[1;32m      3\u001b[0m   \u001b[0mprint\u001b[0m\u001b[0;34m(\u001b[0m\u001b[0;34m'Antes'\u001b[0m\u001b[0;34m)\u001b[0m\u001b[0;34m\u001b[0m\u001b[0;34m\u001b[0m\u001b[0m\n\u001b[0;32m----> 4\u001b[0;31m   \u001b[0mxn\u001b[0m \u001b[0;34m=\u001b[0m \u001b[0mx\u001b[0m \u001b[0;34m/\u001b[0m \u001b[0mn\u001b[0m\u001b[0;34m\u001b[0m\u001b[0;34m\u001b[0m\u001b[0m\n\u001b[0m\u001b[1;32m      5\u001b[0m   \u001b[0myn\u001b[0m \u001b[0;34m=\u001b[0m \u001b[0my\u001b[0m \u001b[0;34m/\u001b[0m \u001b[0mn\u001b[0m\u001b[0;34m\u001b[0m\u001b[0;34m\u001b[0m\u001b[0m\n\u001b[1;32m      6\u001b[0m   \u001b[0mprint\u001b[0m\u001b[0;34m(\u001b[0m\u001b[0;34m'Después'\u001b[0m\u001b[0;34m)\u001b[0m\u001b[0;34m\u001b[0m\u001b[0;34m\u001b[0m\u001b[0m\n",
            "\u001b[0;31mZeroDivisionError\u001b[0m: float division by zero"
          ]
        }
      ]
    },
    {
      "cell_type": "markdown",
      "source": [
        "**Manejo de excepciones**"
      ],
      "metadata": {
        "id": "ZD1wI0JMF5IH"
      }
    },
    {
      "cell_type": "code",
      "source": [
        "def normalizar(x,y):\n",
        "  n = (x**2 + y**2)**0.5\n",
        "  print('Antes')\n",
        "  xn = x / n\n",
        "  yn = y / n\n",
        "  print('Después')\n",
        "  return xn, yn\n",
        "\n",
        "# def main():\n",
        "#   x = float(input('x: '))\n",
        "#   y = float(input('y: '))\n",
        "#   try:\n",
        "#     print(normalizar(x,y))\n",
        "#   except:\n",
        "#     print('Algo salió mal :(')\n",
        "#   print('Listo')\n",
        "\n",
        "def main():\n",
        "  try:\n",
        "    x = float(input('x: '))\n",
        "    y = float(input('y: '))\n",
        "    print(normalizar(x,y))\n",
        "  except Exception as e:\n",
        "    print(f'Algo salió mal: {e}')\n",
        "  print('Listo')\n",
        "\n",
        "main()"
      ],
      "metadata": {
        "colab": {
          "base_uri": "https://localhost:8080/"
        },
        "id": "oWVlq-RQF4kn",
        "outputId": "f930457e-d400-4ccb-8bc5-015cac06a80a"
      },
      "execution_count": null,
      "outputs": [
        {
          "output_type": "stream",
          "name": "stdout",
          "text": [
            "x: \n",
            "Algo salió mal: could not convert string to float: \n",
            "Listo\n"
          ]
        }
      ]
    },
    {
      "cell_type": "markdown",
      "source": [
        "Archivos y excepciones"
      ],
      "metadata": {
        "id": "qHUvd87ayvTB"
      }
    },
    {
      "cell_type": "code",
      "source": [
        "try:\n",
        "  f = open('Prueba.txt')\n",
        "  s = f.readline()\n",
        "  print(s)\n",
        "except IOError as err:\n",
        "  print(f'IOError: {err}')\n",
        "  # raise\n",
        "except:\n",
        "  print('Error inesperado')\n",
        "  raise\n",
        "finally:\n",
        "  f.close()\n",
        "  print('Fin')"
      ],
      "metadata": {
        "colab": {
          "base_uri": "https://localhost:8080/",
          "height": 235
        },
        "id": "Yac5v2cXZTuk",
        "outputId": "1f8e7f17-81a1-48ed-c71d-0b058deff30d"
      },
      "execution_count": null,
      "outputs": [
        {
          "output_type": "stream",
          "name": "stdout",
          "text": [
            "IOError: [Errno 2] No such file or directory: 'Prueba.txt'\n"
          ]
        },
        {
          "output_type": "error",
          "ename": "NameError",
          "evalue": "ignored",
          "traceback": [
            "\u001b[0;31m---------------------------------------------------------------------------\u001b[0m",
            "\u001b[0;31mNameError\u001b[0m                                 Traceback (most recent call last)",
            "\u001b[0;32m<ipython-input-5-5879312332a1>\u001b[0m in \u001b[0;36m<module>\u001b[0;34m\u001b[0m\n\u001b[1;32m     10\u001b[0m   \u001b[0;32mraise\u001b[0m\u001b[0;34m\u001b[0m\u001b[0;34m\u001b[0m\u001b[0m\n\u001b[1;32m     11\u001b[0m \u001b[0;32mfinally\u001b[0m\u001b[0;34m:\u001b[0m\u001b[0;34m\u001b[0m\u001b[0;34m\u001b[0m\u001b[0m\n\u001b[0;32m---> 12\u001b[0;31m   \u001b[0mf\u001b[0m\u001b[0;34m.\u001b[0m\u001b[0mclose\u001b[0m\u001b[0;34m(\u001b[0m\u001b[0;34m)\u001b[0m\u001b[0;34m\u001b[0m\u001b[0;34m\u001b[0m\u001b[0m\n\u001b[0m\u001b[1;32m     13\u001b[0m   \u001b[0mprint\u001b[0m\u001b[0;34m(\u001b[0m\u001b[0;34m'Fin'\u001b[0m\u001b[0;34m)\u001b[0m\u001b[0;34m\u001b[0m\u001b[0;34m\u001b[0m\u001b[0m\n",
            "\u001b[0;31mNameError\u001b[0m: name 'f' is not defined"
          ]
        }
      ]
    },
    {
      "cell_type": "code",
      "source": [
        "f = open('archivo.txt')\n",
        "try:\n",
        "  ...\n",
        "finally:\n",
        "  f.close()"
      ],
      "metadata": {
        "id": "8qwdFAfYye7z"
      },
      "execution_count": null,
      "outputs": []
    },
    {
      "cell_type": "markdown",
      "source": [
        "Validaciones: precondiciones"
      ],
      "metadata": {
        "id": "s8aH9fmdzNeJ"
      }
    },
    {
      "cell_type": "markdown",
      "source": [
        "Lanzar una excepción: raise"
      ],
      "metadata": {
        "id": "tYIbDchkz5lR"
      }
    },
    {
      "cell_type": "code",
      "source": [
        "def promedio(L):\n",
        "  if len(L) == 0:\n",
        "    raise ValueError ('La lista no puede estar vacía')\n",
        "  return sum(L)/len(L)\n",
        "\n",
        "# promedio([])"
      ],
      "metadata": {
        "id": "YSBiW1N7zOvZ"
      },
      "execution_count": null,
      "outputs": []
    }
  ]
}