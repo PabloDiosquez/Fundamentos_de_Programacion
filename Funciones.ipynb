{
  "nbformat": 4,
  "nbformat_minor": 0,
  "metadata": {
    "colab": {
      "provenance": [],
      "authorship_tag": "ABX9TyPA04emYUPI+kaXqFjFpZry",
      "include_colab_link": true
    },
    "kernelspec": {
      "name": "python3",
      "display_name": "Python 3"
    },
    "language_info": {
      "name": "python"
    }
  },
  "cells": [
    {
      "cell_type": "markdown",
      "metadata": {
        "id": "view-in-github",
        "colab_type": "text"
      },
      "source": [
        "<a href=\"https://colab.research.google.com/github/PabloDiosquez/Fundamentos_de_Programacion/blob/main/Funciones.ipynb\" target=\"_parent\"><img src=\"https://colab.research.google.com/assets/colab-badge.svg\" alt=\"Open In Colab\"/></a>"
      ]
    },
    {
      "cell_type": "markdown",
      "source": [
        "Ejercicio 2: Definir una función denominada imprimir_mensaje que imprima el siguiente\n",
        "mensaje en pantalla: “Estudiando Fundamentos de Informática en la UNAJ”. No recibe\n",
        "ninguna información por lo tanto no tiene ningún parámetro formal."
      ],
      "metadata": {
        "id": "caihMUQFIPMM"
      }
    },
    {
      "cell_type": "code",
      "source": [
        "def imprimir_mensaje():\n",
        "  print('Estudiando Fundamentos de Informática en la UNAJ')\n",
        "\n",
        "imprimir_mensaje()"
      ],
      "metadata": {
        "colab": {
          "base_uri": "https://localhost:8080/"
        },
        "id": "uviuzUtrIQtx",
        "outputId": "3031992c-0ccc-4ae7-9213-2e53fc807b11"
      },
      "execution_count": null,
      "outputs": [
        {
          "output_type": "stream",
          "name": "stdout",
          "text": [
            "Estudiando Fundamentos de Informática en la UNAJ\n"
          ]
        }
      ]
    },
    {
      "cell_type": "markdown",
      "source": [
        "Ejercicio 3: Definir una función denominada retorno_mensaje que retorne siguiente\n",
        "mensaje: “Estudiando Fundamentos de Informática en la UNAJ”.\n",
        "\n",
        "A. ¿Cómo hago para mostrar ese mensaje en pantalla?\n",
        "\n",
        "B. ¿Qué diferencia encuentra con el ejercicio anterior?\n",
        "\n",
        "C. Si tuvieras que imprimir mensajes como “Estudiando Matemática I en la UNAJ“ y\n",
        "“Estudiando Python en la UNAJ” utilizando la misma función ¿Cómo la modificarías?"
      ],
      "metadata": {
        "id": "kMXxxd6iJbli"
      }
    },
    {
      "cell_type": "code",
      "source": [
        "def retorno_mensaje():\n",
        "  return 'Estudiando Fundamentos de Informática en la UNAJ'\n",
        "\n",
        "# A)\n",
        "print(retorno_mensaje())\n",
        "\n",
        "# C)\n",
        "def retorno_mensaje(m):\n",
        "  return f'Estudiando {m} en la UNAJ'\n",
        "\n",
        "print(retorno_mensaje('Matemática I'))\n",
        "print(retorno_mensaje('Python'))"
      ],
      "metadata": {
        "colab": {
          "base_uri": "https://localhost:8080/"
        },
        "id": "ZRjFNGKzJmuJ",
        "outputId": "72473a27-21f8-4f03-af05-be30344fb9e7"
      },
      "execution_count": null,
      "outputs": [
        {
          "output_type": "stream",
          "name": "stdout",
          "text": [
            "Estudiando Fundamentos de Informática en la UNAJ\n",
            "Estudiando Matemática I en la UNAJ\n",
            "Estudiando Python en la UNAJ\n"
          ]
        }
      ]
    },
    {
      "cell_type": "markdown",
      "source": [
        "Ejercicio 4: Definir una función denominada imprimo_fecha que reciba tres cadenas de\n",
        "caracteres como parámetros formales, que representan un día, un mes y un año e imprima\n",
        "la fecha de la siguiente manera: “ 21 de septiembre de 2021”."
      ],
      "metadata": {
        "id": "jq5P9U0PKQUg"
      }
    },
    {
      "cell_type": "code",
      "source": [
        "def imprimo_fecha(d,m,a):\n",
        "  print(f'{d} de {m} de {a}')\n",
        "\n",
        "imprimo_fecha('21','septiembre','2021')"
      ],
      "metadata": {
        "colab": {
          "base_uri": "https://localhost:8080/"
        },
        "id": "UYag1NU7KRXy",
        "outputId": "2185c2ab-5d2a-4441-bd90-74490347e6c2"
      },
      "execution_count": null,
      "outputs": [
        {
          "output_type": "stream",
          "name": "stdout",
          "text": [
            "21 de septiembre de 2021\n"
          ]
        }
      ]
    },
    {
      "cell_type": "markdown",
      "source": [
        "Ejercicio 5: Definir una función denominada cuantos_dias que reciba el número de mes\n",
        "como parámetro y retorne la cantidad de días que posee. Ejemplo: cuantos_dias(1),\n",
        "debería retornar 31. Ayuda: Pensar en tener una lista de la siguiente manera: [[“enero”,31],\n",
        "[“febrero”, 28], ...]"
      ],
      "metadata": {
        "id": "3RyMWNnQKrx6"
      }
    },
    {
      "cell_type": "code",
      "source": [
        "def cuantos_dias(n):\n",
        "  meses = {\n",
        "      1:31,\n",
        "      2:28,\n",
        "      3:31,\n",
        "      4:30,\n",
        "      5:31,\n",
        "      6:30,\n",
        "      7:31,\n",
        "      8:31,\n",
        "      9:30,\n",
        "      10:31,\n",
        "      11:30,\n",
        "      12:31,\n",
        "  }\n",
        "  return meses.get(n,0)\n",
        "\n",
        "assert cuantos_dias(1) == 31\n",
        "assert cuantos_dias(2) == 28\n",
        "assert cuantos_dias(9) == 30\n",
        "assert cuantos_dias(0) == 0"
      ],
      "metadata": {
        "id": "x6tE1-hgKwan"
      },
      "execution_count": null,
      "outputs": []
    },
    {
      "cell_type": "markdown",
      "source": [
        "Ejercicio 6: Definir una función que reciba un número como parámetro y mostrar la tabla de\n",
        "multiplicar de dicho número."
      ],
      "metadata": {
        "id": "2Z1qNYmxLo5F"
      }
    },
    {
      "cell_type": "code",
      "source": [
        "def tabla_multiplicar(n):\n",
        "  for i in range(11):\n",
        "    print(f'{n} x {i} = {n*i}')\n",
        "\n",
        "tabla_multiplicar(7)"
      ],
      "metadata": {
        "colab": {
          "base_uri": "https://localhost:8080/"
        },
        "id": "60gNzyfJLpax",
        "outputId": "551950b2-acb3-434f-e611-ad2e23538f84"
      },
      "execution_count": null,
      "outputs": [
        {
          "output_type": "stream",
          "name": "stdout",
          "text": [
            "7 x 0 = 0\n",
            "7 x 1 = 7\n",
            "7 x 2 = 14\n",
            "7 x 3 = 21\n",
            "7 x 4 = 28\n",
            "7 x 5 = 35\n",
            "7 x 6 = 42\n",
            "7 x 7 = 49\n",
            "7 x 8 = 56\n",
            "7 x 9 = 63\n",
            "7 x 10 = 70\n"
          ]
        }
      ]
    },
    {
      "cell_type": "markdown",
      "source": [
        "Ejercicio 7: Definir una función que calcule el área de un círculo, otra que calcule el área de\n",
        "un rectángulo y otra que calcule el área de un cuadrado. Analice qué parámetros deberían\n",
        "recibir dichas funciones."
      ],
      "metadata": {
        "id": "b83lGu7ZMFRC"
      }
    },
    {
      "cell_type": "code",
      "source": [
        "def area_circulo(r):\n",
        "  from math import pi\n",
        "  return pi*(r**2)\n",
        "\n",
        "def area_cuadrado(l):\n",
        "  return l*l\n",
        "\n",
        "def area_rectangulo(b,h):\n",
        "  return b*h"
      ],
      "metadata": {
        "id": "FS8ILpTAMF32"
      },
      "execution_count": null,
      "outputs": []
    },
    {
      "cell_type": "markdown",
      "source": [
        "Ejercicio 8: Definir una función llamada calculo_rebaja que reciba dos números, uno con\n",
        "el precio anterior y otro para el precio rebajado y devuelva un número que represente el\n",
        "porcentaje rebajado."
      ],
      "metadata": {
        "id": "HEyJgzgUMzjo"
      }
    },
    {
      "cell_type": "code",
      "source": [
        "def calculo_rebaja(anterior,rebaja):\n",
        "  res = ((anterior - rebaja)*100) / anterior\n",
        "  return round(res,2)\n",
        "\n",
        "calculo_rebaja(123,71)"
      ],
      "metadata": {
        "colab": {
          "base_uri": "https://localhost:8080/"
        },
        "id": "NgkDohT9M0LK",
        "outputId": "fb80446b-3680-416d-ca49-917f775a4598"
      },
      "execution_count": null,
      "outputs": [
        {
          "output_type": "execute_result",
          "data": {
            "text/plain": [
              "42.28"
            ]
          },
          "metadata": {},
          "execution_count": 17
        }
      ]
    },
    {
      "cell_type": "markdown",
      "source": [
        "Ejercicio 9: Definir una función llamada calculo_nuevo_precio que reciba dos números,\n",
        "uno con el precio anterior y otro con el número de porcentaje a aumentar y devuelva el\n",
        "precio aumentado."
      ],
      "metadata": {
        "id": "Q0qRQoQAN7xT"
      }
    },
    {
      "cell_type": "code",
      "source": [
        "def calculo_nuevo_precio(anterior,porcentaje):\n",
        "  return (1 + (porcentaje/100)) * anterior\n",
        "\n",
        "calculo_nuevo_precio(100,24)"
      ],
      "metadata": {
        "colab": {
          "base_uri": "https://localhost:8080/"
        },
        "id": "FUA66juaN8aI",
        "outputId": "2ccbd802-7650-4ab9-adde-95450379fc7d"
      },
      "execution_count": null,
      "outputs": [
        {
          "output_type": "execute_result",
          "data": {
            "text/plain": [
              "124.0"
            ]
          },
          "metadata": {},
          "execution_count": 19
        }
      ]
    },
    {
      "cell_type": "markdown",
      "source": [
        "Ejercicio 10: Definir una función llamada calculo_transporte que reciba cuatro números: la\n",
        "cantidad de alumnos de 1era, 2da y 3er. salita de un jardín de infantes y la cantidad de\n",
        "asientos del transporte escolar. La función debe retornar cuántos micros necesito contratar\n",
        "para una excursión sabiendo que cada salita es acompañada por tres adultos."
      ],
      "metadata": {
        "id": "_3GkjqTL0OwZ"
      }
    },
    {
      "cell_type": "code",
      "source": [
        "def calculo_transporte(p,s,t,c):\n",
        "  return ((p+s+t+9) // c) + 1\n",
        "\n",
        "calculo_transporte(10,12,15,10)"
      ],
      "metadata": {
        "colab": {
          "base_uri": "https://localhost:8080/"
        },
        "id": "BWa9-Yuf0Rpw",
        "outputId": "15aa2d28-5c2d-4932-c003-165712a5c4c2"
      },
      "execution_count": null,
      "outputs": [
        {
          "output_type": "execute_result",
          "data": {
            "text/plain": [
              "5"
            ]
          },
          "metadata": {},
          "execution_count": 2
        }
      ]
    },
    {
      "cell_type": "markdown",
      "source": [
        "Ejercicio 11: Definir una función llamada armo_cartel que reciba una cadena de caracteres\n",
        "(para el nombre del producto) y dos números (el precio anterior y el otro para el precio\n",
        "rebajado) e imprima un cartel de la siguiente forma:\n",
        "\n",
        "*************************************\n",
        "\n",
        "Atención!!! Gran rebaja para el producto nombre (recibido como parámetro)\n",
        "\n",
        "Antes: precio anterior (dato recibido como parámetro)\n",
        "\n",
        "Ahora: precio rebajado (dato recibido como parámetro)"
      ],
      "metadata": {
        "id": "mIcc7oKa1KjJ"
      }
    },
    {
      "cell_type": "code",
      "source": [
        "def armo_cartel(s,a,r):\n",
        "  print(f\"\"\"Atención!!! Gran rebaja para el {s}\n",
        "\n",
        "Antes: ${a}\n",
        "\n",
        "Ahora: ${r}\n",
        "  \"\"\")\n",
        "\n",
        "armo_cartel('Queso La Serenísima',100,82)"
      ],
      "metadata": {
        "colab": {
          "base_uri": "https://localhost:8080/"
        },
        "id": "fCd_JljF1PIt",
        "outputId": "23fa207e-33c6-4409-899a-9697f5bc2b43"
      },
      "execution_count": null,
      "outputs": [
        {
          "output_type": "stream",
          "name": "stdout",
          "text": [
            "Atención!!! Gran rebaja para el Queso La Serenísima\n",
            "\n",
            "Antes: $100\n",
            "\n",
            "Ahora: $82\n",
            "  \n"
          ]
        }
      ]
    },
    {
      "cell_type": "markdown",
      "source": [
        "Ejercicio 12: Definir una función llamada calculo_litros que reciba tres números, el alto,\n",
        "ancho y profundidad (en metros) de una pileta y devuelva la cantidad de litros que tiene."
      ],
      "metadata": {
        "id": "Uov7G8IS2Bni"
      }
    },
    {
      "cell_type": "code",
      "source": [
        "def calculo_litros(alto,ancho,profundidad):\n",
        "  return alto*ancho*profundidad\n",
        "\n",
        "def litros_pileta():\n",
        "  an = float(input('Ingrese ancho: '))\n",
        "  al = float(input('Ingrese alto: '))\n",
        "  p = float(input('Ingrese profundidad: '))\n",
        "  print(f'La pileta tiene {calculo_litros(an,al,p)} litros')\n",
        "\n",
        "litros_pileta()"
      ],
      "metadata": {
        "colab": {
          "base_uri": "https://localhost:8080/"
        },
        "id": "B7GJl4Ar2F3K",
        "outputId": "b6dda61b-c9fa-4546-b125-31c24230faeb"
      },
      "execution_count": null,
      "outputs": [
        {
          "output_type": "stream",
          "name": "stdout",
          "text": [
            "Ingrese ancho: 12\n",
            "Ingrese alto: 1.1\n",
            "Ingrese profundidad: 10\n",
            "La pileta tiene 132.0 litros\n"
          ]
        }
      ]
    },
    {
      "cell_type": "markdown",
      "source": [
        "Ejercicio 13: Definir una función llamada a_pagar que reciba 4 números: la cantidad de\n",
        "personas, el monto gastado en bebida, el monto gastado en comida y el del alquiler del\n",
        "lugar, y retorne cuánto le toca pagar a cada uno."
      ],
      "metadata": {
        "id": "poqtXtnx3ExX"
      }
    },
    {
      "cell_type": "code",
      "source": [
        "def a_pagar(p,b,c,l):\n",
        "  return (b+c+l) / p"
      ],
      "metadata": {
        "id": "27ryT8yH3FUR"
      },
      "execution_count": null,
      "outputs": []
    },
    {
      "cell_type": "markdown",
      "source": [
        "Ejercicio 14: Definir tres funciones llamadas convertir_a_dolar, convertir_a_euro y\n",
        "convertir_a_real. Cada función recibe un parámetro que representa un monto en pesos y\n",
        "devuelve su conversión respectiva."
      ],
      "metadata": {
        "id": "ECc8i19f3RzQ"
      }
    },
    {
      "cell_type": "code",
      "source": [
        "def convertir_a_dolar(p):\n",
        "  DOLAR = 289\n",
        "  return round(p/DOLAR,2)\n",
        "\n",
        "def convertir_a_euro(p):\n",
        "  EURO = 301\n",
        "  return round(p/EURO,2)\n",
        "\n",
        "def convertir_a_real(p):\n",
        "  REAL = 120.2\n",
        "  return round(p/REAL,2)\n",
        "\n",
        "convertir_a_dolar(100000)"
      ],
      "metadata": {
        "colab": {
          "base_uri": "https://localhost:8080/"
        },
        "id": "MpraVZkA3SUq",
        "outputId": "54183f98-e0e8-43a7-d096-3d65f1ad104c"
      },
      "execution_count": null,
      "outputs": [
        {
          "output_type": "execute_result",
          "data": {
            "text/plain": [
              "346.02"
            ]
          },
          "metadata": {},
          "execution_count": 8
        }
      ]
    },
    {
      "cell_type": "markdown",
      "source": [
        "Ejercicio 16: Definir una función llamada precio_con_iva que agrega el IVA (21%) de un\n",
        "producto dado su precio de venta sin IVA."
      ],
      "metadata": {
        "id": "3Q4LgM4z4Rqo"
      }
    },
    {
      "cell_type": "code",
      "source": [
        "def precio_con_iva(p):\n",
        "  IVA = 0.21\n",
        "  return round(p*(1+IVA),2)\n",
        "\n",
        "precio_con_iva(82.12)"
      ],
      "metadata": {
        "colab": {
          "base_uri": "https://localhost:8080/"
        },
        "id": "453M02Qg4SRR",
        "outputId": "cfb7b95a-681e-434c-de61-0b3cc6c17333"
      },
      "execution_count": null,
      "outputs": [
        {
          "output_type": "execute_result",
          "data": {
            "text/plain": [
              "99.37"
            ]
          },
          "metadata": {},
          "execution_count": 13
        }
      ]
    },
    {
      "cell_type": "markdown",
      "source": [
        "Ejercicio 17:\n",
        "\n",
        "a) Definir una función que reciba como parámetro una lista de números y retorne la\n",
        "suma del primer elemento con el último.\n",
        "\n",
        "Zona de definiciones de funciones\n",
        "\n",
        "def sumaPrimUlt(lis):\n",
        "retorna la suma entre el primer elemento de la lista con el ultimo\n",
        "\n",
        "....\n",
        "\n",
        "def promedioPrimUlt(lis):\n",
        "retorna el promedio entre el primer elemento de la lista con el ultimo\n",
        "\n",
        "....\n",
        "\n",
        "Zona del programa principal\n",
        "solicitar al usuario 3 numeros, armar la lista e invocar las unciones anteriores mostrando los\n",
        "resultados\n",
        "....."
      ],
      "metadata": {
        "id": "APwiw7aI5K3I"
      }
    },
    {
      "cell_type": "code",
      "source": [
        "def sumaPrimUlt(L):\n",
        "  return L[0] + L[-1]\n",
        "\n",
        "def promedioPrimUlt(L):\n",
        "  return sumaPrimUlt(L) // 2\n",
        "\n",
        "def armar_lista(n):\n",
        "  L = []\n",
        "  for i in range(n):\n",
        "    num = int(input('Ingrese un número: '))\n",
        "    L.append(num)\n",
        "  return L\n",
        "\n",
        "def main():\n",
        "  L = armar_lista(3)\n",
        "  print(f'La suma del primer elemento con el último en la lista {L} es {sumaPrimUlt(L)}')\n",
        "  print(f'El promedio del primer y último elemento de la lista {L} es {promedioPrimUlt(L)}')\n",
        "  \n",
        "main()"
      ],
      "metadata": {
        "colab": {
          "base_uri": "https://localhost:8080/"
        },
        "id": "JmiQTh6r5ODD",
        "outputId": "50ffdb8a-0d29-4697-b982-b1a978742005"
      },
      "execution_count": null,
      "outputs": [
        {
          "output_type": "stream",
          "name": "stdout",
          "text": [
            "Ingrese un número: 2\n",
            "Ingrese un número: 3\n",
            "Ingrese un número: 8\n",
            "La suma del primer elemento con el último en la lista [2, 3, 8] es 10\n",
            "El promedio del primer y último elemento de la lista [2, 3, 8] es 5\n"
          ]
        }
      ]
    },
    {
      "cell_type": "markdown",
      "source": [
        "Ejercicio 18: En este código una fracción está representada por una lista de dos elementos,\n",
        "el numerador y el denominador. Por ejemplo la fracción 3⁄4 seria la lista (3,4). Complete el\n",
        "código según corresponda.\n",
        "\n",
        "Zona de definiciones de funciones\n",
        "\n",
        "def cargarFraccion():\n",
        "Solicita al usuario el numerador y denominador. Arma la fraccion como una lista y la retorna\n",
        "... .\n",
        "\n",
        "def numeradorFraccion(x):\n",
        "Retorna el numerador que se encuentra en la fraccion x, representada como una lista\n",
        "....\n",
        "\n",
        "def denominadorFraccion(x):\n",
        "Retorna el denominador que se encuentra en la fraccion x, representada como una lista\n",
        "\n",
        "....\n",
        "def sumaFracciones(x, y):\n",
        "Retorna la suma de las fracciones, representadas como listas\n",
        "....\n",
        "\n",
        "def restaFracciones(x, y):\n",
        "Retorna la resta de las fracciones, representadas como listas\n",
        "....\n",
        "\n",
        "def divisionFracciones(x, y)\n",
        "Retorna la division de las fracciones, representadas como listas\n",
        "....\n",
        "\n",
        "def multiplicacionFracciones(x, y):\n",
        "Retorna la multiplicacion fracciones, representadas como listas\n",
        "....\n",
        "\n",
        "Zona del programa principal\n",
        "\n",
        "print (“Bienvenidos/as a cuentas con Fracciones”)\n",
        "\n",
        "a=cargarFraccion()\n",
        "\n",
        "b=cargarFraccion()\n",
        "\n",
        "print (“El denominador de la primera fraccion es:”, .....)\n",
        "print (“El numerador de la segunda fraccion es:”, .....)\n",
        "\n",
        "print (“La suma de dichas fracciones es:”, .....)\n",
        "\n",
        "print (“La resta de dichas fracciones es:”, .....)\n",
        "\n",
        "print (“La multiplicacion de dichas fracciones es:”, .....)\n",
        "\n",
        "print (“La division es:”, .....)"
      ],
      "metadata": {
        "id": "fkxssNZu8Oqh"
      }
    },
    {
      "cell_type": "code",
      "source": [
        "def cargar_fraccion():\n",
        "  a = int(input('Ingrese numerador: '))\n",
        "  b = int(input('Ingrese denominador: '))\n",
        "  return a,b\n",
        "\n",
        "def numerador(fr):\n",
        "  return fr[0]\n",
        "\n",
        "def denominador(fr):\n",
        "  return fr[1]\n",
        "\n",
        "def suma_de_fracciones(fr1,fr2):\n",
        "  return numerador(fr1)*denominador(fr2) + numerador(fr2)*denominador(fr1), denominador(fr1)*denominador(fr2)\n",
        "\n",
        "def main():\n",
        "   print('¡Bienvenidos a cuentas con fracciones!')\n",
        "   a = cargar_fraccion()\n",
        "   b = cargar_fraccion()\n",
        "   print(f'El numerador de la primer fracción es {numerador(a)}')\n",
        "   print(f'El denominador de la segunda fracción es {denominador(b)}')\n",
        "   print(f'La suma de dichas fracciones es {suma_de_fracciones(a,b)}')\n",
        "\n",
        "main()"
      ],
      "metadata": {
        "colab": {
          "base_uri": "https://localhost:8080/"
        },
        "id": "cVI6IcGS8phe",
        "outputId": "8814b416-e8b2-4178-dfce-7d06588bc707"
      },
      "execution_count": null,
      "outputs": [
        {
          "output_type": "stream",
          "name": "stdout",
          "text": [
            "¡Bienvenidos a cuentas con fracciones!\n",
            "Ingrese numerador: 1\n",
            "Ingrese denominador: 2\n",
            "Ingrese numerador: 3\n",
            "Ingrese denominador: 2\n",
            "El numerador de la primer fracción es 1\n",
            "El denominador de la segunda fracción es 2\n",
            "La suma de dichas fracciones es (8, 4)\n"
          ]
        }
      ]
    }
  ]
}