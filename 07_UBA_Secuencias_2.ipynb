{
  "nbformat": 4,
  "nbformat_minor": 0,
  "metadata": {
    "colab": {
      "provenance": [],
      "authorship_tag": "ABX9TyOfjk7/tNm5fV73tkb+BUND",
      "include_colab_link": true
    },
    "kernelspec": {
      "name": "python3",
      "display_name": "Python 3"
    },
    "language_info": {
      "name": "python"
    }
  },
  "cells": [
    {
      "cell_type": "markdown",
      "metadata": {
        "id": "view-in-github",
        "colab_type": "text"
      },
      "source": [
        "<a href=\"https://colab.research.google.com/github/PabloDiosquez/Fundamentos_de_Programacion/blob/main/07_UBA_Secuencias_2.ipynb\" target=\"_parent\"><img src=\"https://colab.research.google.com/assets/colab-badge.svg\" alt=\"Open In Colab\"/></a>"
      ]
    },
    {
      "cell_type": "markdown",
      "source": [
        "Funciones que tenemos a disposición en la librería estándar de Python para manipular secuencias"
      ],
      "metadata": {
        "id": "DHDokj9CHicP"
      }
    },
    {
      "cell_type": "markdown",
      "source": [
        "Funciones sobre cadenas"
      ],
      "metadata": {
        "id": "DSQmVgxXH36W"
      }
    },
    {
      "cell_type": "code",
      "source": [
        "s = '123x4'\n",
        "s.isdecimal()\n",
        "\n",
        "s = '321'\n",
        "s.isdecimal()\n",
        "\n",
        "s = 'Hola'\n",
        "s.lower()\n",
        "s.upper()\n",
        "s.center(10)\n",
        "\n",
        "# Todas las funciones que operan sobre cadenas\n",
        "# help(str) "
      ],
      "metadata": {
        "colab": {
          "base_uri": "https://localhost:8080/",
          "height": 35
        },
        "id": "RK13hT0IH3Iu",
        "outputId": "5eef0047-56f0-49b2-d951-0712ec987c09"
      },
      "execution_count": null,
      "outputs": [
        {
          "output_type": "execute_result",
          "data": {
            "text/plain": [
              "'   Hola   '"
            ],
            "application/vnd.google.colaboratory.intrinsic+json": {
              "type": "string"
            }
          },
          "metadata": {},
          "execution_count": 23
        }
      ]
    },
    {
      "cell_type": "markdown",
      "source": [
        "Funciones sobre secuencias"
      ],
      "metadata": {
        "id": "ApEaLzJfKden"
      }
    },
    {
      "cell_type": "code",
      "source": [
        "s = 'Estoy programando en Python'\n",
        "print(len(s))\n",
        "print(max(s))\n",
        "print(min(s))\n",
        "print(help(max))\n",
        "\n",
        "numeros = [1,2,23,4]\n",
        "sum(numeros)"
      ],
      "metadata": {
        "colab": {
          "base_uri": "https://localhost:8080/"
        },
        "id": "D9kQzQwIKfYW",
        "outputId": "bad3ab4a-a005-4e0c-87b9-7ed23ea8cf3a"
      },
      "execution_count": null,
      "outputs": [
        {
          "output_type": "stream",
          "name": "stdout",
          "text": [
            "27\n",
            "y\n",
            " \n",
            "Help on built-in function max in module builtins:\n",
            "\n",
            "max(...)\n",
            "    max(iterable, *[, default=obj, key=func]) -> value\n",
            "    max(arg1, arg2, *args, *[, key=func]) -> value\n",
            "    \n",
            "    With a single iterable argument, return its biggest item. The\n",
            "    default keyword-only argument specifies an object to return if\n",
            "    the provided iterable is empty.\n",
            "    With two or more arguments, return the largest argument.\n",
            "\n",
            "None\n"
          ]
        },
        {
          "output_type": "execute_result",
          "data": {
            "text/plain": [
              "30"
            ]
          },
          "metadata": {},
          "execution_count": 32
        }
      ]
    },
    {
      "cell_type": "markdown",
      "source": [
        "Funciones sobre secuencias"
      ],
      "metadata": {
        "id": "jQZcqd_cLoA-"
      }
    },
    {
      "cell_type": "code",
      "source": [
        "# str<???> --> str\n",
        "str([1,2,3])\n",
        "\n",
        "s = 'Hola'\n",
        "# tuple<secuencia> --> tupla\n",
        "tuple(s)\n",
        "\n",
        "# list<secuencia> --> lista\n",
        "list(s)\n",
        "\n",
        "x = range(10)\n",
        "type(x)\n",
        "list(x)\n",
        "\n",
        "# Lista de los números pares desde el 0 hasta el 100\n",
        "pares = list(range(0,102,2))\n",
        "print(pares,sep=' ')"
      ],
      "metadata": {
        "colab": {
          "base_uri": "https://localhost:8080/"
        },
        "id": "n-Fiph8TLp3d",
        "outputId": "abe8fb1d-1777-4576-9843-b8b7d26571b8"
      },
      "execution_count": null,
      "outputs": [
        {
          "output_type": "stream",
          "name": "stdout",
          "text": [
            "[0, 2, 4, 6, 8, 10, 12, 14, 16, 18, 20, 22, 24, 26, 28, 30, 32, 34, 36, 38, 40, 42, 44, 46, 48, 50, 52, 54, 56, 58, 60, 62, 64, 66, 68, 70, 72, 74, 76, 78, 80, 82, 84, 86, 88, 90, 92, 94, 96, 98, 100]\n"
          ]
        }
      ]
    },
    {
      "cell_type": "markdown",
      "source": [
        "Desempaquetar"
      ],
      "metadata": {
        "id": "YXW_DsMIOQV_"
      }
    },
    {
      "cell_type": "code",
      "source": [
        "L = ['Hola', 8, True]\n",
        "x, y, z = L[0],L[1],L[2]\n",
        "\n",
        "print(x)\n",
        "print(y)\n",
        "print(z)\n",
        "\n",
        "def f():\n",
        "  return 1,2,3\n",
        "\n",
        "x = f()\n",
        "type(x)\n",
        "x # Con las tuplas los paréntesis son opcionales\n",
        "\n",
        "x,y,z = f()\n",
        "x\n",
        "y\n",
        "z"
      ],
      "metadata": {
        "colab": {
          "base_uri": "https://localhost:8080/"
        },
        "id": "qs1PbNDgOSiA",
        "outputId": "5a212382-8b33-4cce-c549-4a9077f5fcd0"
      },
      "execution_count": null,
      "outputs": [
        {
          "output_type": "stream",
          "name": "stdout",
          "text": [
            "Hola\n",
            "8\n",
            "True\n"
          ]
        },
        {
          "output_type": "execute_result",
          "data": {
            "text/plain": [
              "3"
            ]
          },
          "metadata": {},
          "execution_count": 58
        }
      ]
    },
    {
      "cell_type": "code",
      "source": [
        "def intercambiar(a,b):\n",
        "  aux = a\n",
        "  a = b\n",
        "  b = aux\n",
        "  return a,b\n",
        "\n",
        "x,y = 1,12\n",
        "print('x:',x)\n",
        "print('y:',y)\n",
        "# En Python... armo una tupla y la desempaqueto en la misma línea\n",
        "x, y = y, x\n",
        "print('Luego del intercambio...')\n",
        "print('x:',x)\n",
        "print('y:',y)"
      ],
      "metadata": {
        "colab": {
          "base_uri": "https://localhost:8080/"
        },
        "id": "0T8xFPXBPgPe",
        "outputId": "50c4944f-86e7-4a40-8447-9127d8268e2f"
      },
      "execution_count": null,
      "outputs": [
        {
          "output_type": "stream",
          "name": "stdout",
          "text": [
            "x: 1\n",
            "y: 12\n",
            "Luego del intercambio...\n",
            "x: 12\n",
            "y: 1\n"
          ]
        }
      ]
    },
    {
      "cell_type": "code",
      "source": [
        "dias = [\"Lunes\", \"Martes\", \"Miércoles\", \"Jueves\", \"Viernes\"]\n",
        "# enumerate(dias)\n",
        "list(enumerate(dias)) # Devuelve una lista de tuplas\n",
        "\n",
        "def enumerar_items(secuencia):\n",
        "  # for tupla in enumerate(secuencia):\n",
        "  #   i,e = tupla\n",
        "  #   print(f'{i+1}. {e}')\n",
        "  for i,e in enumerate(secuencia):\n",
        "    print(f'{i+1}. {e}')\n",
        "\n",
        "enumerar_items(dias)"
      ],
      "metadata": {
        "colab": {
          "base_uri": "https://localhost:8080/"
        },
        "id": "Rb16oWcAR21v",
        "outputId": "92a54a37-1d7a-4be3-fe47-353b1321e22e"
      },
      "execution_count": null,
      "outputs": [
        {
          "output_type": "stream",
          "name": "stdout",
          "text": [
            "1. Lunes\n",
            "2. Martes\n",
            "3. Miércoles\n",
            "4. Jueves\n",
            "5. Viernes\n"
          ]
        }
      ]
    },
    {
      "cell_type": "code",
      "source": [
        "# ¿Dónde está tal elemento?\n",
        "dias.index('Martes')\n",
        "'Hola que tal'.index('u')\n",
        "# Casos borde\n",
        "# [1,2,3].index('4') -> ValueError: '4' is not in list\n",
        "[1,2,3,4,5,6,7,3,2,4,5,6,7,8,9,1,2,3,4].index(4) # Me devuelve la primer aparición del elemento\n",
        "\n",
        "# ¿Cómo sé si está o no?\n",
        "# <elemento> in <secuencia>\n",
        "'Martes' in dias\n",
        "12 in [1,2,3,4]\n",
        "12 not in [1,2,3,4]"
      ],
      "metadata": {
        "colab": {
          "base_uri": "https://localhost:8080/"
        },
        "id": "7za2Wpnli8UK",
        "outputId": "a4eee4d9-0547-4385-bae0-3d295bafb6bc"
      },
      "execution_count": null,
      "outputs": [
        {
          "output_type": "execute_result",
          "data": {
            "text/plain": [
              "True"
            ]
          },
          "metadata": {},
          "execution_count": 14
        }
      ]
    },
    {
      "cell_type": "markdown",
      "source": [
        "split y join"
      ],
      "metadata": {
        "id": "P13BSre1mYLy"
      }
    },
    {
      "cell_type": "code",
      "source": [
        "fecha = '30-12-2020'\n",
        "\n",
        "partes = fecha.split('-')\n",
        "\n",
        "'/'.join(partes)\n",
        "\n",
        "help(str.join)\n",
        "\n",
        "'.'.join(['12','34','56'])"
      ],
      "metadata": {
        "colab": {
          "base_uri": "https://localhost:8080/",
          "height": 209
        },
        "id": "DF-Q47s4maB_",
        "outputId": "fa5d6e7b-2a66-4c9d-82b1-a15f25a2ef41"
      },
      "execution_count": null,
      "outputs": [
        {
          "output_type": "stream",
          "name": "stdout",
          "text": [
            "Help on method_descriptor:\n",
            "\n",
            "join(self, iterable, /)\n",
            "    Concatenate any number of strings.\n",
            "    \n",
            "    The string whose method is called is inserted in between each given string.\n",
            "    The result is returned as a new string.\n",
            "    \n",
            "    Example: '.'.join(['ab', 'pq', 'rs']) -> 'ab.pq.rs'\n",
            "\n"
          ]
        },
        {
          "output_type": "execute_result",
          "data": {
            "text/plain": [
              "'12.34.56'"
            ],
            "application/vnd.google.colaboratory.intrinsic+json": {
              "type": "string"
            }
          },
          "metadata": {},
          "execution_count": 31
        }
      ]
    },
    {
      "cell_type": "markdown",
      "source": [
        "Funciones para mutar listas"
      ],
      "metadata": {
        "id": "lMAr-54zqVrG"
      }
    },
    {
      "cell_type": "code",
      "source": [
        "super = ['mermelada','yerba','azúcar','caballa','mate']\n",
        "# list.append()\n",
        "super.append('atún')\n",
        "\n",
        "# list.insert(índice,elemento)\n",
        "super.insert(3,'gaseosa')\n",
        "super.insert(0,'pan')\n",
        "\n",
        "# list.remove(elemento)\n",
        "super.remove('mate')\n",
        "#super.remove('caramelos') --> ValueError: list.remove(x): x not in list\n",
        "super.append('pan')\n",
        "super.remove('pan') # Quita la primer aparición del elemento\n",
        "\n",
        "# list.pop([índice])\n",
        "super.pop(2)\n",
        "super.pop() # Quita el elemento ubicado en la última posición de la lista\n",
        "super"
      ],
      "metadata": {
        "colab": {
          "base_uri": "https://localhost:8080/"
        },
        "id": "vJX1J4K2qX8H",
        "outputId": "e8dcfe5e-db18-455f-bbfb-3cad27e77627"
      },
      "execution_count": null,
      "outputs": [
        {
          "output_type": "execute_result",
          "data": {
            "text/plain": [
              "['mermelada', 'yerba', 'gaseosa', 'caballa', 'atún']"
            ]
          },
          "metadata": {},
          "execution_count": 49
        }
      ]
    },
    {
      "cell_type": "markdown",
      "source": [
        "Igualdad != Identidad (Operador is)"
      ],
      "metadata": {
        "id": "wsR7HgVRuRml"
      }
    },
    {
      "cell_type": "code",
      "source": [
        "L = [1,2,3]\n",
        "\n",
        "L2 = L\n",
        "L2 == L\n",
        "L2 is L # ¿Son la misma lista?\n",
        "\n",
        "L3 = L[:] # L3 apunta a una copia de la lista L (un slice devuelve una copia)\n",
        "L3 == L\n",
        "L3 is L\n",
        "\n",
        "L4 = L.copy()\n",
        "L4 == L\n",
        "L4 is L"
      ],
      "metadata": {
        "colab": {
          "base_uri": "https://localhost:8080/"
        },
        "id": "IU1l4g0ZuVF-",
        "outputId": "bdeaf3af-83eb-4db6-8e82-9f4f9ede15ef"
      },
      "execution_count": null,
      "outputs": [
        {
          "output_type": "execute_result",
          "data": {
            "text/plain": [
              "False"
            ]
          },
          "metadata": {},
          "execution_count": 56
        }
      ]
    },
    {
      "cell_type": "markdown",
      "source": [
        "Algunas consecuencias de la mutabilidad"
      ],
      "metadata": {
        "id": "YcbNOb7UyssT"
      }
    },
    {
      "cell_type": "code",
      "source": [
        "def f(x):\n",
        "  print(x)\n",
        "  x = 8\n",
        "  print(x)\n",
        "\n",
        "x = 3\n",
        "f(x)\n",
        "print(x)\n",
        "\n",
        "def g(L):\n",
        "  print(L)\n",
        "  L.append(8)\n",
        "  print(L)\n",
        "\n",
        "L = [1,2,3]\n",
        "g(L)\n",
        "print(L)\n",
        "\n",
        "def h(L):\n",
        "  print(L)\n",
        "  L = L + [8] # Concatena las dos listas en una nueva lista\n",
        "  print(L)\n",
        "\n",
        "L = [1,2,3]\n",
        "h(L)\n",
        "print(L)"
      ],
      "metadata": {
        "colab": {
          "base_uri": "https://localhost:8080/"
        },
        "id": "oLvxwrxaywMt",
        "outputId": "bb8b6974-d1a7-4f60-c2cc-f5fb25a73949"
      },
      "execution_count": null,
      "outputs": [
        {
          "output_type": "stream",
          "name": "stdout",
          "text": [
            "3\n",
            "8\n",
            "3\n",
            "[1, 2, 3]\n",
            "[1, 2, 3, 8]\n",
            "[1, 2, 3, 8]\n",
            "[1, 2, 3]\n",
            "[1, 2, 3, 8]\n",
            "[1, 2, 3]\n"
          ]
        }
      ]
    },
    {
      "cell_type": "markdown",
      "source": [
        "Funciones para ordenar"
      ],
      "metadata": {
        "id": "_x4i5eiu2zHS"
      }
    },
    {
      "cell_type": "code",
      "source": [
        "L = [1,2,3,3,6,7,5,4,5,6,7,8,9,3,2,1,2,3,4,0]\n",
        "\n",
        "sorted(L) # Recibe una secuencia y me devuelve una lista ordenada. No modifica la lista original (Devuelve una nueva lista ordenada)\n",
        "\n",
        "L.sort() # No devuelve nada. Muta la lista original.\n",
        "L"
      ],
      "metadata": {
        "colab": {
          "base_uri": "https://localhost:8080/"
        },
        "id": "VP3t6QqI3hRV",
        "outputId": "c8f0c534-07ac-4cd8-e852-de0cadffbacf"
      },
      "execution_count": null,
      "outputs": [
        {
          "output_type": "execute_result",
          "data": {
            "text/plain": [
              "[0, 1, 1, 2, 2, 2, 3, 3, 3, 3, 4, 4, 5, 5, 6, 6, 7, 7, 8, 9]"
            ]
          },
          "metadata": {},
          "execution_count": 63
        }
      ]
    }
  ]
}