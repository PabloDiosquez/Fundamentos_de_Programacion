{
  "nbformat": 4,
  "nbformat_minor": 0,
  "metadata": {
    "colab": {
      "provenance": [],
      "authorship_tag": "ABX9TyO5M8KxchMxGg9RjW0ytTdj",
      "include_colab_link": true
    },
    "kernelspec": {
      "name": "python3",
      "display_name": "Python 3"
    },
    "language_info": {
      "name": "python"
    }
  },
  "cells": [
    {
      "cell_type": "markdown",
      "metadata": {
        "id": "view-in-github",
        "colab_type": "text"
      },
      "source": [
        "<a href=\"https://colab.research.google.com/github/PabloDiosquez/Fundamentos_de_Programacion/blob/main/Objetos_01BIS.ipynb\" target=\"_parent\"><img src=\"https://colab.research.google.com/assets/colab-badge.svg\" alt=\"Open In Colab\"/></a>"
      ]
    },
    {
      "cell_type": "markdown",
      "source": [
        "Clase 👉🏼 Molde para crear objetos con características similares."
      ],
      "metadata": {
        "id": "zHOLEKEBwHXM"
      }
    },
    {
      "cell_type": "code",
      "source": [
        "class Coche:\n",
        "  # Atributos o propiedades\n",
        "  # Características del coche\n",
        "  color = 'Rojo'\n",
        "  marca = 'Ferrari'\n",
        "  modelo = 'ABC 123'\n",
        "  velocidad = 250\n",
        "\n",
        "  # Métodos 👉🏼 Acciones que 'realiza' el coche\n",
        "  def acelerar(self):\n",
        "    self.velocidad += 1\n",
        "\n",
        "  def frenar(self):\n",
        "    self.velocidad -= 1\n",
        "\n",
        "  def obtenerVelocidad(self):\n",
        "    return self.velocidad\n",
        "\n",
        "# fin de la definición de la clase\n",
        "# Crear/instanciar la clase\n",
        "\n",
        "coche = Coche()\n",
        "print(coche)\n",
        "print(coche.color)\n",
        "print(coche.marca)\n",
        "print(coche.modelo)\n",
        "print(coche.velocidad)\n",
        "\n",
        "# Llamada a los métodos\n",
        "coche.acelerar()\n",
        "coche.acelerar()\n",
        "coche.acelerar()\n",
        "coche.acelerar()\n",
        "coche.frenar()\n",
        "print(coche.velocidad)"
      ],
      "metadata": {
        "colab": {
          "base_uri": "https://localhost:8080/"
        },
        "id": "BGnSq4uewRKE",
        "outputId": "cb7ecccb-36fd-4fd6-898d-b7218f2f5cd7"
      },
      "execution_count": 6,
      "outputs": [
        {
          "output_type": "stream",
          "name": "stdout",
          "text": [
            "<__main__.Coche object at 0x7fb223627f70>\n",
            "Rojo\n",
            "Ferrari\n",
            "ABC 123\n",
            "250\n",
            "253\n"
          ]
        }
      ]
    }
  ]
}