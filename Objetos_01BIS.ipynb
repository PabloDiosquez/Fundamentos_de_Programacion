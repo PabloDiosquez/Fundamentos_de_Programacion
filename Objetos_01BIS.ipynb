{
  "nbformat": 4,
  "nbformat_minor": 0,
  "metadata": {
    "colab": {
      "provenance": [],
      "authorship_tag": "ABX9TyO5iLnRzzUy6pl+xj6pMC0N",
      "include_colab_link": true
    },
    "kernelspec": {
      "name": "python3",
      "display_name": "Python 3"
    },
    "language_info": {
      "name": "python"
    }
  },
  "cells": [
    {
      "cell_type": "markdown",
      "metadata": {
        "id": "view-in-github",
        "colab_type": "text"
      },
      "source": [
        "<a href=\"https://colab.research.google.com/github/PabloDiosquez/Fundamentos_de_Programacion/blob/main/Objetos_01BIS.ipynb\" target=\"_parent\"><img src=\"https://colab.research.google.com/assets/colab-badge.svg\" alt=\"Open In Colab\"/></a>"
      ]
    },
    {
      "cell_type": "markdown",
      "source": [
        "Clase 👉🏼 Molde para crear objetos con características similares."
      ],
      "metadata": {
        "id": "zHOLEKEBwHXM"
      }
    },
    {
      "cell_type": "code",
      "source": [
        "class Coche:\n",
        "  # Atributos o propiedades\n",
        "  # Características del coche\n",
        "  color = 'Rojo'\n",
        "  marca = 'Ferrari'\n",
        "  modelo = 'ABC 123'\n",
        "  velocidad = 250\n",
        "\n",
        "  # Métodos 👉🏼 Acciones que 'realiza' el coche\n",
        "  def acelerar(self):\n",
        "    self.velocidad += 1\n",
        "\n",
        "  def frenar(self):\n",
        "    self.velocidad -= 1\n",
        "\n",
        "  # Métodos getters y setters\n",
        "  def ObtenerVelocidad(self):\n",
        "    return self.velocidad\n",
        "\n",
        "  def AsignarColor(self, color):\n",
        "    self.color = color\n",
        "\n",
        "  def ObtenerColor(self):\n",
        "    return self.color\n",
        "\n",
        "  def AsignarModelo(self, modelo):\n",
        "    self.modelo = modelo\n",
        "\n",
        "  def ObtenerModelo(self):\n",
        "    return self.modelo\n",
        "\n",
        "  def AsignarMarca(self, marca):\n",
        "    self.marca = marca\n",
        "  \n",
        "  def ObtenerMarca(self):\n",
        "    return self.marca\n",
        "\n",
        "  def ObtenerDatos(self):\n",
        "    return f'Color: {self.color} -- Modelo: {self.modelo} -- Marca: {self.marca}'\n",
        "  \n",
        "# fin de la definición de la clase\n",
        "# Crear/instanciar la clase\n",
        "\n",
        "coche = Coche()\n",
        "# Llamada a los métodos \n",
        "coche.AsignarColor('Negro')\n",
        "coche.AsignarModelo('ABC 321')\n",
        "# print(coche)\n",
        "# print(coche.ObtenerColor())\n",
        "# print(coche.ObtenerMarca())\n",
        "# print(coche.ObtenerModelo())\n",
        "# print(coche.ObtenerVelocidad())\n",
        "\n",
        "coche.acelerar()\n",
        "coche.acelerar()\n",
        "coche.acelerar()\n",
        "coche.acelerar()\n",
        "coche.frenar()\n",
        "print(coche.ObtenerDatos())"
      ],
      "metadata": {
        "colab": {
          "base_uri": "https://localhost:8080/"
        },
        "id": "BGnSq4uewRKE",
        "outputId": "5a96905b-d109-4f28-b63a-5d4620ead76a"
      },
      "execution_count": 11,
      "outputs": [
        {
          "output_type": "stream",
          "name": "stdout",
          "text": [
            "Color: Negro -- Modelo: ABC 321 -- Marca: Ferrari\n"
          ]
        }
      ]
    },
    {
      "cell_type": "code",
      "source": [
        "# Crear más objetos\n",
        "coche2 = Coche()\n",
        "coche3 = Coche()\n",
        "\n",
        "print('Datos del coche 2')\n",
        "print(coche2.ObtenerDatos())\n",
        "\n",
        "# Coche 3\n",
        "coche3.AsignarColor('Verde')\n",
        "coche3.AsignarModelo('CDE 123')\n",
        "coche3.AsignarMarca('Peugeot')\n",
        "print('\\nDatos del coche 3')\n",
        "print(coche3.ObtenerDatos())"
      ],
      "metadata": {
        "colab": {
          "base_uri": "https://localhost:8080/"
        },
        "id": "dOsA7Vv4I_EA",
        "outputId": "3476fd47-0230-4145-a319-7ea893e01396"
      },
      "execution_count": 16,
      "outputs": [
        {
          "output_type": "stream",
          "name": "stdout",
          "text": [
            "Datos del coche 2\n",
            "Color: Rojo -- Modelo: ABC 123 -- Marca: Ferrari\n",
            "\n",
            "Datos del coche 3\n",
            "Color: Verde -- Modelo: CDE 123 -- Marca: Peugeot\n"
          ]
        }
      ]
    }
  ]
}