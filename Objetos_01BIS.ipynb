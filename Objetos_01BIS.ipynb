{
  "nbformat": 4,
  "nbformat_minor": 0,
  "metadata": {
    "colab": {
      "provenance": [],
      "authorship_tag": "ABX9TyOSx+mMMzIvL43geGkPfc/B",
      "include_colab_link": true
    },
    "kernelspec": {
      "name": "python3",
      "display_name": "Python 3"
    },
    "language_info": {
      "name": "python"
    }
  },
  "cells": [
    {
      "cell_type": "markdown",
      "metadata": {
        "id": "view-in-github",
        "colab_type": "text"
      },
      "source": [
        "<a href=\"https://colab.research.google.com/github/PabloDiosquez/Fundamentos_de_Programacion/blob/main/Objetos_01BIS.ipynb\" target=\"_parent\"><img src=\"https://colab.research.google.com/assets/colab-badge.svg\" alt=\"Open In Colab\"/></a>"
      ]
    },
    {
      "cell_type": "markdown",
      "source": [
        "Clase 👉🏼 Molde para crear objetos con características similares."
      ],
      "metadata": {
        "id": "zHOLEKEBwHXM"
      }
    },
    {
      "cell_type": "code",
      "source": [
        "class Coche:\n",
        "  # Atributos o propiedades\n",
        "  # Características del coche\n",
        "  color = 'Rojo'\n",
        "  marca = 'Ferrari'\n",
        "  modelo = 'ABC 123'\n",
        "  velocidad = 250\n",
        "\n",
        "  # Métodos 👉🏼 Acciones que 'realiza' el coche\n",
        "  def acelerar(self):\n",
        "    self.velocidad += 1\n",
        "\n",
        "  def frenar(self):\n",
        "    self.velocidad -= 1\n",
        "\n",
        "  # Métodos getters y setters\n",
        "  def ObtenerVelocidad(self):\n",
        "    return self.velocidad\n",
        "\n",
        "  def AsignarColor(self, color):\n",
        "    self.color = color\n",
        "\n",
        "  def ObtenerColor(self):\n",
        "    return self.color\n",
        "\n",
        "  def AsignarModelo(self, modelo):\n",
        "    self.modelo = modelo\n",
        "\n",
        "  def ObtenerModelo(self):\n",
        "    return self.modelo\n",
        "\n",
        "  def AsignarMarca(self, marca):\n",
        "    self.marca = marca\n",
        "  \n",
        "  def ObtenerMarca(self):\n",
        "    return self.marca\n",
        "\n",
        "  def ObtenerDatos(self):\n",
        "    return f'Color: {self.color} -- Modelo: {self.modelo} -- Marca: {self.marca}'\n",
        "  \n",
        "# fin de la definición de la clase\n",
        "# Crear/instanciar la clase\n",
        "\n",
        "coche = Coche()\n",
        "# Llamada a los métodos \n",
        "coche.AsignarColor('Negro')\n",
        "coche.AsignarModelo('ABC 321')\n",
        "# print(coche)\n",
        "print(type(coche))\n",
        "# print(coche.ObtenerColor())\n",
        "# print(coche.ObtenerMarca())\n",
        "# print(coche.ObtenerModelo())\n",
        "# print(coche.ObtenerVelocidad())\n",
        "\n",
        "coche.acelerar()\n",
        "coche.acelerar()\n",
        "coche.acelerar()\n",
        "coche.acelerar()\n",
        "coche.frenar()\n",
        "print(coche.ObtenerDatos())"
      ],
      "metadata": {
        "colab": {
          "base_uri": "https://localhost:8080/"
        },
        "id": "BGnSq4uewRKE",
        "outputId": "172f9bd6-7b6b-4339-8c4f-72fe373a3d76"
      },
      "execution_count": 17,
      "outputs": [
        {
          "output_type": "stream",
          "name": "stdout",
          "text": [
            "<class '__main__.Coche'>\n",
            "Color: Negro -- Modelo: ABC 321 -- Marca: Ferrari\n"
          ]
        }
      ]
    },
    {
      "cell_type": "code",
      "source": [
        "# Crear más objetos\n",
        "coche2 = Coche()\n",
        "coche3 = Coche()\n",
        "\n",
        "print('Datos del coche 2')\n",
        "print(coche2.ObtenerDatos())\n",
        "\n",
        "# Coche 3\n",
        "coche3.AsignarColor('Verde')\n",
        "coche3.AsignarModelo('CDE 123')\n",
        "coche3.AsignarMarca('Peugeot')\n",
        "print('\\nDatos del coche 3')\n",
        "print(coche3.ObtenerDatos())"
      ],
      "metadata": {
        "colab": {
          "base_uri": "https://localhost:8080/"
        },
        "id": "dOsA7Vv4I_EA",
        "outputId": "3476fd47-0230-4145-a319-7ea893e01396"
      },
      "execution_count": 16,
      "outputs": [
        {
          "output_type": "stream",
          "name": "stdout",
          "text": [
            "Datos del coche 2\n",
            "Color: Rojo -- Modelo: ABC 123 -- Marca: Ferrari\n",
            "\n",
            "Datos del coche 3\n",
            "Color: Verde -- Modelo: CDE 123 -- Marca: Peugeot\n"
          ]
        }
      ]
    },
    {
      "cell_type": "markdown",
      "source": [
        "Constructor 🚗 Define el estado inicial de los objetos"
      ],
      "metadata": {
        "id": "v1FDARPEODlB"
      }
    },
    {
      "cell_type": "code",
      "source": [
        "class Coche:\n",
        "  def __init__(self, color, modelo, marca,velocidad=250):\n",
        "    self.color     = color\n",
        "    self.modelo    = modelo\n",
        "    self.marca     = marca\n",
        "    self.velocidad = velocidad\n",
        "\n",
        "  def ObtenerDatos(self):\n",
        "    datos = '### Datos del coche ###'\n",
        "    datos += f'\\nColor: {self.color}'\n",
        "    datos += f'\\nModelo: {self.modelo}'\n",
        "    datos += f'\\nMarca: {self.marca}'\n",
        "    datos += f'\\nVelocidad: {self.velocidad}'\n",
        "    return datos\n",
        "  \n",
        "  publico   = 'Soy un atributo público'\n",
        "  __privado = 'Soy un atributo privado'\n",
        "\n",
        "  def ObtenerPrivado(self):\n",
        "    return self.__privado\n",
        "\n",
        "coche1 = Coche('Negro','ABC 123','Peugeot')\n",
        "print(coche1.ObtenerDatos())\n",
        "print()\n",
        "coche2 = Coche('Rojo','XYZ 321','Ferrari')\n",
        "print(coche2.ObtenerDatos())"
      ],
      "metadata": {
        "colab": {
          "base_uri": "https://localhost:8080/"
        },
        "id": "CDmrlyj_OH_f",
        "outputId": "e2eb6bea-86b4-4ef2-bdfb-5c49e386fe87"
      },
      "execution_count": 32,
      "outputs": [
        {
          "output_type": "stream",
          "name": "stdout",
          "text": [
            "### Datos del coche ###\n",
            "Color: Negro\n",
            "Modelo: ABC 123\n",
            "Marca: Peugeot\n",
            "Velocidad: 250\n",
            "\n",
            "### Datos del coche ###\n",
            "Color: Rojo\n",
            "Modelo: XYZ 321\n",
            "Marca: Ferrari\n",
            "Velocidad: 250\n"
          ]
        }
      ]
    },
    {
      "cell_type": "code",
      "source": [
        "# Detectar tipado\n",
        "if type(coche) == Coche:\n",
        "  print('Es del tipo esperado')\n",
        "else:\n",
        "  print('No es del tipo esperado')"
      ],
      "metadata": {
        "colab": {
          "base_uri": "https://localhost:8080/"
        },
        "id": "9hUsKOo1Xc9o",
        "outputId": "b3c880ba-e7b7-4369-c21d-1e3ec851e2ba"
      },
      "execution_count": 25,
      "outputs": [
        {
          "output_type": "stream",
          "name": "stdout",
          "text": [
            "Es del tipo esperado\n"
          ]
        }
      ]
    },
    {
      "cell_type": "code",
      "source": [
        "# Visibilidad \n",
        "# Público 👉🏼 Accesible desde cualquier lugar \n",
        "# Privado 👉🏼 Accesible sólo desde dentro de la clase. Puedo acceder a través de un método 💣\n",
        "print(coche1.publico)\n",
        "print(coche1.ObtenerPrivado())"
      ],
      "metadata": {
        "colab": {
          "base_uri": "https://localhost:8080/"
        },
        "id": "0u_RbQWWX3qd",
        "outputId": "411e3665-44eb-4e79-9878-920f3e7a4d10"
      },
      "execution_count": 33,
      "outputs": [
        {
          "output_type": "stream",
          "name": "stdout",
          "text": [
            "Soy un atributo público\n",
            "Soy un atributo privado\n"
          ]
        }
      ]
    }
  ]
}