{
  "nbformat": 4,
  "nbformat_minor": 0,
  "metadata": {
    "colab": {
      "provenance": [],
      "authorship_tag": "ABX9TyNWlU4OUJ3VgaX01Ns8cbVH",
      "include_colab_link": true
    },
    "kernelspec": {
      "name": "python3",
      "display_name": "Python 3"
    },
    "language_info": {
      "name": "python"
    }
  },
  "cells": [
    {
      "cell_type": "markdown",
      "metadata": {
        "id": "view-in-github",
        "colab_type": "text"
      },
      "source": [
        "<a href=\"https://colab.research.google.com/github/PabloDiosquez/Fundamentos_de_Programacion/blob/main/Practica_06.ipynb\" target=\"_parent\"><img src=\"https://colab.research.google.com/assets/colab-badge.svg\" alt=\"Open In Colab\"/></a>"
      ]
    },
    {
      "cell_type": "markdown",
      "source": [
        "**Ejercicio 1**\n",
        "\n",
        "a) Defina una función que reciba como argumento una cadena de texto y retorne un\n",
        "valor entero indicando la cantidad de vocales que contiene la cadena Ejemplo:\n",
        "“agua” -> 3, “pepe” ->2\n",
        "\n",
        "\n",
        "b) Defina una función que genere una lista de palabras hasta que se ingrese la\n",
        "palabra “fin” la cual NO debe ser almacenada en la lista, por cada palabra,\n",
        "también se guardara la cantidad de vocales que contiene la misma, para esto\n",
        "deberá utilizar la función definida en el punto 1) a, al finalizar la función deberá\n",
        "retornar la lista generada.\n",
        "a) La lista resultado deberá tener una estructura similar a:\n",
        "1) [[“uno”,2],[ “pepe”,2],[”agua!”,3],...etc]\n",
        "\n",
        "\n",
        "\n",
        "c) defina una función que reciba como argumento la lista generada en el punto 1.b) e\n",
        "imprimir las palabras que tienen mas de 3 vocales.\n",
        "\n",
        "\n",
        "d) escriba el código del programa que integra las 3 funciones antes definidas."
      ],
      "metadata": {
        "id": "rVpar3nKbhpw"
      }
    },
    {
      "cell_type": "code",
      "source": [
        "# a.\n",
        "def cantidad_de_vocales(s):\n",
        "  \"\"\"Recibe una cadena de texto (str)\n",
        "  y retorna la cantidad de vocales que contiene la cadena.\n",
        "  Ejemplo: “agua” --> 3, “pepe” --> 2\n",
        "  \"\"\"\n",
        "  cant = 0\n",
        "  for c in s.lower():\n",
        "    if c in 'aeiouáéíóú':\n",
        "       cant += 1\n",
        "  return cant\n",
        "\n",
        "# b.\n",
        "def lista_de_palabras():\n",
        "  \"\"\"\n",
        "  \"\"\"\n",
        "  palabras = []\n",
        "  while True:\n",
        "    p = input('Ingrese una palabra: ')\n",
        "    if p == 'fin':\n",
        "      break\n",
        "    palabras.append([p,cantidad_de_vocales(p)])\n",
        "\n",
        "  return palabras\n",
        "\n",
        "# c.\n",
        "def mas_de_n(lista,n):\n",
        "  \"\"\"\"\"\"\n",
        "  print(f'Palabras con más de {n} vocales:')\n",
        "  for e in lista:\n",
        "    if e[1] > n:\n",
        "      print(e[0])\n",
        "\n",
        "mas_de_n(lista_de_palabras(),3)  "
      ],
      "metadata": {
        "colab": {
          "base_uri": "https://localhost:8080/"
        },
        "id": "AEAYjXhD5uk3",
        "outputId": "b76b3299-9f87-4714-8f87-db5ee4c2073a"
      },
      "execution_count": null,
      "outputs": [
        {
          "output_type": "stream",
          "name": "stdout",
          "text": [
            "Ingrese una palabra: pepe\n",
            "Ingrese una palabra: hola\n",
            "Ingrese una palabra: agua\n",
            "Ingrese una palabra: murciélago\n",
            "Ingrese una palabra: rinoceronte\n",
            "Ingrese una palabra: fin\n",
            "Palabras con más de 3 vocales:\n",
            "murciélago\n",
            "rinoceronte\n"
          ]
        }
      ]
    },
    {
      "cell_type": "markdown",
      "source": [
        "Ejercicio 2:\n",
        "\n",
        "resuelva modularizando\n",
        "\n",
        "a) Realice un programa para manejar equipos de fútbol, Armar una lista que tenga\n",
        "información sobre los equipos de fútbol. Para cada equipo deberán tener: el\n",
        "nombre del equipo, puntaje en la tabla de posiciones y la cantidad de goles a favor.\n",
        "\n",
        "b) Usando la lista anterior, imprimir la cantidad de goles a favor que tienen los\n",
        "equipos que están en la primera y última posición de la lista.\n",
        "\n",
        "c) Imprimir el nombre del equipo Campeón de la lista generada en el punto a), el\n",
        "equipo campeón es aquel que sumo más puntos."
      ],
      "metadata": {
        "id": "HAd6cPac3LQW"
      }
    },
    {
      "cell_type": "code",
      "source": [
        "# a.\n",
        "def lista_de_equipos():\n",
        "  \"\"\"Crea una lista de equipos de fútbol. Éstos constan de nombre,\n",
        "  puntaje y cantidad de goles.\n",
        "\n",
        "  Equipo --> (Nombre: str, puntaje: int, goles: int)\n",
        "\n",
        "  Retorna: Lista de tuplas.\n",
        "  A modo de ejemplo: [('Equipo A',31,12),('Equipo B',12,7),...]\n",
        "  \"\"\"\n",
        "  print('Ingrese los equipos -- Condición de corte: \"fin\"')\n",
        "  equipos = []\n",
        "  i = 1\n",
        "  while True:\n",
        "    print(f'\\nEquipo {i}')\n",
        "    nombre = input('Nombre: ')\n",
        "    if nombre == 'fin': break\n",
        "    puntaje = int(input('Puntaje: '))\n",
        "    goles = int(input('Goles: '))\n",
        "    i += 1\n",
        "\n",
        "    equipo = nombre,puntaje,goles\n",
        "    equipos.append(equipo)\n",
        "  \n",
        "  return equipos\n",
        "\n",
        "# b.\n",
        "# La función anterior retorna una lista de equipos. Esa lista es la que vamos a usar para responder este punto...\n",
        "# Creamos una variable que almacene la lista que retorna la función anterior.\n",
        "\n",
        "L = lista_de_equipos()\n",
        "\n",
        "print(f'La cantidad de goles del primer equipo de la lista es {L[0][2]}') #Goles del primer equipo\n",
        "print(f'La cantidad de goles del último equipo de la lista es {L[len(L)-1][2]}') #Goles del último equipo\n",
        "\n",
        "# c.\n",
        "# Para determinar quién es el equipo campeón debemos ver qué equipo tiene el puntaje máximo.\n",
        "# Acceder al puntaje de un equipo: L[i][1], siendo i algún índice. Por ejemplo, al puntaje del primer equipo accedemos con L[0][1] --> esto es un int! \n",
        "\n",
        "def campeon(lista):\n",
        "  puntaje_max = lista[0][1]\n",
        "  camp = lista[0][0] # Nombre del primero de la lista\n",
        "\n",
        "  for equipo in lista:\n",
        "    if equipo[1] > puntaje_max:\n",
        "      puntaje_max = equipo[1]\n",
        "      camp = equipo[0]\n",
        "    \n",
        "  return camp\n",
        "\n",
        "# Es momento de ver si funciona...\n",
        "print(f'El campeón es {campeon(L)}')"
      ],
      "metadata": {
        "colab": {
          "base_uri": "https://localhost:8080/",
          "height": 419
        },
        "id": "mB-jOiwW3QJe",
        "outputId": "56cb288e-16db-46e8-c75c-4ace4821912d"
      },
      "execution_count": null,
      "outputs": [
        {
          "output_type": "stream",
          "name": "stdout",
          "text": [
            "Ingrese los equipos -- Condición de corte: \"fin\"\n",
            "\n",
            "Equipo 1\n",
            "Nombre: River\n",
            "Puntaje: 45\n",
            "Goles: 23\n",
            "\n",
            "Equipo 2\n",
            "Nombre: Boca \n",
            "Puntaje: 54\n",
            "Goles: 32\n",
            "\n",
            "Equipo 3\n",
            "Nombre: Independiente\n",
            "Puntaje: 57\n",
            "Goles: 43\n",
            "\n",
            "Equipo 4\n",
            "Nombre: fin\n",
            "La cantidad de goles del primer equipo de la lista es 23\n",
            "La cantidad de goles del último equipo de la lista es 43\n"
          ]
        },
        {
          "output_type": "execute_result",
          "data": {
            "text/plain": [
              "'Independiente'"
            ],
            "application/vnd.google.colaboratory.intrinsic+json": {
              "type": "string"
            }
          },
          "metadata": {},
          "execution_count": 8
        }
      ]
    },
    {
      "cell_type": "markdown",
      "source": [
        "Ejercicio 4:\n",
        "Se desea realizar un programa para una universidad. El mismo deberá permitir guardar la\n",
        "información de todos los cursos que se dictan en la misma. La cantidad de cursos\n",
        "existentes es ingresado por el usuario del sistema. De cada curso se debe conocer:\n",
        "Nombre, Cantidad de Clases, Día de Dictado, Hora de Comienzo, Duración en minutos.\n",
        "Importante: si la duración del curso es mayor a 360 minutos, NO se debe guardar la\n",
        "información del mismo.\n",
        "El programa debe permitir\n",
        "\n",
        "a) Imprimir todos los cursos que tengan más de 5 clases\n",
        "\n",
        "b) Imprimir los cursos que se dictan en un día de la semana indicado por el usuario.\n",
        "\n",
        "c) Imprimir el curso más intensivo (definido por la cantidad de clases y la duración de\n",
        "cada clase)\n",
        "\n",
        "d) Imprimir los datos en que se dicta un curso indicado por el usuario.\n",
        "\n",
        "e) Imprima todos los cursos que comienzan con una letra indicada por el usuario.\n",
        "\n",
        "El programa escrito deberá mostrar un menú para que el usuario elija la opción deseada.\n",
        "Importante: el sistema termina cuando el usuario elige la opción “salir”."
      ],
      "metadata": {
        "id": "yT_wEvGgvjjH"
      }
    },
    {
      "cell_type": "code",
      "source": [
        "class Curso:\n",
        "  def __init__(self,nombre=\"\",clases=0,dia=\"\",hora=0,duracion=0):\n",
        "    self.nombre = nombre\n",
        "    self.clases = clases\n",
        "    self.dia = dia\n",
        "    self.hora = hora\n",
        "    self.duracion = duracion\n",
        "  \n",
        "  def dia_de_semana(self):\n",
        "    return self.dia\n",
        "\n",
        "  def cantidad_clases(self):\n",
        "    return self.clases\n",
        "\n",
        "  def intensidad_del_curso(self):\n",
        "    return self.clases*self.duracion\n",
        "\n",
        "  def __str__(self):\n",
        "    return f\"\"\"Nombre: {self.nombre} - Cantidad de clases: {self.clases} - Día: {self.dia} - Hora: {self.hora} - Duración: {self.duracion}\n",
        "    \"\"\"\n",
        "\n",
        "  def primera_letra_nombre(self):\n",
        "    return self.nombre[0]\n",
        "\n",
        "def cargar_cursos():\n",
        "  cursos = []\n",
        "  c = int(input('Ingrese la cantidad de cursos: '))\n",
        "  for i in range(c):\n",
        "    print(f'Datos del curso {i+1}:')\n",
        "    nombre = input('Nombre: ')\n",
        "    clases = int(input('Cantidad de clases: '))\n",
        "    dia = input('Día: ')\n",
        "    hora = input('Hora: ')\n",
        "    duracion = int(input('Duración: '))\n",
        "    if duracion > 360: continue\n",
        " \n",
        "    cursos.append(Curso(nombre,clases,dia,hora,duracion))\n",
        "  return cursos\n",
        "\n",
        "def datos_del_curso(lista,nombre):\n",
        "  for e in lista:\n",
        "    if e.nombre.lower() == nombre:\n",
        "      return str(e)\n",
        "\n",
        "def cursos_que_se_dictan_los(cursos,dia):\n",
        "  for curso in cursos:\n",
        "    if curso.dia.lower() == dia:\n",
        "      print(curso.nombre)\n",
        "\n",
        "def curso_mayor_intensidad(cursos):\n",
        "  cursoMax = cursos[0].nombre\n",
        "  mayorInt = cursos[0].intensidad_del_curso()\n",
        "  for curso in cursos:\n",
        "    if curso.intensidad_del_curso() > mayorInt:\n",
        "      cursoMax = curso.nombre\n",
        "      mayorInt = curso.intensidad_del_curso()\n",
        "  return f'El curso de mayor intensidad es {cursoMax}'\n",
        "\n",
        "def curso_empieza_con(cursos,letra):\n",
        "  for curso in cursos:\n",
        "    if curso.nombre[0].lower() == letra:\n",
        "      print(curso.nombre)\n",
        "\n",
        "def main():\n",
        "  print('Cargar cursos:\\n')\n",
        "  cursos = cargar_cursos()\n",
        "  print('Cursos con más de 5 clases:')\n",
        "  for curso in cursos:\n",
        "    if curso.clases > 5:\n",
        "      print(curso.nombre)\n",
        "\n",
        "  dia = input('Ingrese un día de la semana: ')\n",
        "  cursos_que_se_dictan_los(cursos,dia.lower())\n",
        "\n",
        "  print(curso_mayor_intensidad(cursos))\n",
        "    \n",
        "  nombre = input('Ingrese un nombre: ')\n",
        "  print(datos_del_curso(cursos,nombre.lower()))\n",
        "\n",
        "  letra = input('Ingrese una letra: ')\n",
        "  curso_empieza_con(cursos,letra.lower())\n",
        "    \n",
        "main()"
      ],
      "metadata": {
        "id": "WvFJx03svox6",
        "colab": {
          "base_uri": "https://localhost:8080/"
        },
        "outputId": "4d5972a4-57c5-45f7-9dd8-73ae0733532c"
      },
      "execution_count": 7,
      "outputs": [
        {
          "output_type": "stream",
          "name": "stdout",
          "text": [
            "Cargar cursos:\n",
            "\n",
            "Ingrese la cantidad de cursos: 3\n",
            "Datos del curso 1:\n",
            "Nombre: Fisica 1\n",
            "Cantidad de clases: 12\n",
            "Día: Lunes\n",
            "Hora: 10\n",
            "Duración: 60\n",
            "Datos del curso 2:\n",
            "Nombre: Fisica 2\n",
            "Cantidad de clases: 12\n",
            "Día: Martes\n",
            "Hora: 12\n",
            "Duración: 55\n",
            "Datos del curso 3:\n",
            "Nombre: Quimica\n",
            "Cantidad de clases: 23\n",
            "Día: Jueves\n",
            "Hora: 13\n",
            "Duración: 60\n",
            "Cursos con más de 5 clases:\n",
            "Fisica 1\n",
            "Fisica 2\n",
            "Quimica\n",
            "Ingrese un día de la semana: Jueves\n",
            "Quimica\n",
            "El curso de mayor intensidad es Quimica\n",
            "Ingrese un nombre: Quimica\n",
            "Nombre: Quimica - Cantidad de clases: 23 - Día: Jueves - Hora: 13 - Duración: 60\n",
            "    \n",
            "Ingrese una letra: F\n",
            "Fisica 1\n",
            "Fisica 2\n"
          ]
        }
      ]
    }
  ]
}