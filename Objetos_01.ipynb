{
  "nbformat": 4,
  "nbformat_minor": 0,
  "metadata": {
    "colab": {
      "provenance": [],
      "authorship_tag": "ABX9TyP4os5j5lqDt4DuqMGPhgT7",
      "include_colab_link": true
    },
    "kernelspec": {
      "name": "python3",
      "display_name": "Python 3"
    },
    "language_info": {
      "name": "python"
    }
  },
  "cells": [
    {
      "cell_type": "markdown",
      "metadata": {
        "id": "view-in-github",
        "colab_type": "text"
      },
      "source": [
        "<a href=\"https://colab.research.google.com/github/PabloDiosquez/Fundamentos_de_Programacion/blob/main/Objetos_01.ipynb\" target=\"_parent\"><img src=\"https://colab.research.google.com/assets/colab-badge.svg\" alt=\"Open In Colab\"/></a>"
      ]
    },
    {
      "cell_type": "code",
      "source": [
        "class Ejemplo:\n",
        "  def __init__(this,param1,param2='valor por defecto'):\n",
        "    this.param1 = param1\n",
        "    this.param2 = param2\n",
        "\n",
        "un_ejemplo = Ejemplo('un valor','otro valor')\n",
        "\n",
        "print(un_ejemplo)\n",
        "print(un_ejemplo.param1)\n",
        "print(un_ejemplo.param2)\n",
        "\n",
        "print()\n",
        "otro_ejemplo = Ejemplo('un valor')\n",
        "print(otro_ejemplo)\n",
        "print(otro_ejemplo.param1)\n",
        "print(otro_ejemplo.param2)\n",
        "\n",
        "# Agregar atributos de forma dinámica\n",
        "otro_ejemplo.param3 = 'parámetro agregado'\n",
        "print(otro_ejemplo.param3)"
      ],
      "metadata": {
        "colab": {
          "base_uri": "https://localhost:8080/"
        },
        "id": "g7pvW3w4FgJk",
        "outputId": "25c09b0b-4f9a-4ad7-fe6a-f84369facc03"
      },
      "execution_count": 15,
      "outputs": [
        {
          "output_type": "stream",
          "name": "stdout",
          "text": [
            "<__main__.Ejemplo object at 0x7f09c349dac0>\n",
            "un valor\n",
            "otro valor\n",
            "\n",
            "<__main__.Ejemplo object at 0x7f09c344a130>\n",
            "un valor\n",
            "valor por defecto\n",
            "parámetro agregado\n"
          ]
        }
      ]
    },
    {
      "cell_type": "code",
      "source": [
        "class Gato:\n",
        "  especie = 'mamífero' # Atributo de clase\n",
        "\n",
        "  def __init__(self,nombre,edad):\n",
        "    self.nombre = nombre\n",
        "    self.edad = edad\n",
        "    self.alimentos = []\n",
        "\n",
        "  def verEtapaDeVida(self):\n",
        "    if self.edad <= 1:\n",
        "      return f'{self.nombre} es cachorro '\n",
        "    return f'{self.nombre} es adulto'\n",
        "\n",
        "  def esAlimentoFavorito(self,alimento):\n",
        "    return alimento in self.alimentos\n",
        "\n",
        "# Instanciar objeto\n",
        "gato = Gato('Felix',2)\n",
        "gato.alimentos.append('leche')\n",
        "gato.alimentos.append('lasagna')\n",
        "\n",
        "print(gato)\n",
        "print(Gato.especie)\n",
        "print(gato.nombre)\n",
        "print(gato.verEtapaDeVida())\n",
        "print(gato.alimentos)\n",
        "print(gato.esAlimentoFavorito('leche'))\n",
        "print(gato.esAlimentoFavorito('pescado'))"
      ],
      "metadata": {
        "colab": {
          "base_uri": "https://localhost:8080/"
        },
        "id": "-1pzCU80IQOs",
        "outputId": "187ae5d5-24db-4c0d-ca3a-cba7fbe8e0d6"
      },
      "execution_count": 25,
      "outputs": [
        {
          "output_type": "stream",
          "name": "stdout",
          "text": [
            "<__main__.Gato object at 0x7f09b9d1bc70>\n",
            "mamífero\n",
            "Felix\n",
            "Felix es adulto\n",
            "['leche', 'lasagna']\n",
            "True\n",
            "False\n"
          ]
        }
      ]
    }
  ]
}