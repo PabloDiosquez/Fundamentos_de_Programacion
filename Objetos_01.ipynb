{
  "nbformat": 4,
  "nbformat_minor": 0,
  "metadata": {
    "colab": {
      "provenance": [],
      "authorship_tag": "ABX9TyNVIA4KdcEcGNBuAw2t7PIW",
      "include_colab_link": true
    },
    "kernelspec": {
      "name": "python3",
      "display_name": "Python 3"
    },
    "language_info": {
      "name": "python"
    }
  },
  "cells": [
    {
      "cell_type": "markdown",
      "metadata": {
        "id": "view-in-github",
        "colab_type": "text"
      },
      "source": [
        "<a href=\"https://colab.research.google.com/github/PabloDiosquez/Fundamentos_de_Programacion/blob/main/Objetos_01.ipynb\" target=\"_parent\"><img src=\"https://colab.research.google.com/assets/colab-badge.svg\" alt=\"Open In Colab\"/></a>"
      ]
    },
    {
      "cell_type": "code",
      "source": [
        "class Ejemplo:\n",
        "  def __init__(this,param1,param2='valor por defecto'):\n",
        "    this.param1 = param1\n",
        "    this.param2 = param2\n",
        "\n",
        "un_ejemplo = Ejemplo('un valor','otro valor')\n",
        "\n",
        "print(un_ejemplo)\n",
        "print(un_ejemplo.param1)\n",
        "print(un_ejemplo.param2)\n",
        "\n",
        "print()\n",
        "otro_ejemplo = Ejemplo('un valor')\n",
        "print(otro_ejemplo)\n",
        "print(otro_ejemplo.param1)\n",
        "print(otro_ejemplo.param2)\n",
        "\n",
        "# Agregar atributos de forma dinámica\n",
        "otro_ejemplo.param3 = 'parámetro agregado'\n",
        "print(otro_ejemplo.param3)"
      ],
      "metadata": {
        "colab": {
          "base_uri": "https://localhost:8080/"
        },
        "id": "g7pvW3w4FgJk",
        "outputId": "25c09b0b-4f9a-4ad7-fe6a-f84369facc03"
      },
      "execution_count": null,
      "outputs": [
        {
          "output_type": "stream",
          "name": "stdout",
          "text": [
            "<__main__.Ejemplo object at 0x7f09c349dac0>\n",
            "un valor\n",
            "otro valor\n",
            "\n",
            "<__main__.Ejemplo object at 0x7f09c344a130>\n",
            "un valor\n",
            "valor por defecto\n",
            "parámetro agregado\n"
          ]
        }
      ]
    },
    {
      "cell_type": "code",
      "source": [
        "class Gato:\n",
        "  especie = 'mamífero' # Atributo de clase\n",
        "\n",
        "  def __init__(self,nombre,edad):\n",
        "    self.nombre = nombre\n",
        "    self.edad = edad\n",
        "    self.alimentos = []\n",
        "\n",
        "  def verEtapaDeVida(self):\n",
        "    if self.edad <= 1:\n",
        "      return f'{self.nombre} es cachorro '\n",
        "    return f'{self.nombre} es adulto'\n",
        "\n",
        "  def esAlimentoFavorito(self,alimento):\n",
        "    return alimento in self.alimentos\n",
        "\n",
        "# Instanciar objeto\n",
        "gato = Gato('Felix',2)\n",
        "gato.alimentos.append('leche')\n",
        "gato.alimentos.append('lasagna')\n",
        "\n",
        "print(gato)\n",
        "print(Gato.especie) # Atributo de clase\n",
        "print(gato.nombre)\n",
        "print(gato.verEtapaDeVida())\n",
        "print(gato.alimentos)\n",
        "print(gato.esAlimentoFavorito('leche'))\n",
        "print(gato.esAlimentoFavorito('pescado'))"
      ],
      "metadata": {
        "colab": {
          "base_uri": "https://localhost:8080/"
        },
        "id": "-1pzCU80IQOs",
        "outputId": "187ae5d5-24db-4c0d-ca3a-cba7fbe8e0d6"
      },
      "execution_count": null,
      "outputs": [
        {
          "output_type": "stream",
          "name": "stdout",
          "text": [
            "<__main__.Gato object at 0x7f09b9d1bc70>\n",
            "mamífero\n",
            "Felix\n",
            "Felix es adulto\n",
            "['leche', 'lasagna']\n",
            "True\n",
            "False\n"
          ]
        }
      ]
    },
    {
      "cell_type": "markdown",
      "source": [
        "Herencia "
      ],
      "metadata": {
        "id": "0HqHJKPPHpLb"
      }
    },
    {
      "cell_type": "code",
      "source": [
        "class Empleado:\n",
        "  def __init__(self,nombre,edad,legajo,sueldo):\n",
        "    self.nombre = nombre\n",
        "    self.edad   = edad\n",
        "    self.legajo = legajo\n",
        "    self.sueldo = sueldo\n",
        "\n",
        "  def calcularSueldo(self,descuentos=0,bonos=0):\n",
        "    return self.sueldo - descuentos + bonos\n",
        "\n",
        "class AgenteVentas(Empleado):\n",
        "  def __init__(self,nombre,edad,legajo,sueldo,mostrador):\n",
        "    self.mostrador = mostrador\n",
        "    super().__init__(nombre,edad,legajo,sueldo)\n",
        "\n",
        "class Tripulante(Empleado):\n",
        "  def mostrarRenovacionLicencia(self):\n",
        "    if self.edad < 30:\n",
        "      return 'Debe renovar su licencia cada 2 años'\n",
        "    return 'Debe renovar su licencia cada 6 meses'\n",
        "\n",
        "# Instanciando objetos\n",
        "agente = AgenteVentas('Lio Messi',35,'AB120',55000,1)\n",
        "print(f'Sueldo: {agente.calcularSueldo(1000,200)}')\n",
        "\n",
        "tripulante = Tripulante('Julián Álvarez',21,'AC123',120000)\n",
        "print(tripulante.mostrarRenovacionLicencia())"
      ],
      "metadata": {
        "colab": {
          "base_uri": "https://localhost:8080/"
        },
        "id": "2kmyg7DmGPou",
        "outputId": "baf82ac0-421c-4981-a45e-b1e890d3b848"
      },
      "execution_count": 13,
      "outputs": [
        {
          "output_type": "stream",
          "name": "stdout",
          "text": [
            "Sueldo: 54200\n",
            "Debe renovar su licencia cada 2 años\n"
          ]
        }
      ]
    },
    {
      "cell_type": "markdown",
      "source": [
        "Encapsulamiento / Ocultamiento"
      ],
      "metadata": {
        "id": "C4WSeDWIMMSr"
      }
    },
    {
      "cell_type": "code",
      "source": [
        "class Carrera:\n",
        "  def __init__(self,nombre):\n",
        "    self.nombre = nombre\n",
        "    self.__materias = {}\n",
        "\n",
        "  def agregarMateria(self,codigo,materia):\n",
        "    self.__materias[codigo] = materia\n",
        "    \n",
        "class Materia:\n",
        "  def __init__(self,nombre,profesor,fecha):\n",
        "    self.nombre = nombre\n",
        "    self.profesor = profesor\n",
        "    self.fechaInicioDictado = fecha\n",
        "\n",
        "  # Property -- GETTER\n",
        "  @property # 👉 DECORADOR\n",
        "  def fechaInicioDictado(self):\n",
        "    return self._fechaInicioDictado # Atributo privado\n",
        "\n",
        "  # SETTER\n",
        "  @fechaInicioDictado.setter\n",
        "  def fechaInicioDictado(self,fecha):\n",
        "    if fecha < 2006:\n",
        "      self._fechaInicioDictado = 2006\n",
        "    else:\n",
        "      self._fechaInicioDictado = fecha\n",
        "\n",
        "algebra = Materia('Álgebra','Ernesto Aljinovic',2002)\n",
        "quimica = Materia('Química','Diego Superville',2008)\n",
        "\n",
        "inf = Carrera('Ingeniería en Informática')\n",
        "inf.agregarMateria(123,algebra)\n",
        "inf.agregarMateria(125,quimica)\n",
        "\n",
        "print(algebra.fechaInicioDictado)\n",
        "print(quimica.fechaInicioDictado)"
      ],
      "metadata": {
        "colab": {
          "base_uri": "https://localhost:8080/"
        },
        "id": "7ulhdijSMO5S",
        "outputId": "cd698ef8-535d-43a5-8ddf-f14e8f035599"
      },
      "execution_count": 44,
      "outputs": [
        {
          "output_type": "stream",
          "name": "stdout",
          "text": [
            "2006\n",
            "2008\n"
          ]
        }
      ]
    },
    {
      "cell_type": "markdown",
      "source": [
        "Sobrecarga de métodos"
      ],
      "metadata": {
        "id": "l_IZVo18cUyJ"
      }
    },
    {
      "cell_type": "code",
      "source": [
        "class Empleado:\n",
        "  def __init__(self,nombre,legajo,sueldo):\n",
        "    self.nombre = nombre\n",
        "    self.legajo = legajo\n",
        "    self.sueldo = sueldo\n",
        "\n",
        "  def calcularSueldo(self,descuentos):\n",
        "    return self.sueldo - descuentos\n",
        "\n",
        "class Gerente(Empleado):\n",
        "  def calcularSueldo(self,descuentos=0,bonificaciones=0):\n",
        "    return self.sueldo - descuentos + bonificaciones"
      ],
      "metadata": {
        "id": "Z-jyr-7McXyy"
      },
      "execution_count": 45,
      "outputs": []
    }
  ]
}