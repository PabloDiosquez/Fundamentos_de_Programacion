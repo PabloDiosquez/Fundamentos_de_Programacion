{
  "nbformat": 4,
  "nbformat_minor": 0,
  "metadata": {
    "colab": {
      "provenance": [],
      "authorship_tag": "ABX9TyP0NelfsO/OuE4pTbu7GS+y",
      "include_colab_link": true
    },
    "kernelspec": {
      "name": "python3",
      "display_name": "Python 3"
    },
    "language_info": {
      "name": "python"
    }
  },
  "cells": [
    {
      "cell_type": "markdown",
      "metadata": {
        "id": "view-in-github",
        "colab_type": "text"
      },
      "source": [
        "<a href=\"https://colab.research.google.com/github/PabloDiosquez/Fundamentos_de_Programacion/blob/main/06_UBA_Secuencias_1.ipynb\" target=\"_parent\"><img src=\"https://colab.research.google.com/assets/colab-badge.svg\" alt=\"Open In Colab\"/></a>"
      ]
    },
    {
      "cell_type": "code",
      "source": [
        "s = 'python'\n",
        "type(s)\n",
        "\n",
        "t = (8,'Hola',False)\n",
        "type(t)\n",
        "\n",
        "L = [8,'Hola',False]\n",
        "type(L)\n",
        "\n",
        "s + ' es un lenguaje'\n",
        "\n",
        "t + t\n",
        "\n",
        "L + L\n",
        "\n",
        "s*2\n",
        "\n",
        "t*2\n",
        "\n",
        "L*4\n",
        "\n",
        "len(s)\n",
        "\n",
        "len(t)\n",
        "\n",
        "len(L)\n",
        "\n",
        "len((2,(3,(1,2,3))))"
      ],
      "metadata": {
        "colab": {
          "base_uri": "https://localhost:8080/"
        },
        "id": "zkqGbXSPc2Z7",
        "outputId": "a1474ba6-23f2-40d6-d7f4-592746fa43e4"
      },
      "execution_count": null,
      "outputs": [
        {
          "output_type": "execute_result",
          "data": {
            "text/plain": [
              "2"
            ]
          },
          "metadata": {},
          "execution_count": 22
        }
      ]
    },
    {
      "cell_type": "code",
      "source": [
        "# Las secuencias son iterables\n",
        "for c in s:\n",
        "  print(c)\n",
        "\n",
        "for elemento in t:\n",
        "  print(elemento)"
      ],
      "metadata": {
        "colab": {
          "base_uri": "https://localhost:8080/"
        },
        "id": "LY83W3gEgW6k",
        "outputId": "8c6c411d-eeb4-488f-b235-9eacf7cbd078"
      },
      "execution_count": null,
      "outputs": [
        {
          "output_type": "stream",
          "name": "stdout",
          "text": [
            "p\n",
            "y\n",
            "t\n",
            "h\n",
            "o\n",
            "n\n",
            "8\n",
            "Hola\n",
            "False\n"
          ]
        }
      ]
    },
    {
      "cell_type": "markdown",
      "source": [
        "Operador in"
      ],
      "metadata": {
        "id": "NEc5-Q15g1rb"
      }
    },
    {
      "cell_type": "code",
      "source": [
        "print('s' in s)\n",
        "\n",
        "print('y' in s)\n",
        "\n",
        "print(False in t)\n",
        "\n",
        "print('Ho' in s)\n",
        "\n",
        "print(False in L)\n",
        "\n",
        "print((1,2) in ((1,2),3))\n",
        "\n",
        "#Algo especial con cadenas\n",
        "' qu' in 'hola qué tal?'"
      ],
      "metadata": {
        "colab": {
          "base_uri": "https://localhost:8080/"
        },
        "id": "ExSeSWdFg3EL",
        "outputId": "b59defe8-f45f-4444-c027-4f2f5edf399d"
      },
      "execution_count": null,
      "outputs": [
        {
          "output_type": "stream",
          "name": "stdout",
          "text": [
            "False\n",
            "True\n",
            "True\n",
            "False\n",
            "True\n",
            "True\n"
          ]
        },
        {
          "output_type": "execute_result",
          "data": {
            "text/plain": [
              "True"
            ]
          },
          "metadata": {},
          "execution_count": 39
        }
      ]
    },
    {
      "cell_type": "markdown",
      "source": [
        "Acceder a un elemento según su posición"
      ],
      "metadata": {
        "id": "x8thQdqeiHgM"
      }
    },
    {
      "cell_type": "code",
      "source": [
        "# secuencia[índice]\n",
        "s[2]\n",
        "print(t)\n",
        "t[-1]\n",
        "\"\"\"\n",
        "Índices positivos válidos: 0,...,len()-1\n",
        "Índices negativos válidos: -1,...,-len()\n",
        "\"\"\""
      ],
      "metadata": {
        "colab": {
          "base_uri": "https://localhost:8080/"
        },
        "id": "7NOiH2u8iLd7",
        "outputId": "99625e64-b5f5-4305-caa7-5f06623a0a2e"
      },
      "execution_count": null,
      "outputs": [
        {
          "output_type": "stream",
          "name": "stdout",
          "text": [
            "(8, 'Hola', False)\n"
          ]
        },
        {
          "output_type": "execute_result",
          "data": {
            "text/plain": [
              "False"
            ]
          },
          "metadata": {},
          "execution_count": 42
        }
      ]
    },
    {
      "cell_type": "markdown",
      "source": [
        "Diferencias entre cadenas, tuplas y listas"
      ],
      "metadata": {
        "id": "Y3_wK-gSllyc"
      }
    },
    {
      "cell_type": "code",
      "source": [
        "s[0]\n",
        "# s[0] = 'P'  TypeError\n",
        "# Las cadenas son inmutables(no soportan asignación de elementos)\n",
        "\n",
        "t[0]\n",
        "# t[0] = 4 TypeError\n",
        "# Las tuplas son inmutables(no soportan asignación de elementos)\n",
        "\n",
        "L[0]\n",
        "L[0] = True # Las listas son mutables\n",
        "L \n",
        "\n",
        "# t[1][1] = 'P' TypeError"
      ],
      "metadata": {
        "colab": {
          "base_uri": "https://localhost:8080/"
        },
        "id": "KtHelQE8lrAy",
        "outputId": "e6345b89-8ba9-484e-c46c-f0370e377d3e"
      },
      "execution_count": null,
      "outputs": [
        {
          "output_type": "execute_result",
          "data": {
            "text/plain": [
              "[True, 'Hola', False]"
            ]
          },
          "metadata": {},
          "execution_count": 55
        }
      ]
    },
    {
      "cell_type": "code",
      "source": [
        "letra_orozco = \"\"\"Nosotros no somos como los orozco,\n",
        "Yo los conozco, son ocho los monos:\n",
        "Pocho, toto, cholo, tom, moncho, rodolfo, otto, pololo.\n",
        "Yo pongo los votos solo por rodolfo.\n",
        "Los otros son locos. yo los conozco.\n",
        "No los soporto, stop. stop.\n",
        "\n",
        "Pocho orozco: odontólogo ortodoxo doctor-como borocotó-\n",
        "Oncólogo jodón - morocho tordo - groncho jocoso - trosko -\n",
        "Chocó con los montos - colocó molotov.\n",
        "Bonzo, stop, stop.\n",
        "\n",
        "\n",
        "Toto orozco: colocón - drogón como pocos -\n",
        "Tomó todos los hongos - monologó solo por dos otoños -\n",
        "Votó - formol por los ojos - tomó cloformo -\n",
        "Bols - ron - porrón - torronto - toso norton con bordon -\n",
        "¿lo votó o no? - doblo los codos como loco - coño!!, sos vos toto? -\n",
        "Corroboró - socorro como tomó - morfó hot dog - mondongo -\n",
        "Pollo con porotos - lloró, lloró con dolor - por comó lloró tomo dos hongos -\n",
        "Tocó fondo - torró como locos - contó todo, todo, todo.\n",
        "Bochornoso como coppolo, stop, stop.\n",
        "\n",
        "\n",
        "Cholo orozco: mocoso - soplón - moroso - bocón -\n",
        "Chorro como grosso - robó dos potros por comodoro -\n",
        "Los montó - los trotó por bolsón, por los toldos, por chocón.\n",
        "Doloroso, stop, stop.\n",
        "\n",
        "\n",
        "Tom orozco: proctólogo morboso - compró por los shops fotos porno color -\n",
        "Compró como dos tomos - trozos - cosos - colchón roto -\n",
        "Homos como gomón - trolos gozosos con condón -\n",
        "Pomos con moños rococó -todos polvos cortos.\n",
        "Fogozo, stop, stop.\n",
        "\n",
        "\n",
        "Nosotros no somos como los orozco,\n",
        "Yo los conozco, son ocho los monos:\n",
        "Pocho, toto, cholo, tom, moncho, rodolfo, otto, pololo.\n",
        "Yo pongo los votos solo por rodolfo.\n",
        "Los otros son locos. yo los conozco.\n",
        "No los soporto, stop. stop.\n",
        "\n",
        "\n",
        "Moncho orozco: solo probó porro - votó con los ojos rojos por los polos -\n",
        "Votó por bonn - por hong kong - por london soñó con yoko ono -\n",
        "Lloró por john - voló por vos - voló por nosotros - brotó como flor bordó -\n",
        "Roló pot, nos contó - los tronchos son grosos como los corchos.\n",
        "Bocho borroso, stop, stop.\n",
        "\n",
        "\n",
        "Rodolfo orozco: con voz como john scott - ronco, ronco -\n",
        "Formó todos los coros - tocó: dobro con mollo - mombo con moro -\n",
        "Ton ton con pomo - joropo con tormo - bongó con don johnson -\n",
        "Tocó con t.o.t.o - los lobos - los door - los moscos -\n",
        "Compró dos vox - tocó \"socorro\" con pol - nos contó con honor -\n",
        "Tocó con bob!! tocó con bob!! - sopló como trombón -\n",
        "Tocó son sonoro con los cocos - rock - pop - folk - pogo -\n",
        "Nos contó como oyo todos los: oh, oh, oh, oh,...!!! -\n",
        "Tocó con todos - por poco no toco con colón.\n",
        "Coloso, stop, stop.\n",
        "\n",
        "\n",
        "Otto orozco: con otros rollos - con poco protocolo - copó todo como los born -\n",
        "Troncoso don floro o los lococo - logró otro confort - ojo por ojo -\n",
        "Controló todo - convocó por fono los otros orozco - cortó con todos -\n",
        "Cobró todos los bonos bocon - colocó montos gorsos por boston -\n",
        "Cobró dos lotos - compró dos ford - ocho volvo - dos gol - oro -\n",
        "Motos - toros - compró los coto - rodó - coconor.\n",
        "Zorro, stop, stop.\n",
        "\n",
        "\n",
        "Pololo orozco: gordo fofo con olor - mormóm - glotón con jopo -\n",
        "Rostro poroso - rotoso - roñoso - como con motor roto - sólo como croto -\n",
        "Sólo como topo - sólo como don bosco con poncho.\n",
        "Choto, stop, stop.\n",
        "\"\"\""
      ],
      "metadata": {
        "id": "wlHXRWggnrBt"
      },
      "execution_count": null,
      "outputs": []
    },
    {
      "cell_type": "code",
      "source": [
        "def contar_letras_o(letra):\n",
        "  cont = 0\n",
        "  letras_o = 'oOóÓöÖ'\n",
        "  for c in letra:\n",
        "    if c in letras_o:\n",
        "      cont += 1\n",
        "  return cont \n",
        "  \n",
        "contar_letras_o(letra_orozco)"
      ],
      "metadata": {
        "colab": {
          "base_uri": "https://localhost:8080/"
        },
        "id": "Tl4e7D8inVus",
        "outputId": "5afe0c8e-fc2e-4a22-ff0a-072385518e4c"
      },
      "execution_count": null,
      "outputs": [
        {
          "output_type": "execute_result",
          "data": {
            "text/plain": [
              "885"
            ]
          },
          "metadata": {},
          "execution_count": 61
        }
      ]
    },
    {
      "cell_type": "markdown",
      "source": [
        "Secuencias: segmentos / porciones / slices"
      ],
      "metadata": {
        "id": "NRvUz9CuqEY8"
      }
    },
    {
      "cell_type": "code",
      "source": [
        "s[2:4]\n",
        "s[0:]\n",
        "s[:len(s)]\n",
        "s[:-1]\n",
        "s[-2:-1]\n",
        "\n",
        "t[:len(t)]\n",
        "t[0:2]\n",
        "\n",
        "s = 'Hola cómo estás?'\n",
        "s[2:7:2]\n",
        "s[3:45]\n",
        "s[40:45] # Los slices no dan error(Sí puede dar una secuencia vacía)\n",
        "# secuencia[desde:hasta:paso]\n",
        "\n",
        "# s[:n] + s[n:] --> s\n",
        "s[:3] + s[3:]\n",
        "s[:312] + s[321:]\n",
        "\n",
        "# Secuencia original pero dada vuelta\n",
        "s_invertida = s[::-1]\n",
        "print(s)\n",
        "print(s_invertida)\n",
        "print(t[::-1])"
      ],
      "metadata": {
        "colab": {
          "base_uri": "https://localhost:8080/"
        },
        "id": "ItvoEbzWqJvc",
        "outputId": "bc8ddaad-e5f9-4a02-8b99-76bbeb5c8fc3"
      },
      "execution_count": null,
      "outputs": [
        {
          "output_type": "stream",
          "name": "stdout",
          "text": [
            "Hola cómo estás?\n",
            "?sátse omóc aloH\n",
            "(False, 'Hola', 8)\n"
          ]
        }
      ]
    },
    {
      "cell_type": "markdown",
      "source": [
        "f-Strings -- Interpolación de cadenas o cadenas con formato"
      ],
      "metadata": {
        "id": "VPo8VdUMyvgE"
      }
    },
    {
      "cell_type": "code",
      "source": [
        "titulo = 'Los Orozco'\n",
        "print(f'La letra de \"{titulo}\" tiene un total de {contar_letras_o(letra_orozco)} letras o')\n",
        "# f de format -- Quiero armar una cadena con formato"
      ],
      "metadata": {
        "colab": {
          "base_uri": "https://localhost:8080/"
        },
        "id": "zoLxh9MlyvtT",
        "outputId": "f0909205-515f-4fe7-bd34-32479ed309ea"
      },
      "execution_count": null,
      "outputs": [
        {
          "output_type": "stream",
          "name": "stdout",
          "text": [
            "La letra de \"Los Orozco\" tiene un total de 885 letras o\n"
          ]
        }
      ]
    },
    {
      "cell_type": "markdown",
      "source": [
        "Operador not in"
      ],
      "metadata": {
        "id": "LFO7l9Ec5Jcc"
      }
    },
    {
      "cell_type": "code",
      "source": [
        "def es_numerico(s):\n",
        "  \"\"\"Recibe una cadena y devuelve True si\n",
        "  todos los caracteres son numéricos\"\"\"\n",
        "  if s == '':\n",
        "     return False\n",
        "  for c in s:\n",
        "    if c not in '0123456789':\n",
        "      return False\n",
        "  return True\n",
        "\n",
        "assert not es_numerico('')\n",
        "assert es_numerico('345')\n",
        "assert not es_numerico('x345')\n",
        "assert not es_numerico('7.8')\n",
        "assert not es_numerico('-12334')\n",
        "\n",
        "# <secuencia>.isdecimal()\n",
        "\n",
        "'x345'.isdecimal()\n",
        "'345'.isdecimal()"
      ],
      "metadata": {
        "colab": {
          "base_uri": "https://localhost:8080/"
        },
        "id": "PyighY6q2lrt",
        "outputId": "0ebc89a7-73a0-420f-f927-b340a13e75ac"
      },
      "execution_count": null,
      "outputs": [
        {
          "output_type": "execute_result",
          "data": {
            "text/plain": [
              "True"
            ]
          },
          "metadata": {},
          "execution_count": 113
        }
      ]
    },
    {
      "cell_type": "markdown",
      "source": [
        "Iterar + índices"
      ],
      "metadata": {
        "id": "wkDiWlnhAhiV"
      }
    },
    {
      "cell_type": "code",
      "source": [
        "nombres = [\"Diego\", \"Carlos\", \"Martin\", \"Lorena\", \"Natalia\"]\n",
        "\n",
        "def mostrar_nombres(nombres):\n",
        "  i = 0\n",
        "  for nombre in nombres:\n",
        "    print(f'{i+1}. {nombre}')\n",
        "    i += 1\n",
        "\n",
        "# mostrar_nombres(nombres)\n",
        "\n",
        "def mostrar_nombresV2(nombres):\n",
        "  for i in range(len(nombres)):\n",
        "    print(f'{i+1}. {nombres[i]}')\n",
        "\n",
        "mostrar_nombresV2(nombres)"
      ],
      "metadata": {
        "colab": {
          "base_uri": "https://localhost:8080/"
        },
        "id": "3HwB4zCDAjWc",
        "outputId": "77aa553b-8cdc-4aa5-ad68-6c9fd0bc00ec"
      },
      "execution_count": null,
      "outputs": [
        {
          "output_type": "stream",
          "name": "stdout",
          "text": [
            "1. Diego\n",
            "2. Carlos\n",
            "3. Martin\n",
            "4. Lorena\n",
            "5. Natalia\n"
          ]
        }
      ]
    },
    {
      "cell_type": "markdown",
      "source": [
        "Matrices"
      ],
      "metadata": {
        "id": "-qR7Y38vCQjE"
      }
    },
    {
      "cell_type": "code",
      "source": [
        "import sympy as smp\n",
        "\n",
        "M = smp.Matrix([[2,5],[-1,0],[4,-2]])\n",
        "M"
      ],
      "metadata": {
        "colab": {
          "base_uri": "https://localhost:8080/",
          "height": 78
        },
        "id": "TSOraAX8DNDc",
        "outputId": "ead9a3fd-ff4d-4da8-cfaa-9fac4dfe10ce"
      },
      "execution_count": null,
      "outputs": [
        {
          "output_type": "execute_result",
          "data": {
            "text/plain": [
              "Matrix([\n",
              "[ 2,  5],\n",
              "[-1,  0],\n",
              "[ 4, -2]])"
            ],
            "text/latex": "$\\displaystyle \\left[\\begin{matrix}2 & 5\\\\-1 & 0\\\\4 & -2\\end{matrix}\\right]$"
          },
          "metadata": {},
          "execution_count": 123
        }
      ]
    },
    {
      "cell_type": "code",
      "source": [
        "M1 = [[2,5],[-1,0],[4,-2]]\n",
        "M2 = [[2,-1,4],[5,0,-2]]\n",
        "\n",
        "print(M1[2][1])\n",
        "print(M2[1][2])"
      ],
      "metadata": {
        "colab": {
          "base_uri": "https://localhost:8080/"
        },
        "id": "SyjpyYorCRfU",
        "outputId": "8160d1c5-9b2a-448a-eb9c-b956648b9e05"
      },
      "execution_count": null,
      "outputs": [
        {
          "output_type": "stream",
          "name": "stdout",
          "text": [
            "-2\n",
            "-2\n"
          ]
        }
      ]
    }
  ]
}