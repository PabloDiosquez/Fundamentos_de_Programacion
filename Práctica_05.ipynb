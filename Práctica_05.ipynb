{
  "nbformat": 4,
  "nbformat_minor": 0,
  "metadata": {
    "colab": {
      "provenance": [],
      "include_colab_link": true
    },
    "kernelspec": {
      "name": "python3",
      "display_name": "Python 3"
    },
    "language_info": {
      "name": "python"
    }
  },
  "cells": [
    {
      "cell_type": "markdown",
      "metadata": {
        "id": "view-in-github",
        "colab_type": "text"
      },
      "source": [
        "<a href=\"https://colab.research.google.com/github/PabloDiosquez/Fundamentos_de_Programacion/blob/main/Pr%C3%A1ctica_05.ipynb\" target=\"_parent\"><img src=\"https://colab.research.google.com/assets/colab-badge.svg\" alt=\"Open In Colab\"/></a>"
      ]
    },
    {
      "cell_type": "markdown",
      "source": [
        "Ejercicio 1: Escribir un programa que muestre la tabla de multiplicar de un número\n",
        "introducido por teclado por el usuario."
      ],
      "metadata": {
        "id": "O_Nt1FRE3GCn"
      }
    },
    {
      "cell_type": "code",
      "source": [
        "def tabla_de_multiplicar(n):\n",
        "  print(f'Tabla de multiplicar de {n}')\n",
        "  for i in range(11):\n",
        "    print(f'{n} x {i} = {n*i}')\n",
        "\n",
        "n = int(input('Ingrese un número: '))\n",
        "tabla_de_multiplicar(n)"
      ],
      "metadata": {
        "colab": {
          "base_uri": "https://localhost:8080/"
        },
        "id": "si9z_oW13S2R",
        "outputId": "9b182fba-7ff1-47a7-9347-eeda417c760b"
      },
      "execution_count": null,
      "outputs": [
        {
          "output_type": "stream",
          "name": "stdout",
          "text": [
            "Ingrese un número: 8\n",
            "Tabla de multiplicar de 8\n",
            "8 x 0 = 0\n",
            "8 x 1 = 8\n",
            "8 x 2 = 16\n",
            "8 x 3 = 24\n",
            "8 x 4 = 32\n",
            "8 x 5 = 40\n",
            "8 x 6 = 48\n",
            "8 x 7 = 56\n",
            "8 x 8 = 64\n",
            "8 x 9 = 72\n",
            "8 x 10 = 80\n"
          ]
        }
      ]
    },
    {
      "cell_type": "markdown",
      "source": [
        "Ejercicio 2:Escribir un programa que calcule la sumatoria desde 0 hasta m, donde m es\n",
        "un número introducido por el usuario desde el teclado."
      ],
      "metadata": {
        "id": "UpYqHDb34n1P"
      }
    },
    {
      "cell_type": "code",
      "source": [
        "def sumatoria(n):\n",
        "  suma = 0\n",
        "  for x in range(1,n+1):\n",
        "    suma += x\n",
        "  return suma\n",
        "\n",
        "n = input('Ingrese un número: ')\n",
        "print(f'La sumatoria de los números desde 0 hasta {n} es {sumatoria(int(n))}')"
      ],
      "metadata": {
        "colab": {
          "base_uri": "https://localhost:8080/"
        },
        "id": "gK9z9x__4r6Y",
        "outputId": "7eaa574a-73b3-47d9-a561-e015bb0fa777"
      },
      "execution_count": null,
      "outputs": [
        {
          "output_type": "stream",
          "name": "stdout",
          "text": [
            "Ingrese un número: 100\n",
            "La sumatoria de los números desde 0 hasta 100 es 5050\n"
          ]
        }
      ]
    },
    {
      "cell_type": "code",
      "source": [
        "# Usando recursión\n",
        "def sumatoria_recur(n):\n",
        "  if n == 0: return 0\n",
        "  return sumatoria(n-1) + n\n",
        "\n",
        "n = int(input('Ingrese un número: '))\n",
        "print(f'La sumatoria de los números desde 0 hasta {n} es {sumatoria_recur(n)}')"
      ],
      "metadata": {
        "colab": {
          "base_uri": "https://localhost:8080/"
        },
        "id": "PMpM-dvY5cN0",
        "outputId": "5fe306d1-e74f-4f44-b9dc-e80eb2da7ebf"
      },
      "execution_count": null,
      "outputs": [
        {
          "output_type": "stream",
          "name": "stdout",
          "text": [
            "Ingrese un número: 100\n",
            "La sumatoria de los números desde 0 hasta 100 es 5050\n"
          ]
        }
      ]
    },
    {
      "cell_type": "markdown",
      "source": [
        "Ejercicio 3: Escribir un programa que muestre la tabla de los códigos ASCII. Los códigos\n",
        "ASCII van de 0 a 255"
      ],
      "metadata": {
        "id": "cNKJCAKF59uR"
      }
    },
    {
      "cell_type": "code",
      "source": [
        "def cod_ASCII():\n",
        "  for i in range(256):\n",
        "    c = chr(i)\n",
        "    print(f'Caracter: {c} -- Código: {ord(c)}')\n",
        "    \n",
        "cod_ASCII()"
      ],
      "metadata": {
        "id": "r9aJ4FFO57nY"
      },
      "execution_count": null,
      "outputs": []
    },
    {
      "cell_type": "markdown",
      "source": [
        "Escribir un programa que lea letras del teclado indefinidamente hasta que el\n",
        "usuario ingrese “fin” e imprima el código ASCII de las mismas."
      ],
      "metadata": {
        "id": "seIZ2NOh7Hbi"
      }
    },
    {
      "cell_type": "code",
      "source": [
        "def cod_ASCII(c):\n",
        "  \"\"\"Recibe un caracter y retorna el código ASCII del mismo.\"\"\"\n",
        "  return ord(c)\n",
        "\n",
        "def main():\n",
        "  while True:\n",
        "    c = input('Ingrese un caracter -- Corta con \"fin\": ')\n",
        "    if c == 'fin':\n",
        "      break\n",
        "    print(cod_ASCII(c))\n",
        "\n",
        "main()"
      ],
      "metadata": {
        "colab": {
          "base_uri": "https://localhost:8080/"
        },
        "id": "fkyLpy5o7IXn",
        "outputId": "b293b9a0-44ef-4a15-98d5-d4346a6d72b3"
      },
      "execution_count": null,
      "outputs": [
        {
          "name": "stdout",
          "output_type": "stream",
          "text": [
            "Ingrese un caracter -- Corta con \"fin\": +\n",
            "43\n",
            "Ingrese un caracter -- Corta con \"fin\": 2\n",
            "50\n",
            "Ingrese un caracter -- Corta con \"fin\": A\n",
            "65\n",
            "Ingrese un caracter -- Corta con \"fin\": fin\n"
          ]
        }
      ]
    },
    {
      "cell_type": "markdown",
      "source": [
        "Ejercicio 5: Escribir un programa que calcule el promedio de N números ingresados por el\n",
        "usuario. (AYUDA: al comenzar el programa debe preguntar la cantidad de números a\n",
        "ingresar, luego iterar y leer tantos números del teclado como se indicó al inicio.)"
      ],
      "metadata": {
        "id": "x_x9n6KG9-Eo"
      }
    },
    {
      "cell_type": "code",
      "source": [
        "def main():\n",
        "  cant = int(input('Ingrese cantidad de números: '))\n",
        "  total = 0\n",
        "  try:\n",
        "    for i in range(cant):\n",
        "      n = int(input('Ingrese un número: '))\n",
        "      total = total + n\n",
        "    return total // cant\n",
        "  except ZeroDivisionError:\n",
        "    print(\"\"\"Algo anduvo mal cuando se ingreso la cantidad de números deseada.\n",
        "Intente de nuevo.\"\"\")\n",
        "    \n",
        "main() "
      ],
      "metadata": {
        "colab": {
          "base_uri": "https://localhost:8080/"
        },
        "id": "mzDTK84R9_uX",
        "outputId": "10ebe78d-9e11-4471-86be-4813eb9f4b20"
      },
      "execution_count": null,
      "outputs": [
        {
          "name": "stdout",
          "output_type": "stream",
          "text": [
            "Ingrese cantidad de números: 3\n",
            "Ingrese un número: 1\n",
            "Ingrese un número: 2\n",
            "Ingrese un número: 3\n"
          ]
        },
        {
          "output_type": "execute_result",
          "data": {
            "text/plain": [
              "2"
            ]
          },
          "metadata": {},
          "execution_count": 99
        }
      ]
    },
    {
      "cell_type": "markdown",
      "source": [
        "Ejercicio 6: Escriba un programa que lea nombres de personas hasta que se ingrese el\n",
        "nombre “zzz”. Debe imprimir la cantidad de nombres que comienzan con “A”."
      ],
      "metadata": {
        "id": "FtJBU7o5AkB6"
      }
    },
    {
      "cell_type": "code",
      "source": [
        "def nombres_con_A(s):\n",
        "  return s[0] == 'A'\n",
        "\n",
        "def nombres():\n",
        "  cant = 0\n",
        "  while True:\n",
        "    nombre = input('Ingrese un nombre: ')\n",
        "    if nombre == 'zzz': break\n",
        "    if nombres_con_A(nombre): cant += 1\n",
        "  return f'La cantidad de nombres que comienzan con \"A\" es {cant}'\n",
        "\n",
        "nombres()"
      ],
      "metadata": {
        "colab": {
          "base_uri": "https://localhost:8080/",
          "height": 140
        },
        "id": "ua8cTyNOAk2O",
        "outputId": "b7930c3b-4b91-4924-de4e-4882886c877a"
      },
      "execution_count": null,
      "outputs": [
        {
          "name": "stdout",
          "output_type": "stream",
          "text": [
            "Ingrese un nombre: Ada\n",
            "Ingrese un nombre: Ana\n",
            "Ingrese un nombre: Pablo\n",
            "Ingrese un nombre: Pepe\n",
            "Ingrese un nombre: Alberto\n",
            "Ingrese un nombre: zzz\n"
          ]
        },
        {
          "output_type": "execute_result",
          "data": {
            "text/plain": [
              "'La cantidad de nombres que comienzan con \"A\" es 3'"
            ],
            "application/vnd.google.colaboratory.intrinsic+json": {
              "type": "string"
            }
          },
          "metadata": {},
          "execution_count": 64
        }
      ]
    },
    {
      "cell_type": "markdown",
      "source": [
        "Ejercicio 7: Escriba un programa que lea números de documentos de identidad de\n",
        "personas hasta que se ingrese el número “999”. Debe imprimir la cantidad de números de\n",
        "documentos menores que 20.000.000."
      ],
      "metadata": {
        "id": "58yTUv1JB7iS"
      }
    },
    {
      "cell_type": "code",
      "source": [
        "def documentos_menores_20000000():\n",
        "  dni = input('DNI: ')\n",
        "  cant = 0\n",
        "  while dni != '999':\n",
        "    if int(dni) < 20000000:\n",
        "      cant += 1\n",
        "    dni = input('DNI: ')\n",
        "  return cant\n",
        "\n",
        "def main():\n",
        "  print(f'La cantidad de documentos menores a 20000000 es {documentos_menores_20000000()}')\n",
        "\n",
        "main()"
      ],
      "metadata": {
        "colab": {
          "base_uri": "https://localhost:8080/"
        },
        "id": "L1m2Eu6RCBEg",
        "outputId": "f443ecc7-b87f-4612-8aa1-70057c92f062"
      },
      "execution_count": null,
      "outputs": [
        {
          "output_type": "stream",
          "name": "stdout",
          "text": [
            "DNI: 34020882\n",
            "DNI: 13256789\n",
            "DNI: 11\n",
            "DNI: 999\n",
            "La cantidad de documentos menores a 20000000 es 2\n"
          ]
        }
      ]
    },
    {
      "cell_type": "markdown",
      "source": [
        "Ejercicio 8: Escriba un programa que reciba del usuario su nombre, apellido y patente\n",
        "hasta que ingrese AAA, e imprima si está exento de impuesto o no. Tener en cuenta que\n",
        "los autos cuyas patentes empiezan con R, S y T no deben pagar impuesto."
      ],
      "metadata": {
        "id": "7TLL1RamD6xO"
      }
    },
    {
      "cell_type": "code",
      "source": [
        "def main():\n",
        "  while True:\n",
        "    nombre = input('Ingrese nombre: ')\n",
        "    if nombre == 'AAA': break\n",
        "    apellido = input('Ingrese apellido: ')\n",
        "    if apellido == 'AAA': break\n",
        "    patente = input('Ingrese patente: ')\n",
        "    if patente == 'AAA': break\n",
        "\n",
        "    if patente[0] not in 'RST':\n",
        "      print(f'{nombre} {apellido} debe pagar impuesto')\n",
        "    else:\n",
        "      print(f'{nombre} {apellido} NO debe pagar impuesto')\n",
        "\n",
        "main()"
      ],
      "metadata": {
        "colab": {
          "base_uri": "https://localhost:8080/"
        },
        "id": "0Sf-1yyGD7Yz",
        "outputId": "281bd004-6b56-4b26-9eff-3a87e4d3820b"
      },
      "execution_count": null,
      "outputs": [
        {
          "name": "stdout",
          "output_type": "stream",
          "text": [
            "Ingrese nombre: Pablo\n",
            "Ingrese apellido: Diosquez\n",
            "Ingrese patente: EJT 308\n",
            "Pablo Diosquez debe pagar impuesto\n",
            "Ingrese nombre: Pepe \n",
            "Ingrese apellido: Argento\n",
            "Ingrese patente: RED 781\n",
            "Pepe  Argento NO debe pagar impuesto\n",
            "Ingrese nombre: Ada \n",
            "Ingrese apellido: Lopez\n",
            "Ingrese patente: TYU761\n",
            "Ada  Lopez NO debe pagar impuesto\n",
            "Ingrese nombre: Pepe\n",
            "Ingrese apellido: AAA\n"
          ]
        }
      ]
    },
    {
      "cell_type": "markdown",
      "source": [
        "Ejercicio 9: Escriba un programa que solicite códigos postales de localidades e imprima si\n",
        "esa localidad es La Plata, Florencio Varela u otra. Recordar que el código postal de La\n",
        "Plata es 1900 y el de Florencia Varela es: 1887. El programa termina cuando se ingresa el\n",
        "código postal 0."
      ],
      "metadata": {
        "id": "d8jouMEZEvl_"
      }
    },
    {
      "cell_type": "code",
      "source": [
        "def codigos_postales():\n",
        "  cod_postal = {\n",
        "      1900: 'La Plata',\n",
        "      1887: 'Florencio Varela',\n",
        "  }\n",
        "\n",
        "  while True:\n",
        "    cod = int(input('Ingrese código postal: '))\n",
        "    if cod == 0: break\n",
        "    print(cod_postal.get(cod,'Otra')) \n",
        "\n",
        "codigos_postales()"
      ],
      "metadata": {
        "colab": {
          "base_uri": "https://localhost:8080/"
        },
        "id": "jeQYGHsrE0yt",
        "outputId": "d32b36c6-f2b8-4408-9cad-4b837d03b366"
      },
      "execution_count": null,
      "outputs": [
        {
          "name": "stdout",
          "output_type": "stream",
          "text": [
            "Ingrese código postal: 1990\n",
            "Otra\n",
            "Ingrese código postal: 1900\n",
            "La Plata\n",
            "Ingrese código postal: 1882\n",
            "Otra\n",
            "Ingrese código postal: 1887\n",
            "Florencio Varela\n",
            "Ingrese código postal: 0\n"
          ]
        }
      ]
    },
    {
      "cell_type": "markdown",
      "source": [
        "Ejercicio 10: Definir una función que imprima los primeros cien números naturales. ¿Se le\n",
        "ocurre otra forma de hacerlo?"
      ],
      "metadata": {
        "id": "2yl2dB3oE1FQ"
      }
    },
    {
      "cell_type": "code",
      "source": [
        "def primeros_100_naturales():\n",
        "  for n in range(1,101):\n",
        "    print(n)\n",
        "\n",
        "def primeros_100_naturalesV2():\n",
        "  n = 1\n",
        "  while True:\n",
        "    if n == 101: break\n",
        "    print(n)\n",
        "    n +=1\n",
        "\n",
        "# primeros_100_naturales()\n",
        "primeros_100_naturalesV2()"
      ],
      "metadata": {
        "id": "O4ddDDQvE12A"
      },
      "execution_count": null,
      "outputs": []
    },
    {
      "cell_type": "markdown",
      "source": [
        "Ejercicio 11: Implementar un función que muestre todos los múltiplos de n entre n y m ·\n",
        "n, ambos inclusive, donde n y m son parámetros de la función."
      ],
      "metadata": {
        "id": "pHRWO0nRE4Ns"
      }
    },
    {
      "cell_type": "code",
      "source": [
        "def es_multiplo_de(a,b):\n",
        "  \"\"\"Recibe dos números e indica si el primero es múltiplo del segundo.\"\"\"\n",
        "  return a % b == 0\n",
        "\n",
        "def todos_multiplos_de(n,m):\n",
        "  for a in range(n,n*m + 1):\n",
        "    if es_multiplo_de(a,n):\n",
        "      print(a)\n",
        "\n",
        "todos_multiplos_de(2,10)"
      ],
      "metadata": {
        "colab": {
          "base_uri": "https://localhost:8080/"
        },
        "id": "dOUsm5FqE4x-",
        "outputId": "3078646e-8ec4-44c7-c323-0dcb474721b4"
      },
      "execution_count": null,
      "outputs": [
        {
          "output_type": "stream",
          "name": "stdout",
          "text": [
            "2\n",
            "4\n",
            "6\n",
            "8\n",
            "10\n",
            "12\n",
            "14\n",
            "16\n",
            "18\n",
            "20\n"
          ]
        }
      ]
    },
    {
      "cell_type": "markdown",
      "source": [
        "Ejercicio 12: Dada la siguiente lista [1, 14, 56, 43, 23, 46, 58, 123, 67 ] escribir un\n",
        "programa que muestre el número más alto."
      ],
      "metadata": {
        "id": "nfOmv8XyNGCz"
      }
    },
    {
      "cell_type": "code",
      "source": [
        "def maximo_lista(L):\n",
        "  m = L[0]\n",
        "  for n in L:\n",
        "    if n > m:\n",
        "      m = n\n",
        "  return m\n",
        "\n",
        "L = [1, 14, 56, 43, 23, 46, 58, 123, 67 ]\n",
        "maximo_lista(L)"
      ],
      "metadata": {
        "colab": {
          "base_uri": "https://localhost:8080/"
        },
        "id": "Z4qzo7a5NGsN",
        "outputId": "b2eb8a7e-f661-4f28-c429-dfaf70eece5f"
      },
      "execution_count": null,
      "outputs": [
        {
          "output_type": "execute_result",
          "data": {
            "text/plain": [
              "123"
            ]
          },
          "metadata": {},
          "execution_count": 67
        }
      ]
    },
    {
      "cell_type": "markdown",
      "source": [
        "Ejercicio 13: Escriba un programa que solicite nombres de localidades y códigos postales\n",
        "al usuario hasta que se ingresa el código postal 0. Debe generar un diccionario con todos los\n",
        "valores ingresados e imprimirla."
      ],
      "metadata": {
        "id": "3jGq-hChNjSD"
      }
    },
    {
      "cell_type": "code",
      "source": [
        "def localidades():\n",
        "  dic = {}\n",
        "  while True:\n",
        "    loc = input('Localidad: ')\n",
        "    if loc == ' ': continue\n",
        "    cod = input('Código postal: ')\n",
        "    if cod == '0': break\n",
        "    if cod == ' ': continue\n",
        "    dic[loc] = cod\n",
        "  return dic\n",
        "\n",
        "localidades()"
      ],
      "metadata": {
        "colab": {
          "base_uri": "https://localhost:8080/"
        },
        "id": "HN_E4yVlNj6-",
        "outputId": "f803ffde-2262-4f87-ffb8-317c2e16aef6"
      },
      "execution_count": null,
      "outputs": [
        {
          "name": "stdout",
          "output_type": "stream",
          "text": [
            "Localidad: Quilmes\n",
            "Código postal: 1879\n",
            "Localidad: La Plata \n",
            "Código postal: 1900\n",
            "Localidad: \n",
            "Código postal: 0\n"
          ]
        },
        {
          "output_type": "execute_result",
          "data": {
            "text/plain": [
              "{'Quilmes': '1879', 'La Plata ': '1900'}"
            ]
          },
          "metadata": {},
          "execution_count": 70
        }
      ]
    },
    {
      "cell_type": "markdown",
      "source": [
        "Ejercicio 14: Realice un programa para manejar equipos de fútbol.\n",
        "\n",
        "a) Definir una función que arme una lista con la información de los equipos. De cada\n",
        "equipo se quiere guardar el nombre del equipo, puntaje en la tabla de posiciones y la\n",
        "cantidad de goles a favor. El ingreso finaliza cuando se lee el nombre del equipo igual\n",
        "a ‘ZZZ’.\n",
        "\n",
        "b) Usando la lista anterior, imprimir la cantidad de goles a favor que tienen los equipos\n",
        "\n",
        "que están en la primera y última posición de la lista.\n",
        "\n",
        "c) Imprimir el nombre del equipo Campeón de la lista del ejercicio anterior."
      ],
      "metadata": {
        "id": "8j96EexcPegr"
      }
    },
    {
      "cell_type": "code",
      "source": [
        "# a)\n",
        "def equipos():\n",
        "  equipos = [] \n",
        "  while True:\n",
        "    nombre = input('Nombre del equipo: ')\n",
        "    if nombre == 'ZZZ': break\n",
        "    puntaje = int(input('Puntaje: '))\n",
        "    goles = int(input('Goles a favor: '))\n",
        "\n",
        "    equipos.append([nombre,puntaje,goles])\n",
        "  return equipos\n",
        "\n",
        "# b)\n",
        "# equipos = equipos()\n",
        "# print(f'Goles a favor del primero de la lista: {equipos[0][2]}')\n",
        "# print(f'Goles a favor del último de la lista: {equipos[len(equipos)-1][2]}')\n",
        "\n",
        "# c) \n",
        "def campeon(L):\n",
        "  c = L[0]\n",
        "  for e in L:\n",
        "    if e[1] > c[1]:\n",
        "      c = e\n",
        "  return c[0]\n",
        "\n",
        "campeon(equipos())"
      ],
      "metadata": {
        "colab": {
          "base_uri": "https://localhost:8080/",
          "height": 261
        },
        "id": "mXtEUwnTPfSC",
        "outputId": "e2f9021d-374d-40dc-eeca-ea3c124c01f0"
      },
      "execution_count": null,
      "outputs": [
        {
          "name": "stdout",
          "output_type": "stream",
          "text": [
            "Nombre del equipo: Indep \n",
            "Puntaje: 89\n",
            "Goles a favor: 76\n",
            "Nombre del equipo: Boca \n",
            "Puntaje: 34\n",
            "Goles a favor: 14\n",
            "Nombre del equipo: River\n",
            "Puntaje: 120\n",
            "Goles a favor: 100\n",
            "Nombre del equipo: Racing\n",
            "Puntaje: 56\n",
            "Goles a favor: 45\n",
            "Nombre del equipo: ZZZ\n"
          ]
        },
        {
          "output_type": "execute_result",
          "data": {
            "text/plain": [
              "'River'"
            ],
            "application/vnd.google.colaboratory.intrinsic+json": {
              "type": "string"
            }
          },
          "metadata": {},
          "execution_count": 81
        }
      ]
    },
    {
      "cell_type": "markdown",
      "source": [
        "Ejercicio 15: Escriba un programa que le solicite al usuario que elija una opción del\n",
        "siguiente menú y, de acuerdo a la opción elegida, le solicite los datos restantes para\n",
        "imprimir el área de la figura elegida:\n",
        "\n",
        "Menú de opciones\n",
        "\n",
        "1.- Círculo\n",
        "\n",
        "2.- Cuadrado\n",
        "\n",
        "3.- Rectángulo"
      ],
      "metadata": {
        "id": "mknDghv-XnQ_"
      }
    },
    {
      "cell_type": "code",
      "source": [
        "def area_circulo(r):\n",
        "  from math import pi\n",
        "  return pi*r**2\n",
        "\n",
        "def area_cuadrado(l): return l**2\n",
        "\n",
        "def area_rectangulo(b,h): return b*h\n",
        "\n",
        "def areas():\n",
        "  print(\"\"\"Menú de Opciones:\n",
        "  1 - Círculo \n",
        "  2 - Cuadrado \n",
        "  3 - Rectángulo\n",
        "  \"\"\")\n",
        "  m = int(input())\n",
        "  if m == 1:\n",
        "    print('Has elegido el Círculo')\n",
        "    r = float(input('Radio del círculo: '))\n",
        "    area = area_circulo(r)\n",
        "  elif m == 2:\n",
        "    print('Has elegido el Cuadrado')\n",
        "    l = float(input('Lado del cuadrado'))\n",
        "    area = area_cuadrado(l)\n",
        "  elif m == 3:\n",
        "    print('Has elegido el Rectángulo')\n",
        "    b = float(input('Base: '))\n",
        "    h = float(input('Altura: '))\n",
        "    area = area_rectangulo(b,h)\n",
        "  return f'El área de la figura es {round(area,2)}.'\n",
        "    \n",
        "areas()"
      ],
      "metadata": {
        "colab": {
          "base_uri": "https://localhost:8080/",
          "height": 174
        },
        "id": "5Hxft8etXvv1",
        "outputId": "1d512e9f-6fee-4745-bab5-2fec44cc24fd"
      },
      "execution_count": null,
      "outputs": [
        {
          "name": "stdout",
          "output_type": "stream",
          "text": [
            "Menú de Opciones:\n",
            "  1 - Círculo \n",
            "  2 - Cuadrado \n",
            "  3 - Rectángulo\n",
            "  \n",
            "1\n",
            "Has elegido el Círculo\n",
            "Radio del círculo: 2\n"
          ]
        },
        {
          "output_type": "execute_result",
          "data": {
            "text/plain": [
              "'El área de la figura es 12.57.'"
            ],
            "application/vnd.google.colaboratory.intrinsic+json": {
              "type": "string"
            }
          },
          "metadata": {},
          "execution_count": 90
        }
      ]
    },
    {
      "cell_type": "markdown",
      "source": [
        "Ejercicio 16:\n",
        "\n",
        "a) Definir una función que permita el ingreso de números por teclado hasta ingresar el 0,\n",
        "y retorne esa lista.\n",
        "\n",
        "b) Definir una función que reciba como parámetro una lista de números y retorne como\n",
        "resultado el promedio.\n",
        "\n",
        "c) Definir una función que reciba como parámetro una lista de números y retorne como\n",
        "resultado la suma de los números.\n",
        "\n",
        "d) Definir una función que reciba como parámetro una lista de números y retorne el\n",
        "número más grande de la lista (máximo).\n",
        "\n",
        "e) Definir una función que reciba como parámetro una lista de números y retorne el\n",
        "número más pequeño de la lista (mínimo).\n",
        "\n",
        "\n",
        "Utilizar las funciones definidas anteriormente para construir un programa que permita elegir\n",
        "una opción del siguiente menú:\n",
        "1. Ver el promedio de los números\n",
        "2. Ver la suma de los números\n",
        "3. Ver la cantidad de números\n",
        "4. Ver el número máximo\n",
        "5. Ver el número mínimo"
      ],
      "metadata": {
        "id": "-5cUEamrd5BB"
      }
    },
    {
      "cell_type": "code",
      "source": [
        "\n",
        "# c)\n",
        "def suma(L):\n",
        "  suma = 0\n",
        "  for n in L:\n",
        "    suma += n\n",
        "  return suma\n",
        "\n",
        "def cantidad(L):\n",
        "  total = 0\n",
        "  for n in L:\n",
        "    total += 1\n",
        "  return total\n",
        "  \n",
        "# b)\n",
        "def promedio(L):\n",
        "  try:\n",
        "    return suma(L) / len(L)\n",
        "  except:\n",
        "    print('La lista no debe ser vacía. Intente de nuevo.') \n",
        "\n",
        "# d)\n",
        "def maximo(L):\n",
        "  m = L[0]\n",
        "  for n in L:\n",
        "    if n > m:\n",
        "      m = n\n",
        "  return m\n",
        "\n",
        "# e)\n",
        "def minimo(L):\n",
        "  m = L[0]\n",
        "  for n in L:\n",
        "    if n < m:\n",
        "      m = n\n",
        "  return m\n",
        "\n",
        "def cargar_lista():\n",
        "  L = []\n",
        "  while True:\n",
        "    n = int(input('Ingrese un número:'))\n",
        "    if n == 0: break\n",
        "    L.append(n)\n",
        "  return L\n",
        "\n",
        "def menu():\n",
        "  L = cargar_lista()\n",
        "  print(L)\n",
        "  print(\"\"\"\n",
        "1. Ver el promedio de los números\n",
        "2. Ver la suma de los números\n",
        "3. Ver la cantidad de números\n",
        "4. Ver el número máximo\n",
        "5. Ver el número mínimo\n",
        "  \"\"\")\n",
        "  m = int(input('Ingrese una opción del 1 al 5.'))\n",
        "  if m == 1:\n",
        "    print('Has elegido ver el promedio!')\n",
        "    print(f'El promedio de los números de la lista es {round(promedio(L),2)}')\n",
        "  elif m == 2:\n",
        "    print('Has elegido ver la suma de los números de la lista!')\n",
        "    print(f'La suma es {suma(L)}')\n",
        "  elif m == 3:\n",
        "    print('Has elegido ver la cantidad de números de la lista!')\n",
        "    print(f'La cantidad es {cantidad(L)}')\n",
        "  elif m == 4:\n",
        "    print('Has elegido ver el máximo de los números de la lista!')\n",
        "    print(f'El máximo es {maximo(L)}')\n",
        "  elif m == 5:\n",
        "    print('Has elegido ver el mínimo de los números de la lista!')\n",
        "    print(f'El mínimo es {minimo(L)}')\n",
        "  else:\n",
        "    print('No elegiste una opción válida. Intente de nuevo.')\n",
        "    menu()\n",
        "\n",
        "menu()"
      ],
      "metadata": {
        "colab": {
          "base_uri": "https://localhost:8080/"
        },
        "id": "Vb0NyAe9eAF5",
        "outputId": "e22af1ee-28f1-42f4-bf37-a6f561e04e32"
      },
      "execution_count": null,
      "outputs": [
        {
          "output_type": "stream",
          "name": "stdout",
          "text": [
            "Ingrese un número:32\n",
            "Ingrese un número:4\n",
            "Ingrese un número:18\n",
            "Ingrese un número:0\n",
            "[32, 4, 18]\n",
            "\n",
            "1. Ver el promedio de los números\n",
            "2. Ver la suma de los números\n",
            "3. Ver la cantidad de números\n",
            "4. Ver el número máximo\n",
            "5. Ver el número mínimo\n",
            "  \n",
            "Ingrese una opción del 1 al 5.6\n",
            "No elegiste una opción válida. Intente de nuevo.\n",
            "Ingrese un número:3\n",
            "Ingrese un número:2\n",
            "Ingrese un número:1\n",
            "Ingrese un número:0\n",
            "[3, 2, 1]\n",
            "\n",
            "1. Ver el promedio de los números\n",
            "2. Ver la suma de los números\n",
            "3. Ver la cantidad de números\n",
            "4. Ver el número máximo\n",
            "5. Ver el número mínimo\n",
            "  \n",
            "Ingrese una opción del 1 al 5.3\n",
            "Has elegido ver la cantidad de números de la lista!\n",
            "La cantidad es 3\n"
          ]
        }
      ]
    }
  ]
}