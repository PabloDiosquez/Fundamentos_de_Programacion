{
  "nbformat": 4,
  "nbformat_minor": 0,
  "metadata": {
    "colab": {
      "provenance": [],
      "authorship_tag": "ABX9TyO9a7QxMBtLSkreMe+cGsL7",
      "include_colab_link": true
    },
    "kernelspec": {
      "name": "python3",
      "display_name": "Python 3"
    },
    "language_info": {
      "name": "python"
    }
  },
  "cells": [
    {
      "cell_type": "markdown",
      "metadata": {
        "id": "view-in-github",
        "colab_type": "text"
      },
      "source": [
        "<a href=\"https://colab.research.google.com/github/PabloDiosquez/Fundamentos_de_Programacion/blob/main/05_UBA_Ciclos.ipynb\" target=\"_parent\"><img src=\"https://colab.research.google.com/assets/colab-badge.svg\" alt=\"Open In Colab\"/></a>"
      ]
    },
    {
      "cell_type": "markdown",
      "source": [
        "#**Ciclos 🌀**"
      ],
      "metadata": {
        "id": "n4KydLVxXXy9"
      }
    },
    {
      "cell_type": "code",
      "source": [
        "def registradora():\n",
        "  total = 0\n",
        "  while True:\n",
        "    precio = input('Cuánto vale? (Corta con 0): ')\n",
        "\n",
        "    if precio == '':\n",
        "      #Pasar a la siguiente iteración\n",
        "      continue\n",
        "\n",
        "    if precio == '0':\n",
        "      #Cortar el ciclo\n",
        "      break\n",
        "      \n",
        "    total += float(precio)\n",
        "    print('Subtotal: $',total)\n",
        "  print('Total: $',total)\n",
        "\n",
        "registradora()"
      ],
      "metadata": {
        "id": "9Yx8lBbgMY0c"
      },
      "execution_count": null,
      "outputs": []
    },
    {
      "cell_type": "markdown",
      "source": [
        "**Ciclos anidados 🐣**"
      ],
      "metadata": {
        "id": "CvzZ2j9edlBm"
      }
    },
    {
      "cell_type": "code",
      "source": [
        "def mostrar_coords(columnas,filas):\n",
        "  for i in range(filas):\n",
        "    for j in range(columnas):\n",
        "      print(i,j,sep=',',end='  ')\n",
        "      # print(str(i) + ',' + str(j) +' ',end='')\n",
        "    print()\n",
        "\n",
        "mostrar_coords(3,4)"
      ],
      "metadata": {
        "colab": {
          "base_uri": "https://localhost:8080/"
        },
        "id": "afKqu4MDZoGG",
        "outputId": "b7dd0537-1799-41e1-a67c-e4650a4296a6"
      },
      "execution_count": null,
      "outputs": [
        {
          "output_type": "stream",
          "name": "stdout",
          "text": [
            "0,0  0,1  0,2  \n",
            "1,0  1,1  1,2  \n",
            "2,0  2,1  2,2  \n",
            "3,0  3,1  3,2  \n"
          ]
        }
      ]
    },
    {
      "cell_type": "markdown",
      "source": [
        "**Ciclo infinito ♾**"
      ],
      "metadata": {
        "id": "JnzAJkBWd7pF"
      }
    },
    {
      "cell_type": "code",
      "source": [
        "x = 0\n",
        "while x >= 0:\n",
        "   print(x)\n",
        "   x += 1\n",
        "print(x)"
      ],
      "metadata": {
        "id": "BczEMBxDd9Nc"
      },
      "execution_count": null,
      "outputs": []
    }
  ]
}