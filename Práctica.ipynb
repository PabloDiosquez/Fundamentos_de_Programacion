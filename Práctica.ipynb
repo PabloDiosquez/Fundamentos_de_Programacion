{
  "nbformat": 4,
  "nbformat_minor": 0,
  "metadata": {
    "colab": {
      "provenance": [],
      "authorship_tag": "ABX9TyMJ1QB0V2nNloLkNF99uuRk",
      "include_colab_link": true
    },
    "kernelspec": {
      "name": "python3",
      "display_name": "Python 3"
    },
    "language_info": {
      "name": "python"
    }
  },
  "cells": [
    {
      "cell_type": "markdown",
      "metadata": {
        "id": "view-in-github",
        "colab_type": "text"
      },
      "source": [
        "<a href=\"https://colab.research.google.com/github/PabloDiosquez/Fundamentos_de_Programacion/blob/main/Pr%C3%A1ctica.ipynb\" target=\"_parent\"><img src=\"https://colab.research.google.com/assets/colab-badge.svg\" alt=\"Open In Colab\"/></a>"
      ]
    },
    {
      "cell_type": "markdown",
      "source": [
        "**Ejercicios 👉 Ciclo FOR**"
      ],
      "metadata": {
        "id": "79ZtikAh8bNo"
      }
    },
    {
      "cell_type": "markdown",
      "source": [
        "1. Imprimir todos los dígitos decimales, del 0 al 9, utilizando una repetición."
      ],
      "metadata": {
        "id": "XBO7gtsk8yMc"
      }
    },
    {
      "cell_type": "code",
      "source": [
        "for digito in range(10):\n",
        "  print(digito)"
      ],
      "metadata": {
        "colab": {
          "base_uri": "https://localhost:8080/"
        },
        "id": "NGipefyE82eL",
        "outputId": "a9c5f80e-b567-43f4-ffe5-7fa57853f065"
      },
      "execution_count": null,
      "outputs": [
        {
          "output_type": "stream",
          "name": "stdout",
          "text": [
            "0\n",
            "1\n",
            "2\n",
            "3\n",
            "4\n",
            "5\n",
            "6\n",
            "7\n",
            "8\n",
            "9\n"
          ]
        }
      ]
    },
    {
      "cell_type": "markdown",
      "source": [
        "2. Imprimir todos los números entre el 100 y el 199."
      ],
      "metadata": {
        "id": "QL-33P2l9CkB"
      }
    },
    {
      "cell_type": "code",
      "source": [
        "for numero in range(100,200):\n",
        "  print(numero)"
      ],
      "metadata": {
        "id": "-yRQhfGU9G88"
      },
      "execution_count": null,
      "outputs": []
    },
    {
      "cell_type": "markdown",
      "source": [
        "3. Imprimir los números entre el 5 y el 20, saltando de tres en tres."
      ],
      "metadata": {
        "id": "nxq_fCY69PrX"
      }
    },
    {
      "cell_type": "code",
      "source": [
        "for numero in range(5,21,3):\n",
        "  print(numero)"
      ],
      "metadata": {
        "colab": {
          "base_uri": "https://localhost:8080/"
        },
        "id": "wCseqhqD9T3_",
        "outputId": "1c32f12c-de6f-4968-9fa8-f68ff7f4012d"
      },
      "execution_count": null,
      "outputs": [
        {
          "output_type": "stream",
          "name": "stdout",
          "text": [
            "5\n",
            "8\n",
            "11\n",
            "14\n",
            "17\n",
            "20\n"
          ]
        }
      ]
    },
    {
      "cell_type": "markdown",
      "source": [
        "4. Requerir al usuario que ingrese un número entero positivo e imprimir todos los números correlativos entre el ingresado por el usuario y uno menos del doble del mismo."
      ],
      "metadata": {
        "id": "qMGuq3zO9lEE"
      }
    },
    {
      "cell_type": "code",
      "source": [
        "numero = int(input('Ingrese un número natural: '))\n",
        "\n",
        "doble = numero*2\n",
        "\n",
        "for x in range(numero, doble):\n",
        "  print(x)"
      ],
      "metadata": {
        "colab": {
          "base_uri": "https://localhost:8080/"
        },
        "id": "rlDa_Li19mmx",
        "outputId": "d459884d-882e-4dfa-8f0a-b622056ef82c"
      },
      "execution_count": null,
      "outputs": [
        {
          "output_type": "stream",
          "name": "stdout",
          "text": [
            "Ingrese un número natural: 10\n",
            "10\n",
            "11\n",
            "12\n",
            "13\n",
            "14\n",
            "15\n",
            "16\n",
            "17\n",
            "18\n",
            "19\n"
          ]
        }
      ]
    },
    {
      "cell_type": "markdown",
      "source": [
        "5. Escribir un programa que solicite al usuario una cantidad y luego itere la cantidad de veces dada. En cada iteración, solicitar al usuario que ingrese un número. Al finalizar, mostrar la suma de todos los números ingresados."
      ],
      "metadata": {
        "id": "S4tGoPCY-H1g"
      }
    },
    {
      "cell_type": "code",
      "source": [
        "cantidad = int(input('Cantidad: '))\n",
        "\n",
        "total = 0\n",
        "for x in range(cantidad):\n",
        "  numero = int(input('Ingrese número: '))\n",
        "  total += numero\n",
        "\n",
        "print(f'Suma total: {total}')"
      ],
      "metadata": {
        "colab": {
          "base_uri": "https://localhost:8080/"
        },
        "id": "4mhq8PDl-N2p",
        "outputId": "375795b7-4fa7-4896-f6cb-bce9db401cab"
      },
      "execution_count": null,
      "outputs": [
        {
          "output_type": "stream",
          "name": "stdout",
          "text": [
            "Cantidad: 3\n",
            "Ingrese número: 12\n",
            "Ingrese número: 4\n",
            "Ingrese número: 10\n",
            "Suma total: 26\n"
          ]
        }
      ]
    },
    {
      "cell_type": "markdown",
      "source": [
        "6. Solicitar al usuario que ingrese una frase y luego imprimir un listado de las vocales que aparecen en esa frase (sin repetirlas)."
      ],
      "metadata": {
        "id": "g9r9WQ_t-zOl"
      }
    },
    {
      "cell_type": "code",
      "source": [
        "frase = input('Ingrese una frase: ')\n",
        "\n",
        "vocales = []\n",
        "for letra in frase:\n",
        "  if letra in 'aeiouAEIOUáéíóúÁÉÍÓÚ' and letra not in vocales:\n",
        "    vocales.append(letra)\n",
        "\n",
        "if len(vocales) != 0:\n",
        "  print(f'Vocales que aparecen en la frase: {vocales}')\n",
        "else:\n",
        "  print('No aparecen vocales en la frase 😨')"
      ],
      "metadata": {
        "colab": {
          "base_uri": "https://localhost:8080/"
        },
        "id": "XqCXAUJS-46k",
        "outputId": "2054efa8-38af-4968-915f-2b84d936cbb0"
      },
      "execution_count": null,
      "outputs": [
        {
          "output_type": "stream",
          "name": "stdout",
          "text": [
            "Ingrese una frase: Hola Mundo!\n",
            "Vocales que aparecen en la frase: ['o', 'a', 'u']\n"
          ]
        }
      ]
    },
    {
      "cell_type": "markdown",
      "source": [
        "7. Solicitar al usuario que ingrese una frase y luego imprimir la cantidad de vocales que se encuentran en dicha frase."
      ],
      "metadata": {
        "id": "PppDa3kMANWl"
      }
    },
    {
      "cell_type": "code",
      "source": [
        "def esVocal(letra: str) -> bool:\n",
        "  return letra in 'aeiouAEIOUáéíóúÁÉÍÓÚ'\n",
        "\n",
        "def totalVocales(frase: str) -> int:\n",
        "  totalVocales = 0\n",
        "  for letra in frase.strip():\n",
        "    if esVocal(letra):\n",
        "      totalVocales += 1\n",
        "  return totalVocales\n",
        "    \n",
        "frase = input('Frase: ')\n",
        "print(f'Cantidad total de vocales de \"{frase}\": {totalVocales(frase)}')"
      ],
      "metadata": {
        "colab": {
          "base_uri": "https://localhost:8080/"
        },
        "id": "Tf5Ze1jRAN-1",
        "outputId": "bc310712-0515-46a9-88d3-2d7f438d42e8"
      },
      "execution_count": null,
      "outputs": [
        {
          "output_type": "stream",
          "name": "stdout",
          "text": [
            "Frase: Mambrú se fue a la guerra\n",
            "Cantidad total de vocales de \"Mambrú se fue a la guerra\": 10\n"
          ]
        }
      ]
    },
    {
      "cell_type": "markdown",
      "source": [
        "8. Escribir un programa que muestre la sumatoria de todos los múltiplos de 3 encontrados entre el 0 y el 100."
      ],
      "metadata": {
        "id": "N8t4TU9KCYul"
      }
    },
    {
      "cell_type": "code",
      "source": [
        "def sumaMultiplosDe3Hasta(limite) -> int:\n",
        "  suma = 0\n",
        "  for numero in range(limite+1):\n",
        "    if not numero % 3:\n",
        "      suma += numero\n",
        "  return suma\n",
        "\n",
        "limite = int(input('Hasta?: '))\n",
        "print(f'Suma de los múltiplos de 3 hasta {limite}: {sumaMultiplosDe3Hasta(limite)}')"
      ],
      "metadata": {
        "colab": {
          "base_uri": "https://localhost:8080/"
        },
        "id": "YXwWagElCao_",
        "outputId": "fc41e0dc-5801-4102-b7f8-5308fdb1dff1"
      },
      "execution_count": null,
      "outputs": [
        {
          "output_type": "stream",
          "name": "stdout",
          "text": [
            "Hasta?: 100\n",
            "Suma de los múltiplos de 3 hasta 100: 1683\n"
          ]
        }
      ]
    },
    {
      "cell_type": "markdown",
      "source": [
        "9. Dado un número entero positivo, mostrar su factorial. El factorial de un número se obtiene multiplicando todos los números enteros positivos que hay entre el 1 y ese número."
      ],
      "metadata": {
        "id": "EmmN56IHEL-J"
      }
    },
    {
      "cell_type": "code",
      "source": [
        "def factorial(numero):\n",
        "  fact = 1\n",
        "  for x in range(1,numero+1):\n",
        "    fact *= x\n",
        "  return fact\n",
        "\n",
        "numero = int(input('Ingrese un número natural: '))\n",
        "print(f'Factorial de {numero} 👉 {factorial(numero)}')"
      ],
      "metadata": {
        "colab": {
          "base_uri": "https://localhost:8080/"
        },
        "id": "GHDDNypGES7z",
        "outputId": "5f5c55bc-6ee0-4735-cab6-9283b9e7f002"
      },
      "execution_count": null,
      "outputs": [
        {
          "output_type": "stream",
          "name": "stdout",
          "text": [
            "Ingrese un número natural: 7\n",
            "Factorial de 7 👉 5040\n"
          ]
        }
      ]
    },
    {
      "cell_type": "markdown",
      "source": [
        "10. Crear un algoritmo que muestre los primeros 10 números de la sucesión de Fibonacci. La sucesión comienza con los números 0 y 1 y, a partir de éstos, cada elemento es la suma de los dos números anteriores en la secuencia: 0, 1, 1, 2, 3, 5, 8, 13, 21, 34, 55…"
      ],
      "metadata": {
        "id": "S1sdS5xyE3J1"
      }
    },
    {
      "cell_type": "code",
      "source": [
        "# wrapper\n",
        "def _sucesionDeFibonacci(hasta: int) -> list:\n",
        "  fibo1 = 0\n",
        "  fibo2 = 1\n",
        "  fibonacci = [fibo1, fibo2]\n",
        "  for x in range(2,hasta+1):\n",
        "    fibo = fibo1 + fibo2\n",
        "    fibonacci.append(fibo)\n",
        "    fibo1 = fibo2\n",
        "    fibo2 = fibo\n",
        "  return fibonacci\n",
        "  \n",
        "def sucesionDeFibonacci(hasta: int) -> list:\n",
        "  if hasta == 0: return []\n",
        "  elif hasta == 1: return [0]\n",
        "  return _sucesionDeFibonacci(hasta-1)\n",
        "\n",
        "print('Primeros 10 términos de la sucesión de Fibonacci:')\n",
        "for fibo in sucesionDeFibonacci(10):\n",
        "  print(fibo,end=' ')"
      ],
      "metadata": {
        "colab": {
          "base_uri": "https://localhost:8080/"
        },
        "id": "VjTu7FLEE7Fw",
        "outputId": "5eb4b40f-1d08-4df9-aa49-2a3f4b5a0ddc"
      },
      "execution_count": null,
      "outputs": [
        {
          "output_type": "stream",
          "name": "stdout",
          "text": [
            "Primeros 10 términos de la sucesión de Fibonacci:\n",
            "0 1 1 2 3 5 8 13 21 34 "
          ]
        }
      ]
    },
    {
      "cell_type": "markdown",
      "source": [
        "11. Escribir un programa que permita al usuario ingresar 6 números enteros, que pueden ser positivos o negativos. Al finalizar, mostrar la sumatoria de los números negativos y el promedio de los positivos.\n",
        "No olvides que no es posible dividir por cero, por lo que es necesario evitar que el programa arroje un error si no se ingresaron números positivos."
      ],
      "metadata": {
        "id": "jCk_4hW3--BK"
      }
    },
    {
      "cell_type": "code",
      "source": [
        "from IPython.core.error import InputRejected\n",
        "def procesarNumeros():\n",
        "  cant     = 0\n",
        "  totalPos = 0\n",
        "  cantPos  = 0\n",
        "  sumaNeg  = 0 \n",
        "  while True:\n",
        "    # Validaciones\n",
        "    inputUsuario = input('Ingrese un número: ')\n",
        "    try:\n",
        "      num = int(inputUsuario)\n",
        "    except ValueError:\n",
        "      print('El valor ingresado no es un número entero.')\n",
        "      continue\n",
        "    if num == 0:\n",
        "      print('El número ingresado debe ser distinto de cero')\n",
        "      continue\n",
        "\n",
        "    # Proceso\n",
        "    if num > 0:\n",
        "      totalPos += num\n",
        "      cantPos += 1\n",
        "    else:\n",
        "      sumaNeg += num \n",
        "\n",
        "    cant += 1\n",
        "    # Control del ciclo\n",
        "    if cant == 6: break\n",
        "\n",
        "  # Salida información\n",
        "  print()\n",
        "  if cantPos != 0:\n",
        "    print(f'Promedio positivos: {totalPos/cantPos}')\n",
        "  else:\n",
        "    print('No se ingresaron números positivos')\n",
        "  print(f'Sumatoria negativos: {sumaNeg}')\n",
        "\n",
        "procesarNumeros()"
      ],
      "metadata": {
        "colab": {
          "base_uri": "https://localhost:8080/"
        },
        "id": "-YZtPKjf_CB6",
        "outputId": "fe3412a4-b31d-4f24-ed63-18b05cce0d97"
      },
      "execution_count": null,
      "outputs": [
        {
          "output_type": "stream",
          "name": "stdout",
          "text": [
            "Ingrese un número: 1\n",
            "Ingrese un número: s\n",
            "El valor ingresado no es un número entero.\n",
            "Ingrese un número: 0\n",
            "El número ingresado debe ser distinto de cero\n",
            "Ingrese un número: 6\n",
            "Ingrese un número: 9\n",
            "Ingrese un número: -12\n",
            "Ingrese un número: -10\n",
            "Ingrese un número: 3\n",
            "\n",
            "Promedio positivos: 4.75\n",
            "Sumatoria negativos: -22\n"
          ]
        }
      ]
    },
    {
      "cell_type": "markdown",
      "source": [
        "12. Escribir un programa que permita al usuario ingresar dos años y luego imprima todos los años en ese rango, que sean bisiestos y múltiplos de 10. Nota: para que un año sea bisiesto debe ser divisible por 4 y no debe ser divisible por 100, excepto que también sea divisible por 400."
      ],
      "metadata": {
        "id": "IW-kSMaRGqij"
      }
    },
    {
      "cell_type": "code",
      "source": [
        "def esBisiesto(anio: int) -> bool:\n",
        "  return (not anio % 4 and anio % 100) or (not anio % 400)\n",
        "\n",
        "def ordenarAnios(anio1, anio2):\n",
        "  if anio1 > anio2:\n",
        "    anio1, anio2 = anio2, anio1\n",
        "  return anio1, anio2\n",
        "\n",
        "def pedirAnio() -> int:\n",
        "  while True:\n",
        "    anio = input('Ingrese año: ')\n",
        "    try:\n",
        "      anio = int(anio)\n",
        "      break\n",
        "    except ValueError:\n",
        "      print('Error. Asegúrese de ingresar un año: ')\n",
        "      continue\n",
        "  return anio\n",
        "\n",
        "def main():\n",
        "    anio1 = pedirAnio()\n",
        "    anio2 = pedirAnio()\n",
        "\n",
        "    anio1, anio2 = ordenarAnios(anio1,anio2)\n",
        "\n",
        "    print(f'Años bisiestos y múltiplos de 10 entre {anio1} y {anio2}:')\n",
        "    for anio in range(anio1,anio2):\n",
        "      if esBisiesto(anio) and not anio % 10:\n",
        "        print(f'Año 👉🏼 {anio}')\n",
        "    \n",
        "main()"
      ],
      "metadata": {
        "colab": {
          "base_uri": "https://localhost:8080/"
        },
        "id": "-MTTFpdmGtWj",
        "outputId": "2bcb1b94-da97-4c26-eee1-eabf26066f0f"
      },
      "execution_count": null,
      "outputs": [
        {
          "output_type": "stream",
          "name": "stdout",
          "text": [
            "Ingrese año: 2088\n",
            "Ingrese año: 1904\n",
            "Años bisiestos y múltiplos de 10 entre 1904 y 2088:\n",
            "Año 👉🏼 1920\n",
            "Año 👉🏼 1940\n",
            "Año 👉🏼 1960\n",
            "Año 👉🏼 1980\n",
            "Año 👉🏼 2000\n",
            "Año 👉🏼 2020\n",
            "Año 👉🏼 2040\n",
            "Año 👉🏼 2060\n",
            "Año 👉🏼 2080\n"
          ]
        }
      ]
    },
    {
      "cell_type": "markdown",
      "source": [
        "13. Un grupo de amigos decide organizar un juego de estrategia, para lo cual forman dos equipos de 6 integrantes cada uno, donde un integrante de cada equipo es el “jefe” y los otros 5 son sus “oficiales”. La regla más importante del juego es que sólo se comunicarán mediante un canal común, por lo que deben buscar la forma de ocultar el contenido de sus mensajes. Uno de los equipos decide utilizar un método antiguo de encriptación llamado “la cifra del césar”, que consiste en correr cada letra del mensaje –considerando la posición de cada una en el alfabeto– una determinada cantidad de lugares. Ejemplo: si el corrimiento es de 2 lugares, la palabra “ATAQUE” se transforma en “CVCSWG”.\n",
        "Cada día, el “jefe” del equipo debe enviar un mensaje a cada uno de sus oficiales. Escribir un programa que permita encriptar los 5 mensajes. El corrimiento (cantidad de lugares que se correrán las letras) será dado por el usuario antes de comenzar a encriptar. Los 5 mensajes usarán el mismo corrimiento.\n",
        "Nota: si el alfabeto termina antes de poder correr la cantidad de lugares necesarios, se vuelve a comenzar desde la letra “a”. Ejemplo: la palabra “EXTRA” corrida 3 lugares se convierte en “HAWUD”. Utilizando el alfabeto español, de 27 letras, el siguiente cálculo matemático permite volver a comenzar por el principio una vez que se llegó a la “z”: (índice de la letra a correr+corrimiento)%27\n",
        "Sólo se encriptarán las letras de los mensajes, dejando al resto de caracteres sin modificación."
      ],
      "metadata": {
        "id": "LM4CeYmyoehu"
      }
    },
    {
      "cell_type": "code",
      "source": [
        "def obtenerAlfabeto() -> list:\n",
        "  alfabeto = []\n",
        "  for i in range(97,123):\n",
        "    alfabeto.append(chr(i))\n",
        "  return alfabeto\n",
        "\n",
        "def encriptar(palabra: str, corrimiento: int) -> str:\n",
        "  alfabeto = obtenerAlfabeto()\n",
        "  letras = list(palabra.lower())\n",
        "  palabraEncriptada = ''\n",
        "  for i in range(len(letras)):\n",
        "    if letras[i].isalpha():\n",
        "      posAlfabeto = alfabeto.index(letras[i])\n",
        "      posNueva    = (posAlfabeto + corrimiento) % 26\n",
        "      palabraEncriptada += alfabeto[posNueva]\n",
        "    else:\n",
        "      palabraEncriptada += letras[i]\n",
        "  return palabraEncriptada\n",
        "\n",
        "def encriptarMensaje(mensaje: str, corrimiento: int) -> str:\n",
        "  listaPalabras = mensaje.split(' ')\n",
        "  listaCesar    = []\n",
        "  for palabra in listaPalabras:\n",
        "    listaCesar.append(encriptar(palabra,corrimiento))\n",
        "  return ' '.join(listaCesar).upper()\n",
        "\n",
        "def main():\n",
        "  mensaje = input('Mensaje: ')\n",
        "  corrimiento = int(input('Corrimiento: '))\n",
        "  print(f'Mensaje encriptado: {encriptarMensaje(mensaje, corrimiento)}')\n",
        "\n",
        "main()"
      ],
      "metadata": {
        "colab": {
          "base_uri": "https://localhost:8080/"
        },
        "id": "uCOE-VGZogZU",
        "outputId": "7dd32574-789a-41ea-ff4f-3ef2a3b1b7d1"
      },
      "execution_count": 58,
      "outputs": [
        {
          "output_type": "stream",
          "name": "stdout",
          "text": [
            "Mensaje: EXTRA!! EXTRA!! ATAQUE INMINENTE\n",
            "Corrimiento: 3\n",
            "Mensaje encriptado: HAWUD!! HAWUD!! DWDTXH LQPLQHQWH\n"
          ]
        }
      ]
    }
  ]
}