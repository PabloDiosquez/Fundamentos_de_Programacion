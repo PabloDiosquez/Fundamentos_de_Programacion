{
  "nbformat": 4,
  "nbformat_minor": 0,
  "metadata": {
    "colab": {
      "provenance": [],
      "authorship_tag": "ABX9TyMa5/wr31RL1cmS5uqS6rwc",
      "include_colab_link": true
    },
    "kernelspec": {
      "name": "python3",
      "display_name": "Python 3"
    },
    "language_info": {
      "name": "python"
    }
  },
  "cells": [
    {
      "cell_type": "markdown",
      "metadata": {
        "id": "view-in-github",
        "colab_type": "text"
      },
      "source": [
        "<a href=\"https://colab.research.google.com/github/PabloDiosquez/Fundamentos_de_Programacion/blob/main/Ejercicios_Sueltos_01.ipynb\" target=\"_parent\"><img src=\"https://colab.research.google.com/assets/colab-badge.svg\" alt=\"Open In Colab\"/></a>"
      ]
    },
    {
      "cell_type": "markdown",
      "source": [
        "If we list all the natural numbers below 10 that are multiples of 3 or 5, we get 3,5,6 and 9. The sum of these multiples is 23. \n",
        "\n",
        "Find the sum of all multiples of 3 or 5 below 1000."
      ],
      "metadata": {
        "id": "3jUcE-KVg3aj"
      }
    },
    {
      "cell_type": "code",
      "execution_count": 7,
      "metadata": {
        "colab": {
          "base_uri": "https://localhost:8080/"
        },
        "id": "2rw34G7HbPSD",
        "outputId": "06afe67d-0534-460a-e7dd-80f5c243766a"
      },
      "outputs": [
        {
          "output_type": "execute_result",
          "data": {
            "text/plain": [
              "233168"
            ]
          },
          "metadata": {},
          "execution_count": 7
        }
      ],
      "source": [
        "def sum_of_multiples_below(x):\n",
        "  sum = 0\n",
        "  for i in range(x):\n",
        "    if (not i % 3) or (not i % 5):\n",
        "      sum += i\n",
        "  \n",
        "  return sum\n",
        "\n",
        "sum_of_multiples_below(1000)"
      ]
    }
  ]
}