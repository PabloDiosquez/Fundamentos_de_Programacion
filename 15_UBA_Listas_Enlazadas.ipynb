{
  "nbformat": 4,
  "nbformat_minor": 0,
  "metadata": {
    "colab": {
      "provenance": [],
      "authorship_tag": "ABX9TyNJW38x/OXTJcahNdWAQUQW",
      "include_colab_link": true
    },
    "kernelspec": {
      "name": "python3",
      "display_name": "Python 3"
    },
    "language_info": {
      "name": "python"
    }
  },
  "cells": [
    {
      "cell_type": "markdown",
      "metadata": {
        "id": "view-in-github",
        "colab_type": "text"
      },
      "source": [
        "<a href=\"https://colab.research.google.com/github/PabloDiosquez/Fundamentos_de_Programacion/blob/main/15_UBA_Listas_Enlazadas.ipynb\" target=\"_parent\"><img src=\"https://colab.research.google.com/assets/colab-badge.svg\" alt=\"Open In Colab\"/></a>"
      ]
    },
    {
      "cell_type": "markdown",
      "source": [
        "# Nodo 🧐 \n",
        "**<dato | referencia>**"
      ],
      "metadata": {
        "id": "IOYp7ATZHz7A"
      }
    },
    {
      "cell_type": "code",
      "source": [
        "class Nodo:\n",
        "  def __init__(self, dato, prox):\n",
        "    self.dato = dato\n",
        "    self.prox = prox\n",
        "\n",
        "  def __str__(self):\n",
        "    return f'Nodo({self.dato})'\n",
        "\n",
        "n2 = Nodo('b', None)\n",
        "n1 = Nodo('a', n2)\n",
        "print(n1.prox.dato)\n",
        "\n",
        "n1 = Nodo('a', Nodo('b', Nodo('c', None))) # 👉 sólo tengo la referencia al nodo 1\n",
        "print(n1.prox.prox.dato)\n",
        "print(str(n1))\n",
        "print(str(n1.prox))\n",
        "print(str(n1.prox.prox))\n",
        "print(str(n1.prox.prox.prox))"
      ],
      "metadata": {
        "colab": {
          "base_uri": "https://localhost:8080/"
        },
        "id": "_v8f752yH-7o",
        "outputId": "172fc5e4-9216-4039-f513-762a4e7e9c4c"
      },
      "execution_count": 12,
      "outputs": [
        {
          "output_type": "stream",
          "name": "stdout",
          "text": [
            "b\n",
            "c\n",
            "Nodo(a)\n",
            "Nodo(b)\n",
            "Nodo(c)\n",
            "None\n"
          ]
        }
      ]
    }
  ]
}