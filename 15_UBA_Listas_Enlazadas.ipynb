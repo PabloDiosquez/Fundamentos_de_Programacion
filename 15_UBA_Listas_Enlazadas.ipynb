{
  "nbformat": 4,
  "nbformat_minor": 0,
  "metadata": {
    "colab": {
      "provenance": [],
      "authorship_tag": "ABX9TyNMtlTEVgI/cnCOs24y012a",
      "include_colab_link": true
    },
    "kernelspec": {
      "name": "python3",
      "display_name": "Python 3"
    },
    "language_info": {
      "name": "python"
    }
  },
  "cells": [
    {
      "cell_type": "markdown",
      "metadata": {
        "id": "view-in-github",
        "colab_type": "text"
      },
      "source": [
        "<a href=\"https://colab.research.google.com/github/PabloDiosquez/Fundamentos_de_Programacion/blob/main/15_UBA_Listas_Enlazadas.ipynb\" target=\"_parent\"><img src=\"https://colab.research.google.com/assets/colab-badge.svg\" alt=\"Open In Colab\"/></a>"
      ]
    },
    {
      "cell_type": "markdown",
      "source": [
        "# Nodos 🧐 \n",
        "**<dato | referencia>**"
      ],
      "metadata": {
        "id": "IOYp7ATZHz7A"
      }
    },
    {
      "cell_type": "code",
      "source": [
        "# ✅ Debe estar encapsulado, porque es un detalle interno de implementación.\n",
        "class _Nodo:\n",
        "  def __init__(self, dato, prox):\n",
        "    self.dato = dato\n",
        "    self.prox = prox\n",
        "\n",
        "  def __str__(self):\n",
        "    return f'Nodo({self.dato})'\n",
        "\n",
        "n2 = _Nodo('b', None)\n",
        "n1 = _Nodo('a', n2)\n",
        "print(n1.prox.dato)\n",
        "\n",
        "n1 = _Nodo('a', _Nodo('b', _Nodo('c', None))) # 👉 sólo tengo la referencia al nodo 1\n",
        "print(n1.prox.prox.dato)\n",
        "print(str(n1))\n",
        "print(str(n1.prox))\n",
        "print(str(n1.prox.prox))\n",
        "print(str(n1.prox.prox.prox)) "
      ],
      "metadata": {
        "colab": {
          "base_uri": "https://localhost:8080/"
        },
        "id": "_v8f752yH-7o",
        "outputId": "bb283f9a-93b4-41f3-b110-35f47c3f4329"
      },
      "execution_count": 15,
      "outputs": [
        {
          "output_type": "stream",
          "name": "stdout",
          "text": [
            "b\n",
            "c\n",
            "Nodo(a)\n",
            "Nodo(b)\n",
            "Nodo(c)\n",
            "None\n"
          ]
        }
      ]
    },
    {
      "cell_type": "code",
      "source": [
        "class ListaEnlazada:\n",
        "  def __init__(self):\n",
        "    self.prim = None  # 👉 Referencia al primer nodo\n",
        "\n",
        "    # invariante de representación de la clase: cant == cantidad de nodos\n",
        "    self.cant = 0\n",
        "\n",
        "  def append(self, dato):\n",
        "    nuevo = _Nodo(dato, None)\n",
        "    if self.prim is None:\n",
        "      # lista vacía\n",
        "      self.prim = nuevo # siempre que haya X.Y 👀 X NO puede ser None\n",
        "    else:\n",
        "      # lista no vacía\n",
        "      act = self.prim\n",
        "      while act.prox is not None:  \n",
        "        act = act.prox\n",
        "      # ahora act es el último nodo\n",
        "      act.prox = nuevo\n",
        "\n",
        "    self.cant += 1\n",
        "\n",
        "  def __len__(self): \n",
        "    # n = 0\n",
        "    # act = self.prim\n",
        "    # while act is not None:\n",
        "    #   n += 1\n",
        "    #   act = act.prox\n",
        "    # return n # >>> O(n)\n",
        "    return self.cant # >>> O(1)"
      ],
      "metadata": {
        "id": "jy195pJDK1Ai"
      },
      "execution_count": 48,
      "outputs": []
    },
    {
      "cell_type": "code",
      "source": [
        "L = ListaEnlazada()\n",
        "L.append(8)\n",
        "L.append('a')\n",
        "L.append(None)\n",
        "print(str(L.prim))\n",
        "print(str(L.prim.prox))\n",
        "print(str(L.prim.prox.prox))\n",
        "print(str(L.prim.prox.prox.prox))\n",
        "# print(str(L.prim.prox.prox.prox)) >>> Error L.prim.prox.prox es None\n",
        "len(L)"
      ],
      "metadata": {
        "colab": {
          "base_uri": "https://localhost:8080/"
        },
        "id": "WlczJL3dXQcA",
        "outputId": "993e517f-0dcf-46f1-ee45-85b40c412c2b"
      },
      "execution_count": 49,
      "outputs": [
        {
          "output_type": "stream",
          "name": "stdout",
          "text": [
            "Nodo(8)\n",
            "Nodo(a)\n",
            "Nodo(None)\n",
            "None\n"
          ]
        },
        {
          "output_type": "execute_result",
          "data": {
            "text/plain": [
              "3"
            ]
          },
          "metadata": {},
          "execution_count": 49
        }
      ]
    },
    {
      "cell_type": "markdown",
      "source": [
        "**Iteradores**\n",
        "```\n",
        "iterador = iter(iterable)\n",
        "while True:\n",
        "    try:\n",
        "        x = next(iterador)\n",
        "    except StopIteration:\n",
        "        break\n",
        "    <...>\n",
        "```\n",
        "\n"
      ],
      "metadata": {
        "id": "NbD8MQadfkct"
      }
    }
  ]
}